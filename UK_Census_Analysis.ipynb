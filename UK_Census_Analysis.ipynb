{
 "cells": [
  {
   "cell_type": "markdown",
   "id": "eff6eae1",
   "metadata": {},
   "source": [
    "# Fundamentals of Data Science\n",
    "# Student : 202105197\n",
    "# Name : Dontoh Jude"
   ]
  },
  {
   "cell_type": "code",
   "execution_count": 1,
   "id": "dd8ed69d",
   "metadata": {},
   "outputs": [],
   "source": [
    "import csv\n",
    "import pandas as pd\n",
    "import seaborn as sns\n",
    "import matplotlib.pyplot as plt\n",
    "%matplotlib inline\n",
    "from matplotlib import ticker\n",
    "import numpy as np"
   ]
  },
  {
   "cell_type": "markdown",
   "id": "103134e1",
   "metadata": {},
   "source": [
    "### Reading the census data"
   ]
  },
  {
   "cell_type": "code",
   "execution_count": 2,
   "id": "b9086934",
   "metadata": {},
   "outputs": [
    {
     "data": {
      "text/plain": [
       "House Number                        0\n",
       "Street                              0\n",
       "First Name                          0\n",
       "Surname                             0\n",
       "Age                                 0\n",
       "Relationship to Head of House       0\n",
       "Marital Status                   2085\n",
       "Gender                              0\n",
       "Occupation                          0\n",
       "Infirmity                           0\n",
       "Religion                         2132\n",
       "dtype: int64"
      ]
     },
     "execution_count": 2,
     "metadata": {},
     "output_type": "execute_result"
    }
   ],
   "source": [
    "df_original = pd.read_csv(\"census20.csv\")\n",
    "df = df_original.copy()   #this copies the original data\n",
    "\n",
    "df.isna().sum()"
   ]
  },
  {
   "cell_type": "code",
   "execution_count": 3,
   "id": "27e1d740",
   "metadata": {},
   "outputs": [
    {
     "data": {
      "text/html": [
       "<div>\n",
       "<style scoped>\n",
       "    .dataframe tbody tr th:only-of-type {\n",
       "        vertical-align: middle;\n",
       "    }\n",
       "\n",
       "    .dataframe tbody tr th {\n",
       "        vertical-align: top;\n",
       "    }\n",
       "\n",
       "    .dataframe thead th {\n",
       "        text-align: right;\n",
       "    }\n",
       "</style>\n",
       "<table border=\"1\" class=\"dataframe\">\n",
       "  <thead>\n",
       "    <tr style=\"text-align: right;\">\n",
       "      <th></th>\n",
       "      <th>House Number</th>\n",
       "      <th>Street</th>\n",
       "      <th>First Name</th>\n",
       "      <th>Surname</th>\n",
       "      <th>Age</th>\n",
       "      <th>Relationship to Head of House</th>\n",
       "      <th>Marital Status</th>\n",
       "      <th>Gender</th>\n",
       "      <th>Occupation</th>\n",
       "      <th>Infirmity</th>\n",
       "      <th>Religion</th>\n",
       "    </tr>\n",
       "  </thead>\n",
       "  <tbody>\n",
       "    <tr>\n",
       "      <th>0</th>\n",
       "      <td>1</td>\n",
       "      <td>Turkey Gardens</td>\n",
       "      <td>Alexander</td>\n",
       "      <td>Macdonald</td>\n",
       "      <td>21.0</td>\n",
       "      <td>Head</td>\n",
       "      <td>Married</td>\n",
       "      <td>Male</td>\n",
       "      <td>Sports development officer</td>\n",
       "      <td>None</td>\n",
       "      <td>None</td>\n",
       "    </tr>\n",
       "    <tr>\n",
       "      <th>1</th>\n",
       "      <td>1</td>\n",
       "      <td>Turkey Gardens</td>\n",
       "      <td>Yvonne</td>\n",
       "      <td>Macdonald</td>\n",
       "      <td>19.0</td>\n",
       "      <td>Wife</td>\n",
       "      <td>Married</td>\n",
       "      <td>Female</td>\n",
       "      <td>University Student</td>\n",
       "      <td>None</td>\n",
       "      <td>None</td>\n",
       "    </tr>\n",
       "    <tr>\n",
       "      <th>2</th>\n",
       "      <td>2</td>\n",
       "      <td>Turkey Gardens</td>\n",
       "      <td>Louise</td>\n",
       "      <td>Taylor</td>\n",
       "      <td>38.0</td>\n",
       "      <td>Head</td>\n",
       "      <td>Divorced</td>\n",
       "      <td>Female</td>\n",
       "      <td>Mining engineer</td>\n",
       "      <td>None</td>\n",
       "      <td>Christian</td>\n",
       "    </tr>\n",
       "    <tr>\n",
       "      <th>3</th>\n",
       "      <td>2</td>\n",
       "      <td>Turkey Gardens</td>\n",
       "      <td>Philip</td>\n",
       "      <td>Harding</td>\n",
       "      <td>55.0</td>\n",
       "      <td>Visitor</td>\n",
       "      <td>Single</td>\n",
       "      <td>Male</td>\n",
       "      <td>Quarry manager</td>\n",
       "      <td>None</td>\n",
       "      <td>Christian</td>\n",
       "    </tr>\n",
       "    <tr>\n",
       "      <th>4</th>\n",
       "      <td>3</td>\n",
       "      <td>Turkey Gardens</td>\n",
       "      <td>Rachael</td>\n",
       "      <td>Evans</td>\n",
       "      <td>78.0</td>\n",
       "      <td>Head</td>\n",
       "      <td>Widowed</td>\n",
       "      <td>Female</td>\n",
       "      <td>Retired Freight forwarder</td>\n",
       "      <td>None</td>\n",
       "      <td>Christian</td>\n",
       "    </tr>\n",
       "  </tbody>\n",
       "</table>\n",
       "</div>"
      ],
      "text/plain": [
       "   House Number          Street First Name    Surname   Age  \\\n",
       "0             1  Turkey Gardens  Alexander  Macdonald  21.0   \n",
       "1             1  Turkey Gardens     Yvonne  Macdonald  19.0   \n",
       "2             2  Turkey Gardens     Louise     Taylor  38.0   \n",
       "3             2  Turkey Gardens     Philip    Harding  55.0   \n",
       "4             3  Turkey Gardens    Rachael      Evans  78.0   \n",
       "\n",
       "  Relationship to Head of House Marital Status  Gender  \\\n",
       "0                          Head        Married    Male   \n",
       "1                          Wife        Married  Female   \n",
       "2                          Head       Divorced  Female   \n",
       "3                       Visitor         Single    Male   \n",
       "4                          Head        Widowed  Female   \n",
       "\n",
       "                   Occupation Infirmity   Religion  \n",
       "0  Sports development officer      None       None  \n",
       "1          University Student      None       None  \n",
       "2             Mining engineer      None  Christian  \n",
       "3              Quarry manager      None  Christian  \n",
       "4   Retired Freight forwarder      None  Christian  "
      ]
     },
     "execution_count": 3,
     "metadata": {},
     "output_type": "execute_result"
    }
   ],
   "source": [
    "#Overview of the data\n",
    "df.head()"
   ]
  },
  {
   "cell_type": "code",
   "execution_count": 4,
   "id": "291cad2e",
   "metadata": {
    "scrolled": true
   },
   "outputs": [
    {
     "name": "stdout",
     "output_type": "stream",
     "text": [
      "<class 'pandas.core.frame.DataFrame'>\n",
      "RangeIndex: 8577 entries, 0 to 8576\n",
      "Data columns (total 11 columns):\n",
      " #   Column                         Non-Null Count  Dtype  \n",
      "---  ------                         --------------  -----  \n",
      " 0   House Number                   8577 non-null   int64  \n",
      " 1   Street                         8577 non-null   object \n",
      " 2   First Name                     8577 non-null   object \n",
      " 3   Surname                        8577 non-null   object \n",
      " 4   Age                            8577 non-null   float64\n",
      " 5   Relationship to Head of House  8577 non-null   object \n",
      " 6   Marital Status                 6492 non-null   object \n",
      " 7   Gender                         8577 non-null   object \n",
      " 8   Occupation                     8577 non-null   object \n",
      " 9   Infirmity                      8577 non-null   object \n",
      " 10  Religion                       6445 non-null   object \n",
      "dtypes: float64(1), int64(1), object(9)\n",
      "memory usage: 737.2+ KB\n"
     ]
    }
   ],
   "source": [
    "df.info()"
   ]
  },
  {
   "cell_type": "code",
   "execution_count": 5,
   "id": "89318d0b",
   "metadata": {
    "scrolled": true
   },
   "outputs": [
    {
     "data": {
      "text/plain": [
       "Index(['House Number', 'Street', 'First Name', 'Surname', 'Age',\n",
       "       'Relationship to Head of House', 'Marital Status', 'Gender',\n",
       "       'Occupation', 'Infirmity', 'Religion'],\n",
       "      dtype='object')"
      ]
     },
     "execution_count": 5,
     "metadata": {},
     "output_type": "execute_result"
    }
   ],
   "source": [
    "df.columns"
   ]
  },
  {
   "cell_type": "markdown",
   "id": "f67c200e",
   "metadata": {},
   "source": [
    "# Cleaning the data\n",
    "\n",
    "### Checking for empty cells\n",
    "### Making assumptions to replace them when necessary"
   ]
  },
  {
   "cell_type": "markdown",
   "id": "7db5e989",
   "metadata": {},
   "source": [
    "## House Number"
   ]
  },
  {
   "cell_type": "code",
   "execution_count": 6,
   "id": "f9a40484",
   "metadata": {},
   "outputs": [
    {
     "data": {
      "text/plain": [
       "0"
      ]
     },
     "execution_count": 6,
     "metadata": {},
     "output_type": "execute_result"
    }
   ],
   "source": [
    "df['House Number'].isnull().sum()"
   ]
  },
  {
   "cell_type": "code",
   "execution_count": 7,
   "id": "81acee25",
   "metadata": {},
   "outputs": [
    {
     "data": {
      "text/plain": [
       "array([  1,   2,   3,   4,   5,   6,   7,   8,   9,  10,  11,  12,  13,\n",
       "        14,  15,  16,  17,  18,  19,  20,  21,  22,  23,  24,  25,  26,\n",
       "        27,  28,  29,  30,  31,  32,  33,  34,  35,  36,  37,  38,  39,\n",
       "        40,  41,  42,  43,  44,  45,  46,  47,  48,  49,  50,  51,  52,\n",
       "        53,  54,  55,  56,  57,  58,  59,  60,  61,  62,  63,  64,  65,\n",
       "        66,  67,  68,  69,  70,  71,  72,  73,  74,  75,  76,  77,  78,\n",
       "        79,  80,  81,  82,  83,  84,  85,  86,  87,  88,  89,  90,  91,\n",
       "        92,  93,  94,  95,  96,  97,  98,  99, 100, 101, 102, 103, 104,\n",
       "       105, 106, 107, 108, 109, 110, 111, 112, 113, 114, 115, 116, 117,\n",
       "       118, 119, 120, 121, 122, 123, 124, 125, 126, 127, 128, 129, 130,\n",
       "       131, 132, 133, 134, 135, 136, 137, 138, 139, 140, 141, 142, 143,\n",
       "       144, 145, 146, 147, 148, 149, 150, 151, 152, 153, 154, 155, 156,\n",
       "       157, 158, 159, 160, 161, 162, 163, 164, 165, 166, 167, 168, 169,\n",
       "       170, 171, 172, 173, 174, 175, 176, 177, 178, 179, 180, 181, 182,\n",
       "       183, 184, 185, 186, 187, 188, 189, 190, 191, 192, 193, 194, 195,\n",
       "       196, 197, 198, 199, 200, 201, 202, 203, 204, 205, 206, 207, 208,\n",
       "       209, 210, 211, 212, 213, 214, 215, 216, 217, 218, 219, 220],\n",
       "      dtype=int64)"
      ]
     },
     "execution_count": 7,
     "metadata": {},
     "output_type": "execute_result"
    }
   ],
   "source": [
    "df['House Number'].unique()"
   ]
  },
  {
   "cell_type": "code",
   "execution_count": 8,
   "id": "74faaf27",
   "metadata": {
    "scrolled": true
   },
   "outputs": [
    {
     "data": {
      "text/plain": [
       "1      322\n",
       "4      269\n",
       "6      244\n",
       "3      243\n",
       "7      237\n",
       "      ... \n",
       "202      3\n",
       "220      3\n",
       "200      2\n",
       "215      1\n",
       "203      1\n",
       "Name: House Number, Length: 220, dtype: int64"
      ]
     },
     "execution_count": 8,
     "metadata": {},
     "output_type": "execute_result"
    }
   ],
   "source": [
    "df['House Number'].value_counts()"
   ]
  },
  {
   "cell_type": "code",
   "execution_count": 9,
   "id": "6c24bff6",
   "metadata": {},
   "outputs": [
    {
     "data": {
      "text/html": [
       "<div>\n",
       "<style scoped>\n",
       "    .dataframe tbody tr th:only-of-type {\n",
       "        vertical-align: middle;\n",
       "    }\n",
       "\n",
       "    .dataframe tbody tr th {\n",
       "        vertical-align: top;\n",
       "    }\n",
       "\n",
       "    .dataframe thead th {\n",
       "        text-align: right;\n",
       "    }\n",
       "</style>\n",
       "<table border=\"1\" class=\"dataframe\">\n",
       "  <thead>\n",
       "    <tr style=\"text-align: right;\">\n",
       "      <th></th>\n",
       "      <th>House Number</th>\n",
       "      <th>Street</th>\n",
       "      <th>First Name</th>\n",
       "      <th>Surname</th>\n",
       "      <th>Age</th>\n",
       "      <th>Relationship to Head of House</th>\n",
       "      <th>Marital Status</th>\n",
       "      <th>Gender</th>\n",
       "      <th>Occupation</th>\n",
       "      <th>Infirmity</th>\n",
       "      <th>Religion</th>\n",
       "    </tr>\n",
       "  </thead>\n",
       "  <tbody>\n",
       "  </tbody>\n",
       "</table>\n",
       "</div>"
      ],
      "text/plain": [
       "Empty DataFrame\n",
       "Columns: [House Number, Street, First Name, Surname, Age, Relationship to Head of House, Marital Status, Gender, Occupation, Infirmity, Religion]\n",
       "Index: []"
      ]
     },
     "execution_count": 9,
     "metadata": {},
     "output_type": "execute_result"
    }
   ],
   "source": [
    "# This captures the empty cells with space buttom\n",
    "df[df['House Number']== ' ']"
   ]
  },
  {
   "cell_type": "markdown",
   "id": "fec82083",
   "metadata": {},
   "source": [
    "## Street"
   ]
  },
  {
   "cell_type": "code",
   "execution_count": 10,
   "id": "04ec90b8",
   "metadata": {
    "scrolled": true
   },
   "outputs": [
    {
     "data": {
      "text/plain": [
       "Faith Street            708\n",
       "Lancelot Summit         643\n",
       "Column Avenue           477\n",
       "Harvey Dale             275\n",
       "Whitehall Road          240\n",
       "                       ... \n",
       "Baker Warehouse           4\n",
       "Edwards Delve             3\n",
       "Jenkins Warehouse         2\n",
       "Peterborough Bastion      2\n",
       "Humphreys Farmhouse       1\n",
       "Name: Street, Length: 104, dtype: int64"
      ]
     },
     "execution_count": 10,
     "metadata": {},
     "output_type": "execute_result"
    }
   ],
   "source": [
    "df['Street'].value_counts()"
   ]
  },
  {
   "cell_type": "code",
   "execution_count": 11,
   "id": "42deae8b",
   "metadata": {},
   "outputs": [
    {
     "data": {
      "text/plain": [
       "0"
      ]
     },
     "execution_count": 11,
     "metadata": {},
     "output_type": "execute_result"
    }
   ],
   "source": [
    "df['Street'].isnull().sum()"
   ]
  },
  {
   "cell_type": "code",
   "execution_count": 12,
   "id": "76c28c45",
   "metadata": {},
   "outputs": [
    {
     "data": {
      "text/html": [
       "<div>\n",
       "<style scoped>\n",
       "    .dataframe tbody tr th:only-of-type {\n",
       "        vertical-align: middle;\n",
       "    }\n",
       "\n",
       "    .dataframe tbody tr th {\n",
       "        vertical-align: top;\n",
       "    }\n",
       "\n",
       "    .dataframe thead th {\n",
       "        text-align: right;\n",
       "    }\n",
       "</style>\n",
       "<table border=\"1\" class=\"dataframe\">\n",
       "  <thead>\n",
       "    <tr style=\"text-align: right;\">\n",
       "      <th></th>\n",
       "      <th>House Number</th>\n",
       "      <th>Street</th>\n",
       "      <th>First Name</th>\n",
       "      <th>Surname</th>\n",
       "      <th>Age</th>\n",
       "      <th>Relationship to Head of House</th>\n",
       "      <th>Marital Status</th>\n",
       "      <th>Gender</th>\n",
       "      <th>Occupation</th>\n",
       "      <th>Infirmity</th>\n",
       "      <th>Religion</th>\n",
       "    </tr>\n",
       "  </thead>\n",
       "  <tbody>\n",
       "  </tbody>\n",
       "</table>\n",
       "</div>"
      ],
      "text/plain": [
       "Empty DataFrame\n",
       "Columns: [House Number, Street, First Name, Surname, Age, Relationship to Head of House, Marital Status, Gender, Occupation, Infirmity, Religion]\n",
       "Index: []"
      ]
     },
     "execution_count": 12,
     "metadata": {},
     "output_type": "execute_result"
    }
   ],
   "source": [
    "df[df['Street'].str.isspace()]"
   ]
  },
  {
   "cell_type": "code",
   "execution_count": 13,
   "id": "23d1f5d7",
   "metadata": {},
   "outputs": [
    {
     "data": {
      "text/plain": [
       "0"
      ]
     },
     "execution_count": 13,
     "metadata": {},
     "output_type": "execute_result"
    }
   ],
   "source": [
    "(df['Street'] == ' ').sum()"
   ]
  },
  {
   "cell_type": "code",
   "execution_count": 14,
   "id": "b2e308fe",
   "metadata": {
    "scrolled": true
   },
   "outputs": [
    {
     "data": {
      "text/plain": [
       "array(['Turkey Gardens', 'Howarth Drive', 'Knight Greens', 'Ahmed Haven',\n",
       "       'Summer Crescent', 'Dunn Spur', 'Barlow Pike', 'Charlton Avenue',\n",
       "       'Steele Falls', 'Marsh Road', 'Aberdeen Knolls', 'Column Avenue',\n",
       "       'Singh Forge', 'Polaris Crescent', 'Chemist Port', 'Webster Drive',\n",
       "       'Wilson Forge', 'Haymarketbond Road', 'Chapman Trace',\n",
       "       'Rosetap Road', 'Knight Corner', 'Silverpush Crescent',\n",
       "       'Wilson Views', 'Faith Street', 'Clearwater Road', 'Allen Drive',\n",
       "       'Parrot Crescent', 'Unitedpack Lane', 'Obelisk Orchard',\n",
       "       'George Drive', 'Harvey Dale', 'Francis Field', 'Hughes Road',\n",
       "       'Wales Crescent', 'Corporation Road', 'Edwards Points',\n",
       "       'Stoke Harbors', 'Dundee Pass', 'Stationloom Street',\n",
       "       'Coconut Keys', 'James Rapid', 'Goldfinch Avenue',\n",
       "       'Aethelstan Pass', 'Penny Square', 'May Road', 'Ryan Greens',\n",
       "       'Smith Divide', 'Wright Road', 'Unity Avenue',\n",
       "       'Westminstertun Crescent', 'Cannon Groves', 'Snapdragon Drive',\n",
       "       'Davies Rapids', 'Roberts Drives', 'Read Wells', 'Smith Vista',\n",
       "       'Repton Drive', 'Summerrow Road', 'Lightning Causeway',\n",
       "       'Charity Road', 'Knight River', 'Whitehall Road', 'Iron Point',\n",
       "       'Salisbury Manor', 'Pugh Drive', 'Gill Hill', 'December Road',\n",
       "       'Young Drive', 'Bishop Lane', 'Moore Forges', 'Morgan Mill',\n",
       "       'Bennett Squares', 'Egbert Trafficway', 'Lambert Circle',\n",
       "       'Salford Curve', 'Marigold Street', 'Minster Road',\n",
       "       'Lancelot Summit', 'Windy Skyway', 'Hussain Street',\n",
       "       'Pantherchain Lane', 'Moss Drive', 'Waterloo Park',\n",
       "       'Bishop Tunnel', 'Lees Drive', 'Potts Valley', 'Kennedy Freeway',\n",
       "       'Williams Plains', 'Albans Crescent', 'Baker Warehouse',\n",
       "       'Coates Mansion', 'Jenkins Warehouse', 'Humphreys Farmhouse',\n",
       "       'Iris Castle', 'Peterborough Bastion', 'West Fortress',\n",
       "       'Riley Lighthouse', 'William Farmhouse', 'Edwards Delve',\n",
       "       'Yates Windmill', 'Reindeer Folly', 'Norwich Bastion',\n",
       "       'Simmons Delve', 'Lomond Manor'], dtype=object)"
      ]
     },
     "execution_count": 14,
     "metadata": {},
     "output_type": "execute_result"
    }
   ],
   "source": [
    "df['Street'].unique()"
   ]
  },
  {
   "cell_type": "markdown",
   "id": "6a29cf9e",
   "metadata": {},
   "source": [
    "## First Name"
   ]
  },
  {
   "cell_type": "code",
   "execution_count": 15,
   "id": "b795185a",
   "metadata": {},
   "outputs": [
    {
     "data": {
      "text/plain": [
       "Anna         41\n",
       "Geraldine    38\n",
       "Leanne       36\n",
       "Frank        36\n",
       "Conor        36\n",
       "             ..\n",
       "Paige        12\n",
       "Stuart       12\n",
       "Ellie        12\n",
       "Bradley      12\n",
       "Maria        10\n",
       "Name: First Name, Length: 364, dtype: int64"
      ]
     },
     "execution_count": 15,
     "metadata": {},
     "output_type": "execute_result"
    }
   ],
   "source": [
    "df['First Name'].value_counts()"
   ]
  },
  {
   "cell_type": "code",
   "execution_count": 16,
   "id": "f16f21b3",
   "metadata": {},
   "outputs": [
    {
     "data": {
      "text/plain": [
       "0"
      ]
     },
     "execution_count": 16,
     "metadata": {},
     "output_type": "execute_result"
    }
   ],
   "source": [
    "df['First Name'].isnull().sum()\n"
   ]
  },
  {
   "cell_type": "code",
   "execution_count": 17,
   "id": "aa231fb2",
   "metadata": {
    "scrolled": true
   },
   "outputs": [
    {
     "data": {
      "text/plain": [
       "array(['Alexander', 'Yvonne', 'Louise', 'Philip', 'Rachael', 'Hugh',\n",
       "       'Graham', 'Alexandra', 'Holly', 'Martyn', 'Katie', 'Maureen',\n",
       "       'Lucy', 'Sean', 'Christian', 'Georgina', 'Ben', 'Jill', 'Julia',\n",
       "       'Gerard', 'Hilary', 'Bryan', 'Bethan', 'Rebecca', 'Jordan',\n",
       "       'Naomi', 'Louis', 'Zoe', 'Joanna', 'Damien', 'Dominic', 'Cameron',\n",
       "       'Henry', 'Kerry', 'James', 'Joe', 'Katy', 'Anna', 'Vanessa',\n",
       "       'Pamela', 'Martin', 'Victor', 'Terry', 'Danny', 'Neil', 'Barry',\n",
       "       'Kathryn', 'Julian', 'Lesley', 'Kate', 'Dean', 'Graeme',\n",
       "       'Mitchell', 'Denise', 'Geoffrey', 'Mark', 'Emily', 'Thomas',\n",
       "       'Steven', 'Harriet', 'Derek', 'Kelly', 'Robin', 'Maria', 'Craig',\n",
       "       'Adam', 'Suzanne', 'Judith', 'Charlie', 'Josephine', 'Justin',\n",
       "       'Kimberley', 'Georgia', 'Nathan', 'Jacqueline', 'Callum',\n",
       "       'Patrick', 'Sian', 'Jodie', 'Jayne', 'Amelia', 'Lee', 'Jean',\n",
       "       'Sylvia', 'Vincent', 'Stanley', 'Frank', 'Richard', 'Carol',\n",
       "       'Geraldine', 'Douglas', 'Jasmine', 'Diana', 'Samuel', 'Susan',\n",
       "       'Francis', 'Daniel', 'Molly', 'Aimee', 'Mohammed', 'Lindsey',\n",
       "       'Dorothy', 'Sam', 'Wendy', 'Gail', 'Lydia', 'Claire', 'Marie',\n",
       "       'Ryan', 'Jane', 'Mary', 'Harry', 'Brenda', 'Debra', 'Colin',\n",
       "       'Gemma', 'Elaine', 'Charles', 'Kathleen', 'Iain', 'Frances',\n",
       "       'Brian', 'Barbara', 'Elliott', 'Deborah', 'Dylan', 'Helen',\n",
       "       'Mohamed', 'Rita', 'Danielle', 'Angela', 'Alex', 'Kevin',\n",
       "       'Abigail', 'Sally', 'Gavin', 'Amanda', 'Mathew', 'Rosie', 'Hannah',\n",
       "       'Howard', 'Ann', 'John', 'Irene', 'Leon', 'Kayleigh', 'Bernard',\n",
       "       'Kyle', 'Toby', 'Alice', 'Charlotte', 'Timothy', 'Carole', 'Jason',\n",
       "       'Marian', 'Andrea', 'Terence', 'Russell', 'Annette', 'Gareth',\n",
       "       'Ronald', 'Rosemary', 'Leigh', 'Malcolm', 'Trevor', 'Marion',\n",
       "       'Lisa', 'Jonathan', 'Jennifer', 'Chelsea', 'Luke', 'Adrian',\n",
       "       'Lewis', 'Eleanor', 'Elizabeth', 'Paige', 'Karen', 'Chloe',\n",
       "       'Joshua', 'Sara', 'Catherine', 'Joel', 'Kenneth', 'Roy', 'Owen',\n",
       "       'Josh', 'Francesca', 'Heather', 'Jack', 'George', 'Fiona', 'Allan',\n",
       "       'Mandy', 'Katherine', 'Frederick', 'Glen', 'Tom', 'Elliot',\n",
       "       'Raymond', 'Keith', 'Carolyn', 'Conor', 'Janet', 'Beth', 'Amber',\n",
       "       'Jacob', 'Lynda', 'Roger', 'Eileen', 'Glenn', 'Natasha', 'Simon',\n",
       "       'Damian', 'Shirley', 'Tracey', 'Amy', 'Linda', 'Liam', 'Marcus',\n",
       "       'Samantha', 'Max', 'Peter', 'Jemma', 'Alison', 'Darren', 'Declan',\n",
       "       'Marc', 'Jenna', 'Ruth', 'Julie', 'Matthew', 'Sarah', 'Leanne',\n",
       "       'Gerald', 'Hayley', 'Caroline', 'Carly', 'Ashley', 'Teresa',\n",
       "       'Brandon', 'Valerie', 'Gordon', 'Ellie', 'Tracy', 'Clare', 'Hazel',\n",
       "       'Lorraine', 'Olivia', 'Sharon', 'Leonard', 'Anne', 'Lawrence',\n",
       "       'Ross', 'Donna', 'David', 'Jake', 'Shannon', 'Michael', 'Melanie',\n",
       "       'Donald', 'Natalie', 'Tina', 'Nicola', 'Stewart', 'Nicholas',\n",
       "       'Dawn', 'Emma', 'Guy', 'Albert', 'Robert', 'Maurice', 'Dennis',\n",
       "       'Joseph', 'Stuart', 'Paul', 'Cheryl', 'Megan', 'Garry', 'Sandra',\n",
       "       'Connor', 'Sophie', 'Nigel', 'Rhys', 'Gillian', 'Jay', 'Ricky',\n",
       "       'Marilyn', 'Scott', 'Jessica', 'Billy', 'Nicole', 'Oliver',\n",
       "       'Phillip', 'Shane', 'Stephen', 'Christine', 'Stephanie', 'Reece',\n",
       "       'Joan', 'Christopher', 'Clifford', 'Gregory', 'Antony', 'Sheila',\n",
       "       'Kirsty', 'Kieran', 'Alan', 'Rachel', 'Paula', 'Ian', 'Pauline',\n",
       "       'Denis', 'Grace', 'Stacey', 'Lauren', 'Patricia', 'Eric', 'Jamie',\n",
       "       'Jade', 'Diane', 'Joyce', 'Tony', 'Charlene', 'June', 'Edward',\n",
       "       'Dale', 'Duncan', 'Joanne', 'Bethany', 'Bruce', 'Brett', 'Carl',\n",
       "       'Mohammad', 'Anthony', 'Lynn', 'Victoria', 'Ashleigh', 'Leah',\n",
       "       'Clive', 'Karl', 'Laura', 'Abbie', 'Michelle', 'Lynne', 'Jeremy',\n",
       "       'Jeffrey', 'Abdul', 'Beverley', 'Wayne', 'Melissa', 'William',\n",
       "       'Arthur', 'Hollie', 'Norman', 'Gary', 'Janice', 'Andrew', 'Leslie',\n",
       "       'Kim', 'Aaron', 'Benjamin', 'Shaun', 'Margaret', 'Bradley'],\n",
       "      dtype=object)"
      ]
     },
     "execution_count": 17,
     "metadata": {},
     "output_type": "execute_result"
    }
   ],
   "source": [
    "df['First Name'].unique()"
   ]
  },
  {
   "cell_type": "code",
   "execution_count": 18,
   "id": "856ec76f",
   "metadata": {},
   "outputs": [
    {
     "data": {
      "text/plain": [
       "0"
      ]
     },
     "execution_count": 18,
     "metadata": {},
     "output_type": "execute_result"
    }
   ],
   "source": [
    "(df['First Name'] == ' ').sum()"
   ]
  },
  {
   "cell_type": "markdown",
   "id": "9380bb06",
   "metadata": {},
   "source": [
    "## Surname"
   ]
  },
  {
   "cell_type": "code",
   "execution_count": 19,
   "id": "a48add2c",
   "metadata": {},
   "outputs": [
    {
     "data": {
      "text/plain": [
       "Smith            223\n",
       "Jones            187\n",
       "Williams         142\n",
       "Davies           122\n",
       "Taylor           114\n",
       "                ... \n",
       "Harrison-Hall      1\n",
       "Riley-Taylor       1\n",
       "Webb-Hall          1\n",
       "Ward-Newton        1\n",
       "Johnson-Rice       1\n",
       "Name: Surname, Length: 673, dtype: int64"
      ]
     },
     "execution_count": 19,
     "metadata": {},
     "output_type": "execute_result"
    }
   ],
   "source": [
    "df['Surname'].value_counts()"
   ]
  },
  {
   "cell_type": "code",
   "execution_count": 20,
   "id": "fb13fb51",
   "metadata": {},
   "outputs": [
    {
     "data": {
      "text/plain": [
       "0"
      ]
     },
     "execution_count": 20,
     "metadata": {},
     "output_type": "execute_result"
    }
   ],
   "source": [
    "df['Surname'].isnull().sum()"
   ]
  },
  {
   "cell_type": "markdown",
   "id": "ce79aa10",
   "metadata": {},
   "source": [
    "#### Attention: this is space not nan"
   ]
  },
  {
   "cell_type": "code",
   "execution_count": 21,
   "id": "f37aeb35",
   "metadata": {},
   "outputs": [
    {
     "data": {
      "text/html": [
       "<div>\n",
       "<style scoped>\n",
       "    .dataframe tbody tr th:only-of-type {\n",
       "        vertical-align: middle;\n",
       "    }\n",
       "\n",
       "    .dataframe tbody tr th {\n",
       "        vertical-align: top;\n",
       "    }\n",
       "\n",
       "    .dataframe thead th {\n",
       "        text-align: right;\n",
       "    }\n",
       "</style>\n",
       "<table border=\"1\" class=\"dataframe\">\n",
       "  <thead>\n",
       "    <tr style=\"text-align: right;\">\n",
       "      <th></th>\n",
       "      <th>House Number</th>\n",
       "      <th>Street</th>\n",
       "      <th>First Name</th>\n",
       "      <th>Surname</th>\n",
       "      <th>Age</th>\n",
       "      <th>Relationship to Head of House</th>\n",
       "      <th>Marital Status</th>\n",
       "      <th>Gender</th>\n",
       "      <th>Occupation</th>\n",
       "      <th>Infirmity</th>\n",
       "      <th>Religion</th>\n",
       "    </tr>\n",
       "  </thead>\n",
       "  <tbody>\n",
       "    <tr>\n",
       "      <th>5517</th>\n",
       "      <td>13</td>\n",
       "      <td>Whitehall Road</td>\n",
       "      <td>Ricky</td>\n",
       "      <td></td>\n",
       "      <td>50.0</td>\n",
       "      <td>Husband</td>\n",
       "      <td>Married</td>\n",
       "      <td>Male</td>\n",
       "      <td>Magazine journalist</td>\n",
       "      <td>None</td>\n",
       "      <td>None</td>\n",
       "    </tr>\n",
       "  </tbody>\n",
       "</table>\n",
       "</div>"
      ],
      "text/plain": [
       "      House Number          Street First Name Surname   Age  \\\n",
       "5517            13  Whitehall Road      Ricky          50.0   \n",
       "\n",
       "     Relationship to Head of House Marital Status Gender           Occupation  \\\n",
       "5517                       Husband        Married   Male  Magazine journalist   \n",
       "\n",
       "     Infirmity Religion  \n",
       "5517      None     None  "
      ]
     },
     "execution_count": 21,
     "metadata": {},
     "output_type": "execute_result"
    }
   ],
   "source": [
    "df[df['Surname'].str.isspace()]"
   ]
  },
  {
   "cell_type": "markdown",
   "id": "424b7a74",
   "metadata": {},
   "source": [
    "#### Assigning missing column by grouping similar house number and street name, thus with the assumption that they live in the same apartment"
   ]
  },
  {
   "cell_type": "code",
   "execution_count": 22,
   "id": "8d1a4913",
   "metadata": {},
   "outputs": [
    {
     "data": {
      "text/html": [
       "<div>\n",
       "<style scoped>\n",
       "    .dataframe tbody tr th:only-of-type {\n",
       "        vertical-align: middle;\n",
       "    }\n",
       "\n",
       "    .dataframe tbody tr th {\n",
       "        vertical-align: top;\n",
       "    }\n",
       "\n",
       "    .dataframe thead th {\n",
       "        text-align: right;\n",
       "    }\n",
       "</style>\n",
       "<table border=\"1\" class=\"dataframe\">\n",
       "  <thead>\n",
       "    <tr style=\"text-align: right;\">\n",
       "      <th></th>\n",
       "      <th>House Number</th>\n",
       "      <th>Street</th>\n",
       "      <th>First Name</th>\n",
       "      <th>Surname</th>\n",
       "      <th>Age</th>\n",
       "      <th>Relationship to Head of House</th>\n",
       "      <th>Marital Status</th>\n",
       "      <th>Gender</th>\n",
       "      <th>Occupation</th>\n",
       "      <th>Infirmity</th>\n",
       "      <th>Religion</th>\n",
       "    </tr>\n",
       "  </thead>\n",
       "  <tbody>\n",
       "    <tr>\n",
       "      <th>5516</th>\n",
       "      <td>13</td>\n",
       "      <td>Whitehall Road</td>\n",
       "      <td>Nicole</td>\n",
       "      <td>Nash</td>\n",
       "      <td>51.0</td>\n",
       "      <td>Head</td>\n",
       "      <td>Married</td>\n",
       "      <td>Female</td>\n",
       "      <td>Designer, ceramics/pottery</td>\n",
       "      <td>None</td>\n",
       "      <td>None</td>\n",
       "    </tr>\n",
       "    <tr>\n",
       "      <th>5517</th>\n",
       "      <td>13</td>\n",
       "      <td>Whitehall Road</td>\n",
       "      <td>Ricky</td>\n",
       "      <td></td>\n",
       "      <td>50.0</td>\n",
       "      <td>Husband</td>\n",
       "      <td>Married</td>\n",
       "      <td>Male</td>\n",
       "      <td>Magazine journalist</td>\n",
       "      <td>None</td>\n",
       "      <td>None</td>\n",
       "    </tr>\n",
       "  </tbody>\n",
       "</table>\n",
       "</div>"
      ],
      "text/plain": [
       "      House Number          Street First Name Surname   Age  \\\n",
       "5516            13  Whitehall Road     Nicole    Nash  51.0   \n",
       "5517            13  Whitehall Road      Ricky          50.0   \n",
       "\n",
       "     Relationship to Head of House Marital Status  Gender  \\\n",
       "5516                          Head        Married  Female   \n",
       "5517                       Husband        Married    Male   \n",
       "\n",
       "                      Occupation Infirmity Religion  \n",
       "5516  Designer, ceramics/pottery      None     None  \n",
       "5517         Magazine journalist      None     None  "
      ]
     },
     "execution_count": 22,
     "metadata": {},
     "output_type": "execute_result"
    }
   ],
   "source": [
    "# Obtaining info on missing values with house number and street name\n",
    "df[(df['House Number'] == 13) & (df['Street'] == 'Whitehall Road')]"
   ]
  },
  {
   "cell_type": "code",
   "execution_count": 23,
   "id": "4d31fdf2",
   "metadata": {},
   "outputs": [],
   "source": [
    "# Imputing the same surname since the relationship to head of house is husband\n",
    "df.loc[(df['House Number'] == 13) & (df['Street'] == 'Whitehall Road') & (df['Surname'] == ' '), 'Surname'] = 'Nash'"
   ]
  },
  {
   "cell_type": "code",
   "execution_count": 24,
   "id": "de560889",
   "metadata": {},
   "outputs": [
    {
     "data": {
      "text/html": [
       "<div>\n",
       "<style scoped>\n",
       "    .dataframe tbody tr th:only-of-type {\n",
       "        vertical-align: middle;\n",
       "    }\n",
       "\n",
       "    .dataframe tbody tr th {\n",
       "        vertical-align: top;\n",
       "    }\n",
       "\n",
       "    .dataframe thead th {\n",
       "        text-align: right;\n",
       "    }\n",
       "</style>\n",
       "<table border=\"1\" class=\"dataframe\">\n",
       "  <thead>\n",
       "    <tr style=\"text-align: right;\">\n",
       "      <th></th>\n",
       "      <th>House Number</th>\n",
       "      <th>Street</th>\n",
       "      <th>First Name</th>\n",
       "      <th>Surname</th>\n",
       "      <th>Age</th>\n",
       "      <th>Relationship to Head of House</th>\n",
       "      <th>Marital Status</th>\n",
       "      <th>Gender</th>\n",
       "      <th>Occupation</th>\n",
       "      <th>Infirmity</th>\n",
       "      <th>Religion</th>\n",
       "    </tr>\n",
       "  </thead>\n",
       "  <tbody>\n",
       "    <tr>\n",
       "      <th>5516</th>\n",
       "      <td>13</td>\n",
       "      <td>Whitehall Road</td>\n",
       "      <td>Nicole</td>\n",
       "      <td>Nash</td>\n",
       "      <td>51.0</td>\n",
       "      <td>Head</td>\n",
       "      <td>Married</td>\n",
       "      <td>Female</td>\n",
       "      <td>Designer, ceramics/pottery</td>\n",
       "      <td>None</td>\n",
       "      <td>None</td>\n",
       "    </tr>\n",
       "    <tr>\n",
       "      <th>5517</th>\n",
       "      <td>13</td>\n",
       "      <td>Whitehall Road</td>\n",
       "      <td>Ricky</td>\n",
       "      <td>Nash</td>\n",
       "      <td>50.0</td>\n",
       "      <td>Husband</td>\n",
       "      <td>Married</td>\n",
       "      <td>Male</td>\n",
       "      <td>Magazine journalist</td>\n",
       "      <td>None</td>\n",
       "      <td>None</td>\n",
       "    </tr>\n",
       "  </tbody>\n",
       "</table>\n",
       "</div>"
      ],
      "text/plain": [
       "      House Number          Street First Name Surname   Age  \\\n",
       "5516            13  Whitehall Road     Nicole    Nash  51.0   \n",
       "5517            13  Whitehall Road      Ricky    Nash  50.0   \n",
       "\n",
       "     Relationship to Head of House Marital Status  Gender  \\\n",
       "5516                          Head        Married  Female   \n",
       "5517                       Husband        Married    Male   \n",
       "\n",
       "                      Occupation Infirmity Religion  \n",
       "5516  Designer, ceramics/pottery      None     None  \n",
       "5517         Magazine journalist      None     None  "
      ]
     },
     "execution_count": 24,
     "metadata": {},
     "output_type": "execute_result"
    }
   ],
   "source": [
    "df[(df['Street'] == 'Whitehall Road') & (df['House Number'] == 13)]"
   ]
  },
  {
   "cell_type": "code",
   "execution_count": 25,
   "id": "6b6d7609",
   "metadata": {},
   "outputs": [
    {
     "data": {
      "text/plain": [
       "0"
      ]
     },
     "execution_count": 25,
     "metadata": {},
     "output_type": "execute_result"
    }
   ],
   "source": [
    "(df['Surname'] == ' ').sum()"
   ]
  },
  {
   "cell_type": "markdown",
   "id": "7d013a66",
   "metadata": {},
   "source": [
    "## Age"
   ]
  },
  {
   "cell_type": "code",
   "execution_count": 26,
   "id": "b5a21e25",
   "metadata": {},
   "outputs": [
    {
     "data": {
      "text/plain": [
       "32.000000     168\n",
       "37.000000     166\n",
       "40.000000     164\n",
       "41.000000     161\n",
       "39.000000     151\n",
       "             ... \n",
       "101.000000      1\n",
       "22.000000       1\n",
       "23.000000       1\n",
       "82.074371       1\n",
       "85.566373       1\n",
       "Name: Age, Length: 116, dtype: int64"
      ]
     },
     "execution_count": 26,
     "metadata": {},
     "output_type": "execute_result"
    }
   ],
   "source": [
    "df['Age'].value_counts().transpose()"
   ]
  },
  {
   "cell_type": "markdown",
   "id": "f9767766",
   "metadata": {},
   "source": [
    "#### Changing Age from float to integer"
   ]
  },
  {
   "cell_type": "code",
   "execution_count": 27,
   "id": "2514a834",
   "metadata": {
    "scrolled": true
   },
   "outputs": [
    {
     "data": {
      "text/plain": [
       "array([ 21.        ,  19.        ,  38.        ,  55.        ,\n",
       "        78.        ,  39.        ,  36.        ,  34.        ,\n",
       "        32.        ,   9.        ,  50.        ,  54.        ,\n",
       "        18.        ,  17.        ,  44.        ,  42.        ,\n",
       "        23.        ,  20.        ,   3.        ,  58.        ,\n",
       "        56.        ,  94.        ,  33.        ,  40.        ,\n",
       "        25.        ,  22.        ,  24.        ,  67.        ,\n",
       "        63.        ,   2.        ,   1.        ,  26.        ,\n",
       "        52.        ,  71.        ,  43.        ,  27.        ,\n",
       "        31.        ,  11.        ,   8.        ,   4.        ,\n",
       "         7.        ,  51.        ,  14.        ,  57.        ,\n",
       "        29.        ,  47.        ,  64.        ,  15.        ,\n",
       "        79.        ,  60.        ,  59.        ,  12.        ,\n",
       "        41.        ,  48.        ,  68.        ,  37.        ,\n",
       "        53.        ,  10.        ,  28.        ,  35.        ,\n",
       "        13.        ,  77.        ,  46.        ,   5.        ,\n",
       "        75.        ,  45.        ,  16.        ,  69.        ,\n",
       "        74.        ,  66.        ,  72.        ,  62.        ,\n",
       "        30.        ,  49.        ,  81.        ,   0.        ,\n",
       "        70.        ,   6.        ,  84.        ,  89.        ,\n",
       "        87.        ,  82.        ,  85.        ,  76.        ,\n",
       "        73.        , 100.        ,  80.        ,  86.        ,\n",
       "        51.80323226,  61.        ,  65.        ,  91.        ,\n",
       "        96.        ,  93.        ,  83.        ,  98.        ,\n",
       "       104.        ,  95.        , 103.        ,  88.        ,\n",
       "        90.        ,  99.        , 102.        ,  61.871195  ,\n",
       "        92.        ,  97.        ,  82.0743708 ,  23.        ,\n",
       "        22.        , 105.        , 101.        ,  64.95944014,\n",
       "        62.95944014, 107.        ,  79.56637262,  85.56637262])"
      ]
     },
     "execution_count": 27,
     "metadata": {},
     "output_type": "execute_result"
    }
   ],
   "source": [
    "# These are float, hence needs to be changed for effective analysis\n",
    "df['Age'].unique()"
   ]
  },
  {
   "cell_type": "code",
   "execution_count": 28,
   "id": "19eac18c",
   "metadata": {},
   "outputs": [],
   "source": [
    "# Changing datatype to integer\n",
    "df[\"Age\"] = df[\"Age\"].apply(np.int64)"
   ]
  },
  {
   "cell_type": "code",
   "execution_count": 29,
   "id": "46033b79",
   "metadata": {},
   "outputs": [
    {
     "name": "stdout",
     "output_type": "stream",
     "text": [
      "[0, 1, 2, 3, 4, 5, 6, 7, 8, 9, 10, 11, 12, 13, 14, 15, 16, 17, 18, 19, 20, 21, 22, 23, 24, 25, 26, 27, 28, 29, 30, 31, 32, 33, 34, 35, 36, 37, 38, 39, 40, 41, 42, 43, 44, 45, 46, 47, 48, 49, 50, 51, 52, 53, 54, 55, 56, 57, 58, 59, 60, 61, 62, 63, 64, 65, 66, 67, 68, 69, 70, 71, 72, 73, 74, 75, 76, 77, 78, 79, 80, 81, 82, 83, 84, 85, 86, 87, 88, 89, 90, 91, 92, 93, 94, 95, 96, 97, 98, 99, 100, 101, 102, 103, 104, 105, 107]\n"
     ]
    }
   ],
   "source": [
    "print(sorted(df['Age'].unique()))"
   ]
  },
  {
   "cell_type": "code",
   "execution_count": 30,
   "id": "fdc2ec0c",
   "metadata": {},
   "outputs": [
    {
     "data": {
      "text/plain": [
       "count    8577.000000\n",
       "mean       35.593098\n",
       "std        21.376178\n",
       "min         0.000000\n",
       "25%        18.000000\n",
       "50%        35.000000\n",
       "75%        50.000000\n",
       "max       107.000000\n",
       "Name: Age, dtype: float64"
      ]
     },
     "execution_count": 30,
     "metadata": {},
     "output_type": "execute_result"
    }
   ],
   "source": [
    "# statiscal info of numerical data\n",
    "df[\"Age\"].describe().transpose() "
   ]
  },
  {
   "cell_type": "code",
   "execution_count": 31,
   "id": "a1c425c9",
   "metadata": {},
   "outputs": [
    {
     "data": {
      "text/plain": [
       "<Figure size 1820x1820 with 0 Axes>"
      ]
     },
     "metadata": {},
     "output_type": "display_data"
    },
    {
     "data": {
      "image/png": "[encoded data removed]",
      "text/plain": [
       "<Figure size 1500x500 with 1 Axes>"
      ]
     },
     "metadata": {},
     "output_type": "display_data"
    }
   ],
   "source": [
    "#Age distribution graph\n",
    "\n",
    "plt.figure(figsize=(7,7), dpi=260)\n",
    "sns.displot(df['Age'], kind='hist', kde=True, height=5, aspect=3, color=\"darkgreen\")\n",
    "plt.xlim(df['Age'].min(), df['Age'].max())\n",
    "plt.title(\"Population age demographics of the census\", fontsize=15)\n",
    "plt.xlabel('Age', fontsize=15)\n",
    "plt.xticks(fontsize=12)\n",
    "plt.ylabel(\"Count\", fontsize=15)\n",
    "plt.yticks(fontsize=12)\n",
    "plt.tight_layout()\n",
    "plt.savefig('age_distribution.png')\n",
    "plt.show()"
   ]
  },
  {
   "cell_type": "code",
   "execution_count": 32,
   "id": "b575702c",
   "metadata": {},
   "outputs": [
    {
     "data": {
      "image/png": "[encoded data removed]",
      "text/plain": [
       "<Figure size 2800x1000 with 1 Axes>"
      ]
     },
     "metadata": {},
     "output_type": "display_data"
    }
   ],
   "source": [
    "# Boxplot of the age column\n",
    "fig, ax = plt.subplots(figsize=(14, 5), dpi=200)\n",
    "\n",
    "# Create the boxplot using the age column of the dataframe\n",
    "ax.boxplot(df[\"Age\"], vert=False, showfliers=True, notch=False, patch_artist=True, boxprops=dict(facecolor='green', color='black'))\n",
    "\n",
    "# Set the labels for the x and y axis and their font sizes\n",
    "ax.set_xlabel(\"Age\", fontsize=15)\n",
    "ax.set_ylabel(\"\", fontsize=0) # Remove y-label\n",
    "ax.tick_params(axis='both', which='major', labelsize=12)\n",
    "\n",
    "# Remove the ticks for the y-axis\n",
    "ax.set_yticks([0])\n",
    "ax.set_yticklabels([''])\n",
    "\n",
    "# Adjust the layout of the plot to make it more compact\n",
    "fig.tight_layout()\n",
    "\n",
    "# Saving the plot as raw age\n",
    "plt.savefig(\"Age_boxplot.png\")\n",
    "plt.show()\n"
   ]
  },
  {
   "cell_type": "markdown",
   "id": "9f909642",
   "metadata": {},
   "source": [
    "## Relationship to Head of House"
   ]
  },
  {
   "cell_type": "code",
   "execution_count": 33,
   "id": "0f90ab43",
   "metadata": {},
   "outputs": [
    {
     "data": {
      "text/plain": [
       "Head                     2991\n",
       "Son                      1445\n",
       "Daughter                 1421\n",
       "Husband                   957\n",
       "None                      600\n",
       "Wife                      335\n",
       "Partner                   265\n",
       "Lodger                    263\n",
       "Granddaughter              65\n",
       "Grandson                   60\n",
       "Sibling                    36\n",
       "Cousin                     27\n",
       "Visitor                    20\n",
       "Adopted Daughter           18\n",
       "Adopted Son                17\n",
       "Neice                      16\n",
       "Nephew                     13\n",
       "Step-Son                   13\n",
       "Step-Daughter              11\n",
       "                            2\n",
       "Son-in-law                  1\n",
       "Adopted Granddaughter       1\n",
       "Name: Relationship to Head of House, dtype: int64"
      ]
     },
     "execution_count": 33,
     "metadata": {},
     "output_type": "execute_result"
    }
   ],
   "source": [
    "df['Relationship to Head of House'].value_counts()"
   ]
  },
  {
   "cell_type": "code",
   "execution_count": 34,
   "id": "56af2acd",
   "metadata": {},
   "outputs": [
    {
     "data": {
      "text/plain": [
       "0"
      ]
     },
     "execution_count": 34,
     "metadata": {},
     "output_type": "execute_result"
    }
   ],
   "source": [
    "df['Relationship to Head of House'].isnull().sum()"
   ]
  },
  {
   "cell_type": "code",
   "execution_count": 35,
   "id": "559a828e",
   "metadata": {},
   "outputs": [
    {
     "data": {
      "text/plain": [
       "array(['Head', 'Wife', 'Visitor', 'Son', 'Daughter', 'Partner', 'Husband',\n",
       "       'None', 'Lodger', 'Grandson', 'Adopted Son', 'Granddaughter',\n",
       "       'Sibling', 'Step-Daughter', 'Adopted Daughter', 'Nephew',\n",
       "       'Step-Son', 'Cousin', 'Neice', 'Son-in-law', ' ',\n",
       "       'Adopted Granddaughter'], dtype=object)"
      ]
     },
     "execution_count": 35,
     "metadata": {},
     "output_type": "execute_result"
    }
   ],
   "source": [
    "df['Relationship to Head of House'].unique()"
   ]
  },
  {
   "cell_type": "code",
   "execution_count": 36,
   "id": "4fd80640",
   "metadata": {},
   "outputs": [
    {
     "data": {
      "text/plain": [
       "2"
      ]
     },
     "execution_count": 36,
     "metadata": {},
     "output_type": "execute_result"
    }
   ],
   "source": [
    "(df['Relationship to Head of House'] == ' ').sum()"
   ]
  },
  {
   "cell_type": "markdown",
   "id": "837f4739",
   "metadata": {},
   "source": [
    "#### Manual cleaning since these are only two"
   ]
  },
  {
   "cell_type": "code",
   "execution_count": 37,
   "id": "f7dde3dd",
   "metadata": {},
   "outputs": [
    {
     "data": {
      "text/html": [
       "<div>\n",
       "<style scoped>\n",
       "    .dataframe tbody tr th:only-of-type {\n",
       "        vertical-align: middle;\n",
       "    }\n",
       "\n",
       "    .dataframe tbody tr th {\n",
       "        vertical-align: top;\n",
       "    }\n",
       "\n",
       "    .dataframe thead th {\n",
       "        text-align: right;\n",
       "    }\n",
       "</style>\n",
       "<table border=\"1\" class=\"dataframe\">\n",
       "  <thead>\n",
       "    <tr style=\"text-align: right;\">\n",
       "      <th></th>\n",
       "      <th>House Number</th>\n",
       "      <th>Street</th>\n",
       "      <th>First Name</th>\n",
       "      <th>Surname</th>\n",
       "      <th>Age</th>\n",
       "      <th>Relationship to Head of House</th>\n",
       "      <th>Marital Status</th>\n",
       "      <th>Gender</th>\n",
       "      <th>Occupation</th>\n",
       "      <th>Infirmity</th>\n",
       "      <th>Religion</th>\n",
       "    </tr>\n",
       "  </thead>\n",
       "  <tbody>\n",
       "    <tr>\n",
       "      <th>5348</th>\n",
       "      <td>21</td>\n",
       "      <td>Repton Drive</td>\n",
       "      <td>Gary</td>\n",
       "      <td>Fisher</td>\n",
       "      <td>16</td>\n",
       "      <td></td>\n",
       "      <td>NaN</td>\n",
       "      <td>Male</td>\n",
       "      <td>Student</td>\n",
       "      <td>None</td>\n",
       "      <td>NaN</td>\n",
       "    </tr>\n",
       "    <tr>\n",
       "      <th>8230</th>\n",
       "      <td>15</td>\n",
       "      <td>Potts Valley</td>\n",
       "      <td>Michael</td>\n",
       "      <td>Webb</td>\n",
       "      <td>18</td>\n",
       "      <td></td>\n",
       "      <td>Divorced</td>\n",
       "      <td>Male</td>\n",
       "      <td>Student</td>\n",
       "      <td>None</td>\n",
       "      <td>None</td>\n",
       "    </tr>\n",
       "  </tbody>\n",
       "</table>\n",
       "</div>"
      ],
      "text/plain": [
       "      House Number        Street First Name Surname  Age  \\\n",
       "5348            21  Repton Drive       Gary  Fisher   16   \n",
       "8230            15  Potts Valley    Michael    Webb   18   \n",
       "\n",
       "     Relationship to Head of House Marital Status Gender Occupation Infirmity  \\\n",
       "5348                                          NaN   Male    Student      None   \n",
       "8230                                     Divorced   Male    Student      None   \n",
       "\n",
       "     Religion  \n",
       "5348      NaN  \n",
       "8230     None  "
      ]
     },
     "execution_count": 37,
     "metadata": {},
     "output_type": "execute_result"
    }
   ],
   "source": [
    "df[df['Relationship to Head of House'] == ' ']"
   ]
  },
  {
   "cell_type": "code",
   "execution_count": 38,
   "id": "fb4a9844",
   "metadata": {},
   "outputs": [
    {
     "data": {
      "text/html": [
       "<div>\n",
       "<style scoped>\n",
       "    .dataframe tbody tr th:only-of-type {\n",
       "        vertical-align: middle;\n",
       "    }\n",
       "\n",
       "    .dataframe tbody tr th {\n",
       "        vertical-align: top;\n",
       "    }\n",
       "\n",
       "    .dataframe thead th {\n",
       "        text-align: right;\n",
       "    }\n",
       "</style>\n",
       "<table border=\"1\" class=\"dataframe\">\n",
       "  <thead>\n",
       "    <tr style=\"text-align: right;\">\n",
       "      <th></th>\n",
       "      <th>House Number</th>\n",
       "      <th>Street</th>\n",
       "      <th>First Name</th>\n",
       "      <th>Surname</th>\n",
       "      <th>Age</th>\n",
       "      <th>Relationship to Head of House</th>\n",
       "      <th>Marital Status</th>\n",
       "      <th>Gender</th>\n",
       "      <th>Occupation</th>\n",
       "      <th>Infirmity</th>\n",
       "      <th>Religion</th>\n",
       "    </tr>\n",
       "  </thead>\n",
       "  <tbody>\n",
       "    <tr>\n",
       "      <th>5346</th>\n",
       "      <td>21</td>\n",
       "      <td>Repton Drive</td>\n",
       "      <td>Anna</td>\n",
       "      <td>Fisher</td>\n",
       "      <td>55</td>\n",
       "      <td>Head</td>\n",
       "      <td>Single</td>\n",
       "      <td>Female</td>\n",
       "      <td>Unemployed</td>\n",
       "      <td>None</td>\n",
       "      <td>Christian</td>\n",
       "    </tr>\n",
       "    <tr>\n",
       "      <th>5348</th>\n",
       "      <td>21</td>\n",
       "      <td>Repton Drive</td>\n",
       "      <td>Gary</td>\n",
       "      <td>Fisher</td>\n",
       "      <td>16</td>\n",
       "      <td></td>\n",
       "      <td>NaN</td>\n",
       "      <td>Male</td>\n",
       "      <td>Student</td>\n",
       "      <td>None</td>\n",
       "      <td>NaN</td>\n",
       "    </tr>\n",
       "  </tbody>\n",
       "</table>\n",
       "</div>"
      ],
      "text/plain": [
       "      House Number        Street First Name Surname  Age  \\\n",
       "5346            21  Repton Drive       Anna  Fisher   55   \n",
       "5348            21  Repton Drive       Gary  Fisher   16   \n",
       "\n",
       "     Relationship to Head of House Marital Status  Gender  Occupation  \\\n",
       "5346                          Head         Single  Female  Unemployed   \n",
       "5348                                          NaN    Male     Student   \n",
       "\n",
       "     Infirmity   Religion  \n",
       "5346      None  Christian  \n",
       "5348      None        NaN  "
      ]
     },
     "execution_count": 38,
     "metadata": {},
     "output_type": "execute_result"
    }
   ],
   "source": [
    "df[(df['Street'] == 'Repton Drive') & (df['House Number'] == 21) &  (df['Surname'] == 'Fisher')]"
   ]
  },
  {
   "cell_type": "code",
   "execution_count": 39,
   "id": "6e7eb0c7",
   "metadata": {},
   "outputs": [],
   "source": [
    "df.loc[(df['House Number'] == 21) & (df['Street'] == 'Repton Drive') & (df['Relationship to Head of House'] == ' '), 'Relationship to Head of House'] = 'Son'"
   ]
  },
  {
   "cell_type": "code",
   "execution_count": 40,
   "id": "313c90b9",
   "metadata": {},
   "outputs": [
    {
     "data": {
      "text/html": [
       "<div>\n",
       "<style scoped>\n",
       "    .dataframe tbody tr th:only-of-type {\n",
       "        vertical-align: middle;\n",
       "    }\n",
       "\n",
       "    .dataframe tbody tr th {\n",
       "        vertical-align: top;\n",
       "    }\n",
       "\n",
       "    .dataframe thead th {\n",
       "        text-align: right;\n",
       "    }\n",
       "</style>\n",
       "<table border=\"1\" class=\"dataframe\">\n",
       "  <thead>\n",
       "    <tr style=\"text-align: right;\">\n",
       "      <th></th>\n",
       "      <th>House Number</th>\n",
       "      <th>Street</th>\n",
       "      <th>First Name</th>\n",
       "      <th>Surname</th>\n",
       "      <th>Age</th>\n",
       "      <th>Relationship to Head of House</th>\n",
       "      <th>Marital Status</th>\n",
       "      <th>Gender</th>\n",
       "      <th>Occupation</th>\n",
       "      <th>Infirmity</th>\n",
       "      <th>Religion</th>\n",
       "    </tr>\n",
       "  </thead>\n",
       "  <tbody>\n",
       "    <tr>\n",
       "      <th>5346</th>\n",
       "      <td>21</td>\n",
       "      <td>Repton Drive</td>\n",
       "      <td>Anna</td>\n",
       "      <td>Fisher</td>\n",
       "      <td>55</td>\n",
       "      <td>Head</td>\n",
       "      <td>Single</td>\n",
       "      <td>Female</td>\n",
       "      <td>Unemployed</td>\n",
       "      <td>None</td>\n",
       "      <td>Christian</td>\n",
       "    </tr>\n",
       "    <tr>\n",
       "      <th>5348</th>\n",
       "      <td>21</td>\n",
       "      <td>Repton Drive</td>\n",
       "      <td>Gary</td>\n",
       "      <td>Fisher</td>\n",
       "      <td>16</td>\n",
       "      <td>Son</td>\n",
       "      <td>NaN</td>\n",
       "      <td>Male</td>\n",
       "      <td>Student</td>\n",
       "      <td>None</td>\n",
       "      <td>NaN</td>\n",
       "    </tr>\n",
       "  </tbody>\n",
       "</table>\n",
       "</div>"
      ],
      "text/plain": [
       "      House Number        Street First Name Surname  Age  \\\n",
       "5346            21  Repton Drive       Anna  Fisher   55   \n",
       "5348            21  Repton Drive       Gary  Fisher   16   \n",
       "\n",
       "     Relationship to Head of House Marital Status  Gender  Occupation  \\\n",
       "5346                          Head         Single  Female  Unemployed   \n",
       "5348                           Son            NaN    Male     Student   \n",
       "\n",
       "     Infirmity   Religion  \n",
       "5346      None  Christian  \n",
       "5348      None        NaN  "
      ]
     },
     "execution_count": 40,
     "metadata": {},
     "output_type": "execute_result"
    }
   ],
   "source": [
    "df[(df['Street'] == 'Repton Drive') & (df['House Number'] == 21) &  (df['Surname'] == 'Fisher')]"
   ]
  },
  {
   "cell_type": "code",
   "execution_count": 41,
   "id": "a4998336",
   "metadata": {},
   "outputs": [
    {
     "data": {
      "text/html": [
       "<div>\n",
       "<style scoped>\n",
       "    .dataframe tbody tr th:only-of-type {\n",
       "        vertical-align: middle;\n",
       "    }\n",
       "\n",
       "    .dataframe tbody tr th {\n",
       "        vertical-align: top;\n",
       "    }\n",
       "\n",
       "    .dataframe thead th {\n",
       "        text-align: right;\n",
       "    }\n",
       "</style>\n",
       "<table border=\"1\" class=\"dataframe\">\n",
       "  <thead>\n",
       "    <tr style=\"text-align: right;\">\n",
       "      <th></th>\n",
       "      <th>House Number</th>\n",
       "      <th>Street</th>\n",
       "      <th>First Name</th>\n",
       "      <th>Surname</th>\n",
       "      <th>Age</th>\n",
       "      <th>Relationship to Head of House</th>\n",
       "      <th>Marital Status</th>\n",
       "      <th>Gender</th>\n",
       "      <th>Occupation</th>\n",
       "      <th>Infirmity</th>\n",
       "      <th>Religion</th>\n",
       "    </tr>\n",
       "  </thead>\n",
       "  <tbody>\n",
       "    <tr>\n",
       "      <th>8230</th>\n",
       "      <td>15</td>\n",
       "      <td>Potts Valley</td>\n",
       "      <td>Michael</td>\n",
       "      <td>Webb</td>\n",
       "      <td>18</td>\n",
       "      <td></td>\n",
       "      <td>Divorced</td>\n",
       "      <td>Male</td>\n",
       "      <td>Student</td>\n",
       "      <td>None</td>\n",
       "      <td>None</td>\n",
       "    </tr>\n",
       "  </tbody>\n",
       "</table>\n",
       "</div>"
      ],
      "text/plain": [
       "      House Number        Street First Name Surname  Age  \\\n",
       "8230            15  Potts Valley    Michael    Webb   18   \n",
       "\n",
       "     Relationship to Head of House Marital Status Gender Occupation Infirmity  \\\n",
       "8230                                     Divorced   Male    Student      None   \n",
       "\n",
       "     Religion  \n",
       "8230     None  "
      ]
     },
     "execution_count": 41,
     "metadata": {},
     "output_type": "execute_result"
    }
   ],
   "source": [
    "df[df['Relationship to Head of House'].str.isspace()]"
   ]
  },
  {
   "cell_type": "code",
   "execution_count": 42,
   "id": "b7e1280d",
   "metadata": {
    "scrolled": true
   },
   "outputs": [
    {
     "data": {
      "text/html": [
       "<div>\n",
       "<style scoped>\n",
       "    .dataframe tbody tr th:only-of-type {\n",
       "        vertical-align: middle;\n",
       "    }\n",
       "\n",
       "    .dataframe tbody tr th {\n",
       "        vertical-align: top;\n",
       "    }\n",
       "\n",
       "    .dataframe thead th {\n",
       "        text-align: right;\n",
       "    }\n",
       "</style>\n",
       "<table border=\"1\" class=\"dataframe\">\n",
       "  <thead>\n",
       "    <tr style=\"text-align: right;\">\n",
       "      <th></th>\n",
       "      <th>House Number</th>\n",
       "      <th>Street</th>\n",
       "      <th>First Name</th>\n",
       "      <th>Surname</th>\n",
       "      <th>Age</th>\n",
       "      <th>Relationship to Head of House</th>\n",
       "      <th>Marital Status</th>\n",
       "      <th>Gender</th>\n",
       "      <th>Occupation</th>\n",
       "      <th>Infirmity</th>\n",
       "      <th>Religion</th>\n",
       "    </tr>\n",
       "  </thead>\n",
       "  <tbody>\n",
       "    <tr>\n",
       "      <th>8228</th>\n",
       "      <td>15</td>\n",
       "      <td>Potts Valley</td>\n",
       "      <td>Naomi</td>\n",
       "      <td>Webb</td>\n",
       "      <td>42</td>\n",
       "      <td>Head</td>\n",
       "      <td>Married</td>\n",
       "      <td>Female</td>\n",
       "      <td>Firefighter</td>\n",
       "      <td>None</td>\n",
       "      <td>Catholic</td>\n",
       "    </tr>\n",
       "    <tr>\n",
       "      <th>8229</th>\n",
       "      <td>15</td>\n",
       "      <td>Potts Valley</td>\n",
       "      <td>Justin</td>\n",
       "      <td>Webb</td>\n",
       "      <td>46</td>\n",
       "      <td>Husband</td>\n",
       "      <td>Married</td>\n",
       "      <td>Male</td>\n",
       "      <td>Unemployed</td>\n",
       "      <td>None</td>\n",
       "      <td>Catholic</td>\n",
       "    </tr>\n",
       "    <tr>\n",
       "      <th>8230</th>\n",
       "      <td>15</td>\n",
       "      <td>Potts Valley</td>\n",
       "      <td>Michael</td>\n",
       "      <td>Webb</td>\n",
       "      <td>18</td>\n",
       "      <td></td>\n",
       "      <td>Divorced</td>\n",
       "      <td>Male</td>\n",
       "      <td>Student</td>\n",
       "      <td>None</td>\n",
       "      <td>None</td>\n",
       "    </tr>\n",
       "  </tbody>\n",
       "</table>\n",
       "</div>"
      ],
      "text/plain": [
       "      House Number        Street First Name Surname  Age  \\\n",
       "8228            15  Potts Valley      Naomi    Webb   42   \n",
       "8229            15  Potts Valley     Justin    Webb   46   \n",
       "8230            15  Potts Valley    Michael    Webb   18   \n",
       "\n",
       "     Relationship to Head of House Marital Status  Gender   Occupation  \\\n",
       "8228                          Head        Married  Female  Firefighter   \n",
       "8229                       Husband        Married    Male   Unemployed   \n",
       "8230                                     Divorced    Male      Student   \n",
       "\n",
       "     Infirmity  Religion  \n",
       "8228      None  Catholic  \n",
       "8229      None  Catholic  \n",
       "8230      None      None  "
      ]
     },
     "execution_count": 42,
     "metadata": {},
     "output_type": "execute_result"
    }
   ],
   "source": [
    "df[(df['Street'] == 'Potts Valley') & (df['House Number'] == 15) &  (df['Surname'] == 'Webb')]"
   ]
  },
  {
   "cell_type": "markdown",
   "id": "9ddca6df",
   "metadata": {},
   "source": [
    "#### Replacing the empty cells"
   ]
  },
  {
   "cell_type": "code",
   "execution_count": 43,
   "id": "a2ee0e30",
   "metadata": {},
   "outputs": [
    {
     "data": {
      "text/html": [
       "<div>\n",
       "<style scoped>\n",
       "    .dataframe tbody tr th:only-of-type {\n",
       "        vertical-align: middle;\n",
       "    }\n",
       "\n",
       "    .dataframe tbody tr th {\n",
       "        vertical-align: top;\n",
       "    }\n",
       "\n",
       "    .dataframe thead th {\n",
       "        text-align: right;\n",
       "    }\n",
       "</style>\n",
       "<table border=\"1\" class=\"dataframe\">\n",
       "  <thead>\n",
       "    <tr style=\"text-align: right;\">\n",
       "      <th></th>\n",
       "      <th>House Number</th>\n",
       "      <th>Street</th>\n",
       "      <th>First Name</th>\n",
       "      <th>Surname</th>\n",
       "      <th>Age</th>\n",
       "      <th>Relationship to Head of House</th>\n",
       "      <th>Marital Status</th>\n",
       "      <th>Gender</th>\n",
       "      <th>Occupation</th>\n",
       "      <th>Infirmity</th>\n",
       "      <th>Religion</th>\n",
       "    </tr>\n",
       "  </thead>\n",
       "  <tbody>\n",
       "    <tr>\n",
       "      <th>8228</th>\n",
       "      <td>15</td>\n",
       "      <td>Potts Valley</td>\n",
       "      <td>Naomi</td>\n",
       "      <td>Webb</td>\n",
       "      <td>42</td>\n",
       "      <td>Head</td>\n",
       "      <td>Married</td>\n",
       "      <td>Female</td>\n",
       "      <td>Firefighter</td>\n",
       "      <td>None</td>\n",
       "      <td>Catholic</td>\n",
       "    </tr>\n",
       "    <tr>\n",
       "      <th>8229</th>\n",
       "      <td>15</td>\n",
       "      <td>Potts Valley</td>\n",
       "      <td>Justin</td>\n",
       "      <td>Webb</td>\n",
       "      <td>46</td>\n",
       "      <td>Husband</td>\n",
       "      <td>Married</td>\n",
       "      <td>Male</td>\n",
       "      <td>Unemployed</td>\n",
       "      <td>None</td>\n",
       "      <td>Catholic</td>\n",
       "    </tr>\n",
       "    <tr>\n",
       "      <th>8230</th>\n",
       "      <td>15</td>\n",
       "      <td>Potts Valley</td>\n",
       "      <td>Michael</td>\n",
       "      <td>Webb</td>\n",
       "      <td>18</td>\n",
       "      <td></td>\n",
       "      <td>Divorced</td>\n",
       "      <td>Male</td>\n",
       "      <td>Student</td>\n",
       "      <td>None</td>\n",
       "      <td>None</td>\n",
       "    </tr>\n",
       "  </tbody>\n",
       "</table>\n",
       "</div>"
      ],
      "text/plain": [
       "      House Number        Street First Name Surname  Age  \\\n",
       "8228            15  Potts Valley      Naomi    Webb   42   \n",
       "8229            15  Potts Valley     Justin    Webb   46   \n",
       "8230            15  Potts Valley    Michael    Webb   18   \n",
       "\n",
       "     Relationship to Head of House Marital Status  Gender   Occupation  \\\n",
       "8228                          Head        Married  Female  Firefighter   \n",
       "8229                       Husband        Married    Male   Unemployed   \n",
       "8230                                     Divorced    Male      Student   \n",
       "\n",
       "     Infirmity  Religion  \n",
       "8228      None  Catholic  \n",
       "8229      None  Catholic  \n",
       "8230      None      None  "
      ]
     },
     "execution_count": 43,
     "metadata": {},
     "output_type": "execute_result"
    }
   ],
   "source": [
    "df[(df['Street'] == 'Potts Valley') & (df['House Number'] == 15) &  (df['Surname'] == 'Webb')]"
   ]
  },
  {
   "cell_type": "code",
   "execution_count": 44,
   "id": "84bc3f7b",
   "metadata": {},
   "outputs": [],
   "source": [
    "df.loc[(df['House Number'] == 15) & (df['Street'] == 'Potts Valley') & (df['Relationship to Head of House'] == ' '), 'Relationship to Head of House'] = 'Son'"
   ]
  },
  {
   "cell_type": "code",
   "execution_count": 45,
   "id": "2acfb72f",
   "metadata": {},
   "outputs": [
    {
     "data": {
      "text/html": [
       "<div>\n",
       "<style scoped>\n",
       "    .dataframe tbody tr th:only-of-type {\n",
       "        vertical-align: middle;\n",
       "    }\n",
       "\n",
       "    .dataframe tbody tr th {\n",
       "        vertical-align: top;\n",
       "    }\n",
       "\n",
       "    .dataframe thead th {\n",
       "        text-align: right;\n",
       "    }\n",
       "</style>\n",
       "<table border=\"1\" class=\"dataframe\">\n",
       "  <thead>\n",
       "    <tr style=\"text-align: right;\">\n",
       "      <th></th>\n",
       "      <th>House Number</th>\n",
       "      <th>Street</th>\n",
       "      <th>First Name</th>\n",
       "      <th>Surname</th>\n",
       "      <th>Age</th>\n",
       "      <th>Relationship to Head of House</th>\n",
       "      <th>Marital Status</th>\n",
       "      <th>Gender</th>\n",
       "      <th>Occupation</th>\n",
       "      <th>Infirmity</th>\n",
       "      <th>Religion</th>\n",
       "    </tr>\n",
       "  </thead>\n",
       "  <tbody>\n",
       "    <tr>\n",
       "      <th>8228</th>\n",
       "      <td>15</td>\n",
       "      <td>Potts Valley</td>\n",
       "      <td>Naomi</td>\n",
       "      <td>Webb</td>\n",
       "      <td>42</td>\n",
       "      <td>Head</td>\n",
       "      <td>Married</td>\n",
       "      <td>Female</td>\n",
       "      <td>Firefighter</td>\n",
       "      <td>None</td>\n",
       "      <td>Catholic</td>\n",
       "    </tr>\n",
       "    <tr>\n",
       "      <th>8229</th>\n",
       "      <td>15</td>\n",
       "      <td>Potts Valley</td>\n",
       "      <td>Justin</td>\n",
       "      <td>Webb</td>\n",
       "      <td>46</td>\n",
       "      <td>Husband</td>\n",
       "      <td>Married</td>\n",
       "      <td>Male</td>\n",
       "      <td>Unemployed</td>\n",
       "      <td>None</td>\n",
       "      <td>Catholic</td>\n",
       "    </tr>\n",
       "    <tr>\n",
       "      <th>8230</th>\n",
       "      <td>15</td>\n",
       "      <td>Potts Valley</td>\n",
       "      <td>Michael</td>\n",
       "      <td>Webb</td>\n",
       "      <td>18</td>\n",
       "      <td>Son</td>\n",
       "      <td>Divorced</td>\n",
       "      <td>Male</td>\n",
       "      <td>Student</td>\n",
       "      <td>None</td>\n",
       "      <td>None</td>\n",
       "    </tr>\n",
       "  </tbody>\n",
       "</table>\n",
       "</div>"
      ],
      "text/plain": [
       "      House Number        Street First Name Surname  Age  \\\n",
       "8228            15  Potts Valley      Naomi    Webb   42   \n",
       "8229            15  Potts Valley     Justin    Webb   46   \n",
       "8230            15  Potts Valley    Michael    Webb   18   \n",
       "\n",
       "     Relationship to Head of House Marital Status  Gender   Occupation  \\\n",
       "8228                          Head        Married  Female  Firefighter   \n",
       "8229                       Husband        Married    Male   Unemployed   \n",
       "8230                           Son       Divorced    Male      Student   \n",
       "\n",
       "     Infirmity  Religion  \n",
       "8228      None  Catholic  \n",
       "8229      None  Catholic  \n",
       "8230      None      None  "
      ]
     },
     "execution_count": 45,
     "metadata": {},
     "output_type": "execute_result"
    }
   ],
   "source": [
    "df[(df['Street'] == 'Potts Valley') & (df['House Number'] == 15) &  (df['Surname'] == 'Webb')]"
   ]
  },
  {
   "cell_type": "code",
   "execution_count": 46,
   "id": "326d5c0b",
   "metadata": {},
   "outputs": [
    {
     "data": {
      "text/plain": [
       "array(['Head', 'Wife', 'Visitor', 'Son', 'Daughter', 'Partner', 'Husband',\n",
       "       'None', 'Lodger', 'Grandson', 'Adopted Son', 'Granddaughter',\n",
       "       'Sibling', 'Step-Daughter', 'Adopted Daughter', 'Nephew',\n",
       "       'Step-Son', 'Cousin', 'Neice', 'Son-in-law',\n",
       "       'Adopted Granddaughter'], dtype=object)"
      ]
     },
     "execution_count": 46,
     "metadata": {},
     "output_type": "execute_result"
    }
   ],
   "source": [
    "df['Relationship to Head of House'].unique()"
   ]
  },
  {
   "cell_type": "markdown",
   "id": "6a9c4825",
   "metadata": {},
   "source": [
    "## Marital Status"
   ]
  },
  {
   "cell_type": "code",
   "execution_count": 47,
   "id": "67fb125d",
   "metadata": {},
   "outputs": [
    {
     "data": {
      "text/plain": [
       "Single      2831\n",
       "Married     2602\n",
       "Divorced     753\n",
       "Widowed      306\n",
       "Name: Marital Status, dtype: int64"
      ]
     },
     "execution_count": 47,
     "metadata": {},
     "output_type": "execute_result"
    }
   ],
   "source": [
    "df['Marital Status'].value_counts()\n"
   ]
  },
  {
   "cell_type": "code",
   "execution_count": 48,
   "id": "87eef4c6",
   "metadata": {},
   "outputs": [
    {
     "data": {
      "text/plain": [
       "2085"
      ]
     },
     "execution_count": 48,
     "metadata": {},
     "output_type": "execute_result"
    }
   ],
   "source": [
    "#Missing rows in data\n",
    "df['Marital Status'].isnull().sum()"
   ]
  },
  {
   "cell_type": "code",
   "execution_count": 49,
   "id": "573dedca",
   "metadata": {},
   "outputs": [
    {
     "data": {
      "text/plain": [
       "0"
      ]
     },
     "execution_count": 49,
     "metadata": {},
     "output_type": "execute_result"
    }
   ],
   "source": [
    "(df['Marital Status'] == ' ').sum()"
   ]
  },
  {
   "cell_type": "code",
   "execution_count": 50,
   "id": "18ed016b",
   "metadata": {},
   "outputs": [
    {
     "data": {
      "text/html": [
       "<div>\n",
       "<style scoped>\n",
       "    .dataframe tbody tr th:only-of-type {\n",
       "        vertical-align: middle;\n",
       "    }\n",
       "\n",
       "    .dataframe tbody tr th {\n",
       "        vertical-align: top;\n",
       "    }\n",
       "\n",
       "    .dataframe thead th {\n",
       "        text-align: right;\n",
       "    }\n",
       "</style>\n",
       "<table border=\"1\" class=\"dataframe\">\n",
       "  <thead>\n",
       "    <tr style=\"text-align: right;\">\n",
       "      <th></th>\n",
       "      <th>House Number</th>\n",
       "      <th>Street</th>\n",
       "      <th>First Name</th>\n",
       "      <th>Surname</th>\n",
       "      <th>Age</th>\n",
       "      <th>Relationship to Head of House</th>\n",
       "      <th>Marital Status</th>\n",
       "      <th>Gender</th>\n",
       "      <th>Occupation</th>\n",
       "      <th>Infirmity</th>\n",
       "      <th>Religion</th>\n",
       "    </tr>\n",
       "  </thead>\n",
       "  <tbody>\n",
       "  </tbody>\n",
       "</table>\n",
       "</div>"
      ],
      "text/plain": [
       "Empty DataFrame\n",
       "Columns: [House Number, Street, First Name, Surname, Age, Relationship to Head of House, Marital Status, Gender, Occupation, Infirmity, Religion]\n",
       "Index: []"
      ]
     },
     "execution_count": 50,
     "metadata": {},
     "output_type": "execute_result"
    }
   ],
   "source": [
    "#df[(df['Marital Status'] == 'Married') & (df['Age'] == 18) ]\n",
    "df.query(\"Age <18 and `Marital Status` == 'Married'\") # check age < 18 and married"
   ]
  },
  {
   "cell_type": "code",
   "execution_count": 51,
   "id": "d122d093",
   "metadata": {},
   "outputs": [],
   "source": [
    "#df[(df['Marital Status'] == 'Divorced') & (df['Age'] == 18) ]"
   ]
  },
  {
   "cell_type": "code",
   "execution_count": 52,
   "id": "06b60e30",
   "metadata": {},
   "outputs": [
    {
     "data": {
      "image/png": "[encoded data removed]",
      "text/plain": [
       "<Figure size 600x700 with 1 Axes>"
      ]
     },
     "metadata": {},
     "output_type": "display_data"
    }
   ],
   "source": [
    "# Plot marital status distribution before cleaning\n",
    "Marital_status_count = df['Marital Status'].value_counts()\n",
    "plt.figure(figsize=(6,7))\n",
    "plt.bar(Marital_status_count.index, Marital_status_count.values, color=\"blue\")\n",
    "plt.title('Marital status group')\n",
    "plt.ylabel('count')\n",
    "\n",
    "for i, value in enumerate(Marital_status_count.values):\n",
    "    plt.text(i, value-90, str(value), fontsize=12, color='white',horizontalalignment='center', verticalalignment='center')\n",
    "plt.savefig('marital_status_group.png')\n",
    "plt.show()"
   ]
  },
  {
   "cell_type": "markdown",
   "id": "e5638427",
   "metadata": {},
   "source": [
    "#### Checking to see ages less than 18"
   ]
  },
  {
   "cell_type": "code",
   "execution_count": 53,
   "id": "9ee2fc73",
   "metadata": {},
   "outputs": [
    {
     "data": {
      "text/html": [
       "<div>\n",
       "<style scoped>\n",
       "    .dataframe tbody tr th:only-of-type {\n",
       "        vertical-align: middle;\n",
       "    }\n",
       "\n",
       "    .dataframe tbody tr th {\n",
       "        vertical-align: top;\n",
       "    }\n",
       "\n",
       "    .dataframe thead th {\n",
       "        text-align: right;\n",
       "    }\n",
       "</style>\n",
       "<table border=\"1\" class=\"dataframe\">\n",
       "  <thead>\n",
       "    <tr style=\"text-align: right;\">\n",
       "      <th></th>\n",
       "      <th>House Number</th>\n",
       "      <th>Street</th>\n",
       "      <th>First Name</th>\n",
       "      <th>Surname</th>\n",
       "      <th>Age</th>\n",
       "      <th>Relationship to Head of House</th>\n",
       "      <th>Marital Status</th>\n",
       "      <th>Gender</th>\n",
       "      <th>Occupation</th>\n",
       "      <th>Infirmity</th>\n",
       "      <th>Religion</th>\n",
       "    </tr>\n",
       "  </thead>\n",
       "  <tbody>\n",
       "    <tr>\n",
       "      <th>11</th>\n",
       "      <td>4</td>\n",
       "      <td>Turkey Gardens</td>\n",
       "      <td>Maureen</td>\n",
       "      <td>Nicholson</td>\n",
       "      <td>9</td>\n",
       "      <td>Daughter</td>\n",
       "      <td>NaN</td>\n",
       "      <td>Female</td>\n",
       "      <td>Student</td>\n",
       "      <td>None</td>\n",
       "      <td>NaN</td>\n",
       "    </tr>\n",
       "    <tr>\n",
       "      <th>15</th>\n",
       "      <td>5</td>\n",
       "      <td>Turkey Gardens</td>\n",
       "      <td>Georgina</td>\n",
       "      <td>Williams-Evans</td>\n",
       "      <td>17</td>\n",
       "      <td>Daughter</td>\n",
       "      <td>NaN</td>\n",
       "      <td>Female</td>\n",
       "      <td>Student</td>\n",
       "      <td>None</td>\n",
       "      <td>NaN</td>\n",
       "    </tr>\n",
       "    <tr>\n",
       "      <th>20</th>\n",
       "      <td>6</td>\n",
       "      <td>Turkey Gardens</td>\n",
       "      <td>Hilary</td>\n",
       "      <td>Thomas</td>\n",
       "      <td>3</td>\n",
       "      <td>Daughter</td>\n",
       "      <td>NaN</td>\n",
       "      <td>Female</td>\n",
       "      <td>Child</td>\n",
       "      <td>None</td>\n",
       "      <td>NaN</td>\n",
       "    </tr>\n",
       "    <tr>\n",
       "      <th>39</th>\n",
       "      <td>14</td>\n",
       "      <td>Turkey Gardens</td>\n",
       "      <td>Vanessa</td>\n",
       "      <td>Jackson</td>\n",
       "      <td>2</td>\n",
       "      <td>Daughter</td>\n",
       "      <td>NaN</td>\n",
       "      <td>Female</td>\n",
       "      <td>Child</td>\n",
       "      <td>None</td>\n",
       "      <td>NaN</td>\n",
       "    </tr>\n",
       "    <tr>\n",
       "      <th>40</th>\n",
       "      <td>14</td>\n",
       "      <td>Turkey Gardens</td>\n",
       "      <td>Pamela</td>\n",
       "      <td>Jackson</td>\n",
       "      <td>1</td>\n",
       "      <td>Daughter</td>\n",
       "      <td>NaN</td>\n",
       "      <td>Female</td>\n",
       "      <td>Child</td>\n",
       "      <td>None</td>\n",
       "      <td>NaN</td>\n",
       "    </tr>\n",
       "    <tr>\n",
       "      <th>...</th>\n",
       "      <td>...</td>\n",
       "      <td>...</td>\n",
       "      <td>...</td>\n",
       "      <td>...</td>\n",
       "      <td>...</td>\n",
       "      <td>...</td>\n",
       "      <td>...</td>\n",
       "      <td>...</td>\n",
       "      <td>...</td>\n",
       "      <td>...</td>\n",
       "      <td>...</td>\n",
       "    </tr>\n",
       "    <tr>\n",
       "      <th>8571</th>\n",
       "      <td>1</td>\n",
       "      <td>Simmons Delve</td>\n",
       "      <td>Jonathan</td>\n",
       "      <td>Goodwin</td>\n",
       "      <td>0</td>\n",
       "      <td>None</td>\n",
       "      <td>NaN</td>\n",
       "      <td>Male</td>\n",
       "      <td>Child</td>\n",
       "      <td>None</td>\n",
       "      <td>NaN</td>\n",
       "    </tr>\n",
       "    <tr>\n",
       "      <th>8573</th>\n",
       "      <td>1</td>\n",
       "      <td>Lomond Manor</td>\n",
       "      <td>Vincent</td>\n",
       "      <td>Newman</td>\n",
       "      <td>9</td>\n",
       "      <td>Son</td>\n",
       "      <td>NaN</td>\n",
       "      <td>Male</td>\n",
       "      <td>Student</td>\n",
       "      <td>None</td>\n",
       "      <td>NaN</td>\n",
       "    </tr>\n",
       "    <tr>\n",
       "      <th>8574</th>\n",
       "      <td>1</td>\n",
       "      <td>Lomond Manor</td>\n",
       "      <td>Louise</td>\n",
       "      <td>Butler-Newman</td>\n",
       "      <td>8</td>\n",
       "      <td>Daughter</td>\n",
       "      <td>NaN</td>\n",
       "      <td>Female</td>\n",
       "      <td>Student</td>\n",
       "      <td>None</td>\n",
       "      <td>NaN</td>\n",
       "    </tr>\n",
       "    <tr>\n",
       "      <th>8575</th>\n",
       "      <td>1</td>\n",
       "      <td>Lomond Manor</td>\n",
       "      <td>Trevor</td>\n",
       "      <td>Butler-Newman</td>\n",
       "      <td>4</td>\n",
       "      <td>Son</td>\n",
       "      <td>NaN</td>\n",
       "      <td>Male</td>\n",
       "      <td>Child</td>\n",
       "      <td>None</td>\n",
       "      <td>NaN</td>\n",
       "    </tr>\n",
       "    <tr>\n",
       "      <th>8576</th>\n",
       "      <td>1</td>\n",
       "      <td>Lomond Manor</td>\n",
       "      <td>Kim</td>\n",
       "      <td>Butler-Newman</td>\n",
       "      <td>1</td>\n",
       "      <td>Daughter</td>\n",
       "      <td>NaN</td>\n",
       "      <td>Female</td>\n",
       "      <td>Child</td>\n",
       "      <td>None</td>\n",
       "      <td>NaN</td>\n",
       "    </tr>\n",
       "  </tbody>\n",
       "</table>\n",
       "<p>2085 rows × 11 columns</p>\n",
       "</div>"
      ],
      "text/plain": [
       "      House Number          Street First Name         Surname  Age  \\\n",
       "11               4  Turkey Gardens    Maureen       Nicholson    9   \n",
       "15               5  Turkey Gardens   Georgina  Williams-Evans   17   \n",
       "20               6  Turkey Gardens     Hilary          Thomas    3   \n",
       "39              14  Turkey Gardens    Vanessa         Jackson    2   \n",
       "40              14  Turkey Gardens     Pamela         Jackson    1   \n",
       "...            ...             ...        ...             ...  ...   \n",
       "8571             1   Simmons Delve   Jonathan         Goodwin    0   \n",
       "8573             1    Lomond Manor    Vincent          Newman    9   \n",
       "8574             1    Lomond Manor     Louise   Butler-Newman    8   \n",
       "8575             1    Lomond Manor     Trevor   Butler-Newman    4   \n",
       "8576             1    Lomond Manor        Kim   Butler-Newman    1   \n",
       "\n",
       "     Relationship to Head of House Marital Status  Gender Occupation  \\\n",
       "11                        Daughter            NaN  Female    Student   \n",
       "15                        Daughter            NaN  Female    Student   \n",
       "20                        Daughter            NaN  Female      Child   \n",
       "39                        Daughter            NaN  Female      Child   \n",
       "40                        Daughter            NaN  Female      Child   \n",
       "...                            ...            ...     ...        ...   \n",
       "8571                          None            NaN    Male      Child   \n",
       "8573                           Son            NaN    Male    Student   \n",
       "8574                      Daughter            NaN  Female    Student   \n",
       "8575                           Son            NaN    Male      Child   \n",
       "8576                      Daughter            NaN  Female      Child   \n",
       "\n",
       "     Infirmity Religion  \n",
       "11        None      NaN  \n",
       "15        None      NaN  \n",
       "20        None      NaN  \n",
       "39        None      NaN  \n",
       "40        None      NaN  \n",
       "...        ...      ...  \n",
       "8571      None      NaN  \n",
       "8573      None      NaN  \n",
       "8574      None      NaN  \n",
       "8575      None      NaN  \n",
       "8576      None      NaN  \n",
       "\n",
       "[2085 rows x 11 columns]"
      ]
     },
     "execution_count": 53,
     "metadata": {},
     "output_type": "execute_result"
    }
   ],
   "source": [
    "df[(df['Marital Status'].isnull()) & (df['Age'] < 18)]"
   ]
  },
  {
   "cell_type": "markdown",
   "id": "78ea72f8",
   "metadata": {},
   "source": [
    "### Replaced it with single since they are all less than 18"
   ]
  },
  {
   "cell_type": "code",
   "execution_count": 54,
   "id": "6b266136",
   "metadata": {},
   "outputs": [
    {
     "data": {
      "text/plain": [
       "array(['Married', 'Divorced', 'Single', 'Widowed', nan], dtype=object)"
      ]
     },
     "execution_count": 54,
     "metadata": {},
     "output_type": "execute_result"
    }
   ],
   "source": [
    "df['Marital Status'].unique()"
   ]
  },
  {
   "cell_type": "code",
   "execution_count": 55,
   "id": "dfe31501",
   "metadata": {},
   "outputs": [],
   "source": [
    "#(df[(df['Marital Status'].isnull()) & (df['Age'] < 18)])"
   ]
  },
  {
   "cell_type": "code",
   "execution_count": 56,
   "id": "0c920543",
   "metadata": {},
   "outputs": [],
   "source": [
    "if df['Marital Status'].isnull().sum() == len(df[(df['Marital Status'].isnull()) & (df['Age'] < 18)]):\n",
    "    df['Marital Status'].fillna(value = 'Single' , inplace=True) "
   ]
  },
  {
   "cell_type": "code",
   "execution_count": 57,
   "id": "aa0d20a6",
   "metadata": {},
   "outputs": [
    {
     "data": {
      "text/plain": [
       "0"
      ]
     },
     "execution_count": 57,
     "metadata": {},
     "output_type": "execute_result"
    }
   ],
   "source": [
    "(df['Marital Status'].isnull()).sum()"
   ]
  },
  {
   "cell_type": "code",
   "execution_count": 58,
   "id": "a96d661a",
   "metadata": {},
   "outputs": [
    {
     "data": {
      "text/plain": [
       "array(['Married', 'Divorced', 'Single', 'Widowed'], dtype=object)"
      ]
     },
     "execution_count": 58,
     "metadata": {},
     "output_type": "execute_result"
    }
   ],
   "source": [
    "df['Marital Status'].unique()"
   ]
  },
  {
   "cell_type": "code",
   "execution_count": 59,
   "id": "05f3a99f",
   "metadata": {},
   "outputs": [
    {
     "data": {
      "text/plain": [
       "0"
      ]
     },
     "execution_count": 59,
     "metadata": {},
     "output_type": "execute_result"
    }
   ],
   "source": [
    "(df['Marital Status'].isnull()).sum()"
   ]
  },
  {
   "cell_type": "code",
   "execution_count": 60,
   "id": "775b06d1",
   "metadata": {},
   "outputs": [
    {
     "data": {
      "image/png": "[encoded data removed]",
      "text/plain": [
       "<Figure size 500x500 with 1 Axes>"
      ]
     },
     "metadata": {},
     "output_type": "display_data"
    }
   ],
   "source": [
    "# Plot marital status distribution after cleaning\n",
    "Marital_status_count = df['Marital Status'].value_counts()\n",
    "plt.figure(figsize=(5,5))\n",
    "plt.bar(Marital_status_count.index, Marital_status_count.values, color=\"blue\")\n",
    "plt.title('Marital status group')\n",
    "plt.ylabel('count')\n",
    "\n",
    "for i, value in enumerate(Marital_status_count.values):\n",
    "    plt.text(i, value-90, str(value), fontsize=12, color='white',horizontalalignment='center', verticalalignment='center')\n",
    "plt.savefig('marital_status_updated.png')\n",
    "plt.show()"
   ]
  },
  {
   "cell_type": "code",
   "execution_count": 61,
   "id": "c816bc5b",
   "metadata": {},
   "outputs": [
    {
     "data": {
      "text/plain": [
       "Single      4916\n",
       "Married     2602\n",
       "Divorced     753\n",
       "Widowed      306\n",
       "Name: Marital Status, dtype: int64"
      ]
     },
     "execution_count": 61,
     "metadata": {},
     "output_type": "execute_result"
    }
   ],
   "source": [
    " df['Marital Status'].value_counts()"
   ]
  },
  {
   "cell_type": "code",
   "execution_count": 140,
   "id": "eacdb398",
   "metadata": {},
   "outputs": [
    {
     "data": {
      "text/plain": [
       "<Figure size 1200x1000 with 0 Axes>"
      ]
     },
     "metadata": {},
     "output_type": "display_data"
    },
    {
     "data": {
      "image/png": "[encoded data removed]",
      "text/plain": [
       "<Figure size 613.5x500 with 1 Axes>"
      ]
     },
     "metadata": {},
     "output_type": "display_data"
    }
   ],
   "source": [
    "plt.figure(figsize=(12,10))\n",
    "sns.displot(df, x='Age', bins=20, hue='Marital Status').set(title = 'Age distribution conditioned on Marital status')\n",
    "#plt.savefig('age_dist_marital')\n",
    "plt.show()"
   ]
  },
  {
   "cell_type": "code",
   "execution_count": 141,
   "id": "7ef7eb20",
   "metadata": {},
   "outputs": [
    {
     "data": {
      "image/png": "[encoded data removed]",
      "text/plain": [
       "<Figure size 1000x500 with 1 Axes>"
      ]
     },
     "metadata": {},
     "output_type": "display_data"
    }
   ],
   "source": [
    "# Create the boxplot of age by marital status\n",
    "plt.figure(figsize=(10,5))\n",
    "sns.boxplot(x='Age', y='Marital Status', data=df, palette='Set2')\n",
    "plt.axvline(18,color='r',linestyle='dashed',linewidth=1) #add Minor age line\n",
    "\n",
    "# Set chart title and axis labels\n",
    "plt.title('Age Distribution by Marital Status')\n",
    "plt.xlabel('Age')\n",
    "plt.ylabel('Marital Status')\n",
    "\n",
    "# Save the chart to a file\n",
    "plt.savefig('age_marital_status_boxplot')\n"
   ]
  },
  {
   "cell_type": "markdown",
   "id": "b7636109",
   "metadata": {},
   "source": [
    "## Gender (no issues here)"
   ]
  },
  {
   "cell_type": "code",
   "execution_count": 64,
   "id": "4b5c0d2d",
   "metadata": {},
   "outputs": [
    {
     "data": {
      "text/plain": [
       "Female    4501\n",
       "Male      4076\n",
       "Name: Gender, dtype: int64"
      ]
     },
     "execution_count": 64,
     "metadata": {},
     "output_type": "execute_result"
    }
   ],
   "source": [
    "df['Gender'].value_counts()\n"
   ]
  },
  {
   "cell_type": "code",
   "execution_count": 65,
   "id": "495dac9c",
   "metadata": {},
   "outputs": [
    {
     "data": {
      "text/plain": [
       "0"
      ]
     },
     "execution_count": 65,
     "metadata": {},
     "output_type": "execute_result"
    }
   ],
   "source": [
    "df['Gender'].isnull().sum()\n"
   ]
  },
  {
   "cell_type": "code",
   "execution_count": 66,
   "id": "74908292",
   "metadata": {},
   "outputs": [
    {
     "data": {
      "text/plain": [
       "0"
      ]
     },
     "execution_count": 66,
     "metadata": {},
     "output_type": "execute_result"
    }
   ],
   "source": [
    "(df['Gender'] == ' ').sum()"
   ]
  },
  {
   "cell_type": "code",
   "execution_count": 67,
   "id": "7fc6c49d",
   "metadata": {},
   "outputs": [
    {
     "data": {
      "text/plain": [
       "array(['Male', 'Female'], dtype=object)"
      ]
     },
     "execution_count": 67,
     "metadata": {},
     "output_type": "execute_result"
    }
   ],
   "source": [
    "df['Gender'].unique()"
   ]
  },
  {
   "cell_type": "markdown",
   "id": "d08a2ff0",
   "metadata": {},
   "source": [
    "## Occupation"
   ]
  },
  {
   "cell_type": "code",
   "execution_count": 68,
   "id": "cea3c040",
   "metadata": {},
   "outputs": [
    {
     "data": {
      "text/plain": [
       "Student                                    1680\n",
       "University Student                          514\n",
       "Unemployed                                  513\n",
       "Child                                       489\n",
       "Advertising art director                     18\n",
       "                                           ... \n",
       "Retired Barista                               1\n",
       "Retired Pharmacist, community                 1\n",
       "Retired Environmental education officer       1\n",
       "Retired Higher education lecturer             1\n",
       "Retired Hospital pharmacist                   1\n",
       "Name: Occupation, Length: 1070, dtype: int64"
      ]
     },
     "execution_count": 68,
     "metadata": {},
     "output_type": "execute_result"
    }
   ],
   "source": [
    "df['Occupation'].value_counts()"
   ]
  },
  {
   "cell_type": "code",
   "execution_count": 69,
   "id": "cf49b06a",
   "metadata": {},
   "outputs": [
    {
     "data": {
      "text/plain": [
       "0"
      ]
     },
     "execution_count": 69,
     "metadata": {},
     "output_type": "execute_result"
    }
   ],
   "source": [
    "(df['Occupation'] == ' ').sum()"
   ]
  },
  {
   "cell_type": "code",
   "execution_count": 70,
   "id": "6ae9f4ab",
   "metadata": {},
   "outputs": [
    {
     "data": {
      "text/plain": [
       "Student                                    1680\n",
       "University Student                          514\n",
       "Unemployed                                  513\n",
       "Child                                       489\n",
       "Advertising art director                     18\n",
       "                                           ... \n",
       "Retired Barista                               1\n",
       "Retired Pharmacist, community                 1\n",
       "Retired Environmental education officer       1\n",
       "Retired Higher education lecturer             1\n",
       "Retired Hospital pharmacist                   1\n",
       "Name: Occupation, Length: 1070, dtype: int64"
      ]
     },
     "execution_count": 70,
     "metadata": {},
     "output_type": "execute_result"
    }
   ],
   "source": [
    "df['Occupation'].value_counts()"
   ]
  },
  {
   "cell_type": "markdown",
   "id": "dffb8b12",
   "metadata": {},
   "source": [
    "### Assumption based on ritirement law in UK"
   ]
  },
  {
   "cell_type": "code",
   "execution_count": 71,
   "id": "fd17109c",
   "metadata": {},
   "outputs": [
    {
     "data": {
      "text/plain": [
       "40"
      ]
     },
     "execution_count": 71,
     "metadata": {},
     "output_type": "execute_result"
    }
   ],
   "source": [
    "len(df[(df['Occupation'] == 'Unemployed') & (df['Age'] >= 65)])"
   ]
  },
  {
   "cell_type": "code",
   "execution_count": 72,
   "id": "25e39741",
   "metadata": {
    "scrolled": true
   },
   "outputs": [
    {
     "data": {
      "text/html": [
       "<div>\n",
       "<style scoped>\n",
       "    .dataframe tbody tr th:only-of-type {\n",
       "        vertical-align: middle;\n",
       "    }\n",
       "\n",
       "    .dataframe tbody tr th {\n",
       "        vertical-align: top;\n",
       "    }\n",
       "\n",
       "    .dataframe thead th {\n",
       "        text-align: right;\n",
       "    }\n",
       "</style>\n",
       "<table border=\"1\" class=\"dataframe\">\n",
       "  <thead>\n",
       "    <tr style=\"text-align: right;\">\n",
       "      <th></th>\n",
       "      <th>House Number</th>\n",
       "      <th>Street</th>\n",
       "      <th>First Name</th>\n",
       "      <th>Surname</th>\n",
       "      <th>Age</th>\n",
       "      <th>Relationship to Head of House</th>\n",
       "      <th>Marital Status</th>\n",
       "      <th>Gender</th>\n",
       "      <th>Occupation</th>\n",
       "      <th>Infirmity</th>\n",
       "      <th>Religion</th>\n",
       "    </tr>\n",
       "  </thead>\n",
       "  <tbody>\n",
       "    <tr>\n",
       "      <th>287</th>\n",
       "      <td>18</td>\n",
       "      <td>Summer Crescent</td>\n",
       "      <td>Naomi</td>\n",
       "      <td>Hall</td>\n",
       "      <td>78</td>\n",
       "      <td>Head</td>\n",
       "      <td>Widowed</td>\n",
       "      <td>Female</td>\n",
       "      <td>Unemployed</td>\n",
       "      <td>None</td>\n",
       "      <td>Christian</td>\n",
       "    </tr>\n",
       "    <tr>\n",
       "      <th>290</th>\n",
       "      <td>19</td>\n",
       "      <td>Summer Crescent</td>\n",
       "      <td>Kathleen</td>\n",
       "      <td>Humphreys</td>\n",
       "      <td>81</td>\n",
       "      <td>Head</td>\n",
       "      <td>Widowed</td>\n",
       "      <td>Female</td>\n",
       "      <td>Unemployed</td>\n",
       "      <td>None</td>\n",
       "      <td>Methodist</td>\n",
       "    </tr>\n",
       "    <tr>\n",
       "      <th>367</th>\n",
       "      <td>45</td>\n",
       "      <td>Summer Crescent</td>\n",
       "      <td>Ruth</td>\n",
       "      <td>Cooper</td>\n",
       "      <td>67</td>\n",
       "      <td>Head</td>\n",
       "      <td>Widowed</td>\n",
       "      <td>Female</td>\n",
       "      <td>Unemployed</td>\n",
       "      <td>None</td>\n",
       "      <td>Christian</td>\n",
       "    </tr>\n",
       "    <tr>\n",
       "      <th>481</th>\n",
       "      <td>19</td>\n",
       "      <td>Barlow Pike</td>\n",
       "      <td>Patrick</td>\n",
       "      <td>Hurst</td>\n",
       "      <td>85</td>\n",
       "      <td>Husband</td>\n",
       "      <td>Married</td>\n",
       "      <td>Male</td>\n",
       "      <td>Unemployed</td>\n",
       "      <td>None</td>\n",
       "      <td>Christian</td>\n",
       "    </tr>\n",
       "    <tr>\n",
       "      <th>776</th>\n",
       "      <td>8</td>\n",
       "      <td>Column Avenue</td>\n",
       "      <td>Kate</td>\n",
       "      <td>Khan</td>\n",
       "      <td>66</td>\n",
       "      <td>Head</td>\n",
       "      <td>Widowed</td>\n",
       "      <td>Female</td>\n",
       "      <td>Unemployed</td>\n",
       "      <td>None</td>\n",
       "      <td>Christian</td>\n",
       "    </tr>\n",
       "    <tr>\n",
       "      <th>827</th>\n",
       "      <td>29</td>\n",
       "      <td>Column Avenue</td>\n",
       "      <td>Mohammad</td>\n",
       "      <td>Smith</td>\n",
       "      <td>66</td>\n",
       "      <td>Head</td>\n",
       "      <td>Divorced</td>\n",
       "      <td>Male</td>\n",
       "      <td>Unemployed</td>\n",
       "      <td>None</td>\n",
       "      <td>Methodist</td>\n",
       "    </tr>\n",
       "    <tr>\n",
       "      <th>1021</th>\n",
       "      <td>100</td>\n",
       "      <td>Column Avenue</td>\n",
       "      <td>Barry</td>\n",
       "      <td>James</td>\n",
       "      <td>65</td>\n",
       "      <td>Husband</td>\n",
       "      <td>Married</td>\n",
       "      <td>Male</td>\n",
       "      <td>Unemployed</td>\n",
       "      <td>None</td>\n",
       "      <td>Christian</td>\n",
       "    </tr>\n",
       "    <tr>\n",
       "      <th>1338</th>\n",
       "      <td>30</td>\n",
       "      <td>Singh Forge</td>\n",
       "      <td>Lynn</td>\n",
       "      <td>Taylor</td>\n",
       "      <td>65</td>\n",
       "      <td>Wife</td>\n",
       "      <td>Married</td>\n",
       "      <td>Female</td>\n",
       "      <td>Unemployed</td>\n",
       "      <td>None</td>\n",
       "      <td>None</td>\n",
       "    </tr>\n",
       "    <tr>\n",
       "      <th>1898</th>\n",
       "      <td>13</td>\n",
       "      <td>Rosetap Road</td>\n",
       "      <td>Lawrence</td>\n",
       "      <td>Carey</td>\n",
       "      <td>65</td>\n",
       "      <td>Husband</td>\n",
       "      <td>Married</td>\n",
       "      <td>Male</td>\n",
       "      <td>Unemployed</td>\n",
       "      <td>None</td>\n",
       "      <td>None</td>\n",
       "    </tr>\n",
       "    <tr>\n",
       "      <th>2153</th>\n",
       "      <td>20</td>\n",
       "      <td>Wilson Views</td>\n",
       "      <td>Louise</td>\n",
       "      <td>Banks</td>\n",
       "      <td>67</td>\n",
       "      <td>Head</td>\n",
       "      <td>Widowed</td>\n",
       "      <td>Female</td>\n",
       "      <td>Unemployed</td>\n",
       "      <td>None</td>\n",
       "      <td>Christian</td>\n",
       "    </tr>\n",
       "    <tr>\n",
       "      <th>2493</th>\n",
       "      <td>92</td>\n",
       "      <td>Faith Street</td>\n",
       "      <td>Katherine</td>\n",
       "      <td>Wyatt</td>\n",
       "      <td>65</td>\n",
       "      <td>Head</td>\n",
       "      <td>Single</td>\n",
       "      <td>Female</td>\n",
       "      <td>Unemployed</td>\n",
       "      <td>None</td>\n",
       "      <td>Christian</td>\n",
       "    </tr>\n",
       "    <tr>\n",
       "      <th>2686</th>\n",
       "      <td>148</td>\n",
       "      <td>Faith Street</td>\n",
       "      <td>Megan</td>\n",
       "      <td>Barton</td>\n",
       "      <td>77</td>\n",
       "      <td>Head</td>\n",
       "      <td>Married</td>\n",
       "      <td>Female</td>\n",
       "      <td>Unemployed</td>\n",
       "      <td>None</td>\n",
       "      <td>Christian</td>\n",
       "    </tr>\n",
       "    <tr>\n",
       "      <th>2934</th>\n",
       "      <td>15</td>\n",
       "      <td>Clearwater Road</td>\n",
       "      <td>Billy</td>\n",
       "      <td>Martin</td>\n",
       "      <td>67</td>\n",
       "      <td>Head</td>\n",
       "      <td>Widowed</td>\n",
       "      <td>Male</td>\n",
       "      <td>Unemployed</td>\n",
       "      <td>None</td>\n",
       "      <td>Christian</td>\n",
       "    </tr>\n",
       "    <tr>\n",
       "      <th>3068</th>\n",
       "      <td>8</td>\n",
       "      <td>Obelisk Orchard</td>\n",
       "      <td>Anna</td>\n",
       "      <td>Jackson</td>\n",
       "      <td>81</td>\n",
       "      <td>Head</td>\n",
       "      <td>Divorced</td>\n",
       "      <td>Female</td>\n",
       "      <td>Unemployed</td>\n",
       "      <td>None</td>\n",
       "      <td>Methodist</td>\n",
       "    </tr>\n",
       "    <tr>\n",
       "      <th>3195</th>\n",
       "      <td>4</td>\n",
       "      <td>Harvey Dale</td>\n",
       "      <td>Sian</td>\n",
       "      <td>Elliott-Lawrence</td>\n",
       "      <td>77</td>\n",
       "      <td>Head</td>\n",
       "      <td>Divorced</td>\n",
       "      <td>Female</td>\n",
       "      <td>Unemployed</td>\n",
       "      <td>None</td>\n",
       "      <td>Methodist</td>\n",
       "    </tr>\n",
       "    <tr>\n",
       "      <th>3347</th>\n",
       "      <td>32</td>\n",
       "      <td>Harvey Dale</td>\n",
       "      <td>Howard</td>\n",
       "      <td>Smart</td>\n",
       "      <td>93</td>\n",
       "      <td>Husband</td>\n",
       "      <td>Married</td>\n",
       "      <td>Male</td>\n",
       "      <td>Unemployed</td>\n",
       "      <td>None</td>\n",
       "      <td>None</td>\n",
       "    </tr>\n",
       "    <tr>\n",
       "      <th>3615</th>\n",
       "      <td>8</td>\n",
       "      <td>Wales Crescent</td>\n",
       "      <td>Elliott</td>\n",
       "      <td>Foster</td>\n",
       "      <td>72</td>\n",
       "      <td>Head</td>\n",
       "      <td>Widowed</td>\n",
       "      <td>Male</td>\n",
       "      <td>Unemployed</td>\n",
       "      <td>None</td>\n",
       "      <td>None</td>\n",
       "    </tr>\n",
       "    <tr>\n",
       "      <th>3786</th>\n",
       "      <td>11</td>\n",
       "      <td>Corporation Road</td>\n",
       "      <td>Joseph</td>\n",
       "      <td>Thompson</td>\n",
       "      <td>70</td>\n",
       "      <td>Head</td>\n",
       "      <td>Divorced</td>\n",
       "      <td>Male</td>\n",
       "      <td>Unemployed</td>\n",
       "      <td>None</td>\n",
       "      <td>Christian</td>\n",
       "    </tr>\n",
       "    <tr>\n",
       "      <th>3824</th>\n",
       "      <td>24</td>\n",
       "      <td>Corporation Road</td>\n",
       "      <td>Gerard</td>\n",
       "      <td>Foster</td>\n",
       "      <td>67</td>\n",
       "      <td>Husband</td>\n",
       "      <td>Married</td>\n",
       "      <td>Male</td>\n",
       "      <td>Unemployed</td>\n",
       "      <td>None</td>\n",
       "      <td>Methodist</td>\n",
       "    </tr>\n",
       "    <tr>\n",
       "      <th>4518</th>\n",
       "      <td>7</td>\n",
       "      <td>Ryan Greens</td>\n",
       "      <td>Zoe</td>\n",
       "      <td>Harris</td>\n",
       "      <td>76</td>\n",
       "      <td>Head</td>\n",
       "      <td>Married</td>\n",
       "      <td>Female</td>\n",
       "      <td>Unemployed</td>\n",
       "      <td>None</td>\n",
       "      <td>Christian</td>\n",
       "    </tr>\n",
       "    <tr>\n",
       "      <th>4683</th>\n",
       "      <td>51</td>\n",
       "      <td>Parrot Crescent</td>\n",
       "      <td>Nicola</td>\n",
       "      <td>Humphreys</td>\n",
       "      <td>66</td>\n",
       "      <td>Head</td>\n",
       "      <td>Married</td>\n",
       "      <td>Female</td>\n",
       "      <td>Unemployed</td>\n",
       "      <td>None</td>\n",
       "      <td>None</td>\n",
       "    </tr>\n",
       "    <tr>\n",
       "      <th>4744</th>\n",
       "      <td>16</td>\n",
       "      <td>Smith Divide</td>\n",
       "      <td>Alison</td>\n",
       "      <td>Hussain</td>\n",
       "      <td>80</td>\n",
       "      <td>Head</td>\n",
       "      <td>Divorced</td>\n",
       "      <td>Female</td>\n",
       "      <td>Unemployed</td>\n",
       "      <td>None</td>\n",
       "      <td>Methodist</td>\n",
       "    </tr>\n",
       "    <tr>\n",
       "      <th>5006</th>\n",
       "      <td>5</td>\n",
       "      <td>Snapdragon Drive</td>\n",
       "      <td>Bruce</td>\n",
       "      <td>Davies</td>\n",
       "      <td>80</td>\n",
       "      <td>Head</td>\n",
       "      <td>Widowed</td>\n",
       "      <td>Male</td>\n",
       "      <td>Unemployed</td>\n",
       "      <td>None</td>\n",
       "      <td>Christian</td>\n",
       "    </tr>\n",
       "    <tr>\n",
       "      <th>5055</th>\n",
       "      <td>12</td>\n",
       "      <td>Davies Rapids</td>\n",
       "      <td>Jacqueline</td>\n",
       "      <td>Baxter</td>\n",
       "      <td>65</td>\n",
       "      <td>Wife</td>\n",
       "      <td>Married</td>\n",
       "      <td>Female</td>\n",
       "      <td>Unemployed</td>\n",
       "      <td>None</td>\n",
       "      <td>Christian</td>\n",
       "    </tr>\n",
       "    <tr>\n",
       "      <th>5133</th>\n",
       "      <td>10</td>\n",
       "      <td>Read Wells</td>\n",
       "      <td>Mohammed</td>\n",
       "      <td>Johnson</td>\n",
       "      <td>84</td>\n",
       "      <td>Head</td>\n",
       "      <td>Widowed</td>\n",
       "      <td>Male</td>\n",
       "      <td>Unemployed</td>\n",
       "      <td>None</td>\n",
       "      <td>Catholic</td>\n",
       "    </tr>\n",
       "    <tr>\n",
       "      <th>5358</th>\n",
       "      <td>25</td>\n",
       "      <td>Repton Drive</td>\n",
       "      <td>Christopher</td>\n",
       "      <td>Phillips</td>\n",
       "      <td>74</td>\n",
       "      <td>Head</td>\n",
       "      <td>Married</td>\n",
       "      <td>Male</td>\n",
       "      <td>Unemployed</td>\n",
       "      <td>None</td>\n",
       "      <td>Christian</td>\n",
       "    </tr>\n",
       "    <tr>\n",
       "      <th>5365</th>\n",
       "      <td>27</td>\n",
       "      <td>Repton Drive</td>\n",
       "      <td>Paula</td>\n",
       "      <td>Reeves</td>\n",
       "      <td>67</td>\n",
       "      <td>Head</td>\n",
       "      <td>Widowed</td>\n",
       "      <td>Female</td>\n",
       "      <td>Unemployed</td>\n",
       "      <td>None</td>\n",
       "      <td>None</td>\n",
       "    </tr>\n",
       "    <tr>\n",
       "      <th>5585</th>\n",
       "      <td>36</td>\n",
       "      <td>Whitehall Road</td>\n",
       "      <td>Mandy</td>\n",
       "      <td>Clarke</td>\n",
       "      <td>66</td>\n",
       "      <td>Wife</td>\n",
       "      <td>Married</td>\n",
       "      <td>Female</td>\n",
       "      <td>Unemployed</td>\n",
       "      <td>None</td>\n",
       "      <td>Christian</td>\n",
       "    </tr>\n",
       "    <tr>\n",
       "      <th>5861</th>\n",
       "      <td>11</td>\n",
       "      <td>Pugh Drive</td>\n",
       "      <td>Gordon</td>\n",
       "      <td>Scott</td>\n",
       "      <td>67</td>\n",
       "      <td>Head</td>\n",
       "      <td>Married</td>\n",
       "      <td>Male</td>\n",
       "      <td>Unemployed</td>\n",
       "      <td>None</td>\n",
       "      <td>Christian</td>\n",
       "    </tr>\n",
       "    <tr>\n",
       "      <th>5962</th>\n",
       "      <td>28</td>\n",
       "      <td>Gill Hill</td>\n",
       "      <td>Abdul</td>\n",
       "      <td>Johnston</td>\n",
       "      <td>66</td>\n",
       "      <td>Head</td>\n",
       "      <td>Married</td>\n",
       "      <td>Male</td>\n",
       "      <td>Unemployed</td>\n",
       "      <td>None</td>\n",
       "      <td>Methodist</td>\n",
       "    </tr>\n",
       "    <tr>\n",
       "      <th>6148</th>\n",
       "      <td>7</td>\n",
       "      <td>Moore Forges</td>\n",
       "      <td>Julie</td>\n",
       "      <td>Bird</td>\n",
       "      <td>76</td>\n",
       "      <td>Head</td>\n",
       "      <td>Widowed</td>\n",
       "      <td>Female</td>\n",
       "      <td>Unemployed</td>\n",
       "      <td>None</td>\n",
       "      <td>Christian</td>\n",
       "    </tr>\n",
       "    <tr>\n",
       "      <th>6287</th>\n",
       "      <td>2</td>\n",
       "      <td>Bennett Squares</td>\n",
       "      <td>Jeffrey</td>\n",
       "      <td>Moran</td>\n",
       "      <td>67</td>\n",
       "      <td>Head</td>\n",
       "      <td>Divorced</td>\n",
       "      <td>Male</td>\n",
       "      <td>Unemployed</td>\n",
       "      <td>None</td>\n",
       "      <td>Christian</td>\n",
       "    </tr>\n",
       "    <tr>\n",
       "      <th>6372</th>\n",
       "      <td>40</td>\n",
       "      <td>Egbert Trafficway</td>\n",
       "      <td>Jill</td>\n",
       "      <td>Richardson</td>\n",
       "      <td>71</td>\n",
       "      <td>Head</td>\n",
       "      <td>Divorced</td>\n",
       "      <td>Female</td>\n",
       "      <td>Unemployed</td>\n",
       "      <td>None</td>\n",
       "      <td>Christian</td>\n",
       "    </tr>\n",
       "    <tr>\n",
       "      <th>7029</th>\n",
       "      <td>54</td>\n",
       "      <td>Lancelot Summit</td>\n",
       "      <td>Gemma</td>\n",
       "      <td>Garner</td>\n",
       "      <td>67</td>\n",
       "      <td>Head</td>\n",
       "      <td>Widowed</td>\n",
       "      <td>Female</td>\n",
       "      <td>Unemployed</td>\n",
       "      <td>None</td>\n",
       "      <td>Christian</td>\n",
       "    </tr>\n",
       "    <tr>\n",
       "      <th>8140</th>\n",
       "      <td>44</td>\n",
       "      <td>Lees Drive</td>\n",
       "      <td>Christine</td>\n",
       "      <td>White</td>\n",
       "      <td>72</td>\n",
       "      <td>Head</td>\n",
       "      <td>Widowed</td>\n",
       "      <td>Female</td>\n",
       "      <td>Unemployed</td>\n",
       "      <td>None</td>\n",
       "      <td>Christian</td>\n",
       "    </tr>\n",
       "    <tr>\n",
       "      <th>8145</th>\n",
       "      <td>45</td>\n",
       "      <td>Lees Drive</td>\n",
       "      <td>Maureen</td>\n",
       "      <td>Sheppard</td>\n",
       "      <td>65</td>\n",
       "      <td>Head</td>\n",
       "      <td>Married</td>\n",
       "      <td>Female</td>\n",
       "      <td>Unemployed</td>\n",
       "      <td>None</td>\n",
       "      <td>Christian</td>\n",
       "    </tr>\n",
       "    <tr>\n",
       "      <th>8299</th>\n",
       "      <td>38</td>\n",
       "      <td>Potts Valley</td>\n",
       "      <td>Lisa</td>\n",
       "      <td>Young</td>\n",
       "      <td>75</td>\n",
       "      <td>Head</td>\n",
       "      <td>Widowed</td>\n",
       "      <td>Female</td>\n",
       "      <td>Unemployed</td>\n",
       "      <td>None</td>\n",
       "      <td>Christian</td>\n",
       "    </tr>\n",
       "    <tr>\n",
       "      <th>8520</th>\n",
       "      <td>1</td>\n",
       "      <td>Peterborough Bastion</td>\n",
       "      <td>Jonathan</td>\n",
       "      <td>Booth</td>\n",
       "      <td>69</td>\n",
       "      <td>Head</td>\n",
       "      <td>Divorced</td>\n",
       "      <td>Male</td>\n",
       "      <td>Unemployed</td>\n",
       "      <td>None</td>\n",
       "      <td>Methodist</td>\n",
       "    </tr>\n",
       "    <tr>\n",
       "      <th>8527</th>\n",
       "      <td>1</td>\n",
       "      <td>Riley Lighthouse</td>\n",
       "      <td>Christine</td>\n",
       "      <td>Chadwick</td>\n",
       "      <td>67</td>\n",
       "      <td>Head</td>\n",
       "      <td>Widowed</td>\n",
       "      <td>Female</td>\n",
       "      <td>Unemployed</td>\n",
       "      <td>None</td>\n",
       "      <td>Christian</td>\n",
       "    </tr>\n",
       "    <tr>\n",
       "      <th>8568</th>\n",
       "      <td>1</td>\n",
       "      <td>Simmons Delve</td>\n",
       "      <td>Cameron</td>\n",
       "      <td>Wheeler</td>\n",
       "      <td>85</td>\n",
       "      <td>Husband</td>\n",
       "      <td>Married</td>\n",
       "      <td>Male</td>\n",
       "      <td>Unemployed</td>\n",
       "      <td>None</td>\n",
       "      <td>Christian</td>\n",
       "    </tr>\n",
       "  </tbody>\n",
       "</table>\n",
       "</div>"
      ],
      "text/plain": [
       "      House Number                Street   First Name           Surname  Age  \\\n",
       "287             18       Summer Crescent        Naomi              Hall   78   \n",
       "290             19       Summer Crescent     Kathleen         Humphreys   81   \n",
       "367             45       Summer Crescent         Ruth            Cooper   67   \n",
       "481             19           Barlow Pike      Patrick             Hurst   85   \n",
       "776              8         Column Avenue         Kate              Khan   66   \n",
       "827             29         Column Avenue     Mohammad             Smith   66   \n",
       "1021           100         Column Avenue        Barry             James   65   \n",
       "1338            30           Singh Forge         Lynn            Taylor   65   \n",
       "1898            13          Rosetap Road     Lawrence             Carey   65   \n",
       "2153            20          Wilson Views       Louise             Banks   67   \n",
       "2493            92          Faith Street    Katherine             Wyatt   65   \n",
       "2686           148          Faith Street        Megan            Barton   77   \n",
       "2934            15       Clearwater Road        Billy            Martin   67   \n",
       "3068             8       Obelisk Orchard         Anna           Jackson   81   \n",
       "3195             4           Harvey Dale         Sian  Elliott-Lawrence   77   \n",
       "3347            32           Harvey Dale       Howard             Smart   93   \n",
       "3615             8        Wales Crescent      Elliott            Foster   72   \n",
       "3786            11      Corporation Road       Joseph          Thompson   70   \n",
       "3824            24      Corporation Road       Gerard            Foster   67   \n",
       "4518             7           Ryan Greens          Zoe            Harris   76   \n",
       "4683            51       Parrot Crescent       Nicola         Humphreys   66   \n",
       "4744            16          Smith Divide       Alison           Hussain   80   \n",
       "5006             5      Snapdragon Drive        Bruce            Davies   80   \n",
       "5055            12         Davies Rapids   Jacqueline            Baxter   65   \n",
       "5133            10            Read Wells     Mohammed           Johnson   84   \n",
       "5358            25          Repton Drive  Christopher          Phillips   74   \n",
       "5365            27          Repton Drive        Paula            Reeves   67   \n",
       "5585            36        Whitehall Road        Mandy            Clarke   66   \n",
       "5861            11            Pugh Drive       Gordon             Scott   67   \n",
       "5962            28             Gill Hill        Abdul          Johnston   66   \n",
       "6148             7          Moore Forges        Julie              Bird   76   \n",
       "6287             2       Bennett Squares      Jeffrey             Moran   67   \n",
       "6372            40     Egbert Trafficway         Jill        Richardson   71   \n",
       "7029            54       Lancelot Summit        Gemma            Garner   67   \n",
       "8140            44            Lees Drive    Christine             White   72   \n",
       "8145            45            Lees Drive      Maureen          Sheppard   65   \n",
       "8299            38          Potts Valley         Lisa             Young   75   \n",
       "8520             1  Peterborough Bastion     Jonathan             Booth   69   \n",
       "8527             1      Riley Lighthouse    Christine          Chadwick   67   \n",
       "8568             1         Simmons Delve      Cameron           Wheeler   85   \n",
       "\n",
       "     Relationship to Head of House Marital Status  Gender  Occupation  \\\n",
       "287                           Head        Widowed  Female  Unemployed   \n",
       "290                           Head        Widowed  Female  Unemployed   \n",
       "367                           Head        Widowed  Female  Unemployed   \n",
       "481                        Husband        Married    Male  Unemployed   \n",
       "776                           Head        Widowed  Female  Unemployed   \n",
       "827                           Head       Divorced    Male  Unemployed   \n",
       "1021                       Husband        Married    Male  Unemployed   \n",
       "1338                          Wife        Married  Female  Unemployed   \n",
       "1898                       Husband        Married    Male  Unemployed   \n",
       "2153                          Head        Widowed  Female  Unemployed   \n",
       "2493                          Head         Single  Female  Unemployed   \n",
       "2686                          Head        Married  Female  Unemployed   \n",
       "2934                          Head        Widowed    Male  Unemployed   \n",
       "3068                          Head       Divorced  Female  Unemployed   \n",
       "3195                          Head       Divorced  Female  Unemployed   \n",
       "3347                       Husband        Married    Male  Unemployed   \n",
       "3615                          Head        Widowed    Male  Unemployed   \n",
       "3786                          Head       Divorced    Male  Unemployed   \n",
       "3824                       Husband        Married    Male  Unemployed   \n",
       "4518                          Head        Married  Female  Unemployed   \n",
       "4683                          Head        Married  Female  Unemployed   \n",
       "4744                          Head       Divorced  Female  Unemployed   \n",
       "5006                          Head        Widowed    Male  Unemployed   \n",
       "5055                          Wife        Married  Female  Unemployed   \n",
       "5133                          Head        Widowed    Male  Unemployed   \n",
       "5358                          Head        Married    Male  Unemployed   \n",
       "5365                          Head        Widowed  Female  Unemployed   \n",
       "5585                          Wife        Married  Female  Unemployed   \n",
       "5861                          Head        Married    Male  Unemployed   \n",
       "5962                          Head        Married    Male  Unemployed   \n",
       "6148                          Head        Widowed  Female  Unemployed   \n",
       "6287                          Head       Divorced    Male  Unemployed   \n",
       "6372                          Head       Divorced  Female  Unemployed   \n",
       "7029                          Head        Widowed  Female  Unemployed   \n",
       "8140                          Head        Widowed  Female  Unemployed   \n",
       "8145                          Head        Married  Female  Unemployed   \n",
       "8299                          Head        Widowed  Female  Unemployed   \n",
       "8520                          Head       Divorced    Male  Unemployed   \n",
       "8527                          Head        Widowed  Female  Unemployed   \n",
       "8568                       Husband        Married    Male  Unemployed   \n",
       "\n",
       "     Infirmity   Religion  \n",
       "287       None  Christian  \n",
       "290       None  Methodist  \n",
       "367       None  Christian  \n",
       "481       None  Christian  \n",
       "776       None  Christian  \n",
       "827       None  Methodist  \n",
       "1021      None  Christian  \n",
       "1338      None       None  \n",
       "1898      None       None  \n",
       "2153      None  Christian  \n",
       "2493      None  Christian  \n",
       "2686      None  Christian  \n",
       "2934      None  Christian  \n",
       "3068      None  Methodist  \n",
       "3195      None  Methodist  \n",
       "3347      None       None  \n",
       "3615      None       None  \n",
       "3786      None  Christian  \n",
       "3824      None  Methodist  \n",
       "4518      None  Christian  \n",
       "4683      None       None  \n",
       "4744      None  Methodist  \n",
       "5006      None  Christian  \n",
       "5055      None  Christian  \n",
       "5133      None   Catholic  \n",
       "5358      None  Christian  \n",
       "5365      None       None  \n",
       "5585      None  Christian  \n",
       "5861      None  Christian  \n",
       "5962      None  Methodist  \n",
       "6148      None  Christian  \n",
       "6287      None  Christian  \n",
       "6372      None  Christian  \n",
       "7029      None  Christian  \n",
       "8140      None  Christian  \n",
       "8145      None  Christian  \n",
       "8299      None  Christian  \n",
       "8520      None  Methodist  \n",
       "8527      None  Christian  \n",
       "8568      None  Christian  "
      ]
     },
     "execution_count": 72,
     "metadata": {},
     "output_type": "execute_result"
    }
   ],
   "source": [
    "df[(df['Occupation'] == 'Unemployed') & (df['Age'] >= 65)]"
   ]
  },
  {
   "cell_type": "code",
   "execution_count": 73,
   "id": "e4d08fe2",
   "metadata": {},
   "outputs": [],
   "source": [
    "df.loc[(df['Occupation'] == 'Unemployed') & (df['Age'] >= 65) & (df['Occupation'] == 'Unemployed'), 'Occupation'] = 'Retired'"
   ]
  },
  {
   "cell_type": "code",
   "execution_count": 74,
   "id": "165e0ac1",
   "metadata": {},
   "outputs": [
    {
     "name": "stdout",
     "output_type": "stream",
     "text": [
      "1071\n"
     ]
    }
   ],
   "source": [
    "print(df['Occupation'].nunique())"
   ]
  },
  {
   "cell_type": "code",
   "execution_count": 75,
   "id": "3a46442d",
   "metadata": {},
   "outputs": [
    {
     "name": "stdout",
     "output_type": "stream",
     "text": [
      "Retired Freight forwarder\n",
      "Retired Intelligence analyst\n",
      "Retired Horticultural therapist\n",
      "Retired Manufacturing engineer\n",
      "Retired Herbalist\n",
      "Retired Location manager\n",
      "Retired Ergonomist\n",
      "Retired Museum/gallery curator\n",
      "Retired Sports coach\n",
      "Retired Field seismologist\n",
      "Retired IT technical support officer\n",
      "Retired Restaurant manager\n",
      "Retired Teacher, special educational needs\n",
      "Retired Surveyor, building control\n",
      "Retired Clinical cytogeneticist\n",
      "Retired Fashion designer\n",
      "Retired Social researcher\n",
      "Retired Hospital doctor\n",
      "Retired\n",
      "Retired\n",
      "Retired Nature conservation officer\n",
      "Retired\n",
      "Retired Building services engineer\n",
      "Retired Further education lecturer\n",
      "Retired Health physicist\n",
      "Retired Special educational needs teacher\n",
      "Retired Lobbyist\n",
      "Retired Fitness centre manager\n",
      "Retired Programmer, multimedia\n",
      "Retired Private music teacher\n",
      "Retired Professor Emeritus\n",
      "Retired Building services engineer\n",
      "Retired\n",
      "Retired Financial adviser\n",
      "Retired Therapist, drama\n",
      "Retired Rural practice surveyor\n",
      "Retired Therapist, horticultural\n",
      "Retired Comptroller\n",
      "Retired Chief Financial Officer\n",
      "Retired Museum/gallery curator\n",
      "Retired Production designer, theatre/television/film\n",
      "Retired Metallurgist\n",
      "Retired Sports coach\n",
      "Retired Engineer, maintenance\n",
      "Retired Learning mentor\n",
      "Retired Investment analyst\n",
      "Retired Theatre stage manager\n",
      "Retired Development worker, community\n",
      "Retired Biomedical engineer\n",
      "Retired Exhibitions officer, museum/gallery\n",
      "Retired Youth worker\n",
      "Retired Nature conservation officer\n",
      "Retired Midwife\n",
      "Retired Designer, ceramics/pottery\n",
      "Retired Scientist, product/process development\n",
      "Retired Journalist, newspaper\n",
      "Retired Designer, furniture\n",
      "Retired Geologist, engineering\n",
      "Retired Television/film/video producer\n",
      "Retired Volunteer coordinator\n",
      "Retired\n",
      "Retired Sales promotion account executive\n",
      "Retired Clinical research associate\n",
      "Retired\n",
      "Retired Manufacturing engineer\n",
      "Retired Engineering geologist\n",
      "Retired Pilot, airline\n",
      "Retired Research officer, political party\n",
      "Retired Chartered certified accountant\n",
      "Retired Engineering geologist\n",
      "Retired Contracting civil engineer\n",
      "Retired Magazine journalist\n",
      "Retired Hydrographic surveyor\n",
      "Retired Health promotion specialist\n",
      "Retired Wellsite geologist\n",
      "Retired Arts development officer\n",
      "Retired Ambulance person\n",
      "Retired Engineer, communications\n",
      "Retired Psychologist, counselling\n",
      "Retired Cabin crew\n",
      "Retired\n",
      "Retired Designer, multimedia\n",
      "Retired Scientist, product/process development\n",
      "Retired Product manager\n",
      "Retired Lexicographer\n",
      "Retired Therapist, music\n",
      "Retired Chemical engineer\n",
      "Retired Land\n",
      "Retired Clinical cytogeneticist\n",
      "Retired Armed forces technical officer\n",
      "Retired Health and safety inspector\n",
      "Retired Medical physicist\n",
      "Retired Sound technician, broadcasting/film/video\n",
      "Retired Producer, radio\n",
      "Retired Chief of Staff\n",
      "Retired Restaurant manager\n",
      "Retired Art therapist\n",
      "Retired Engineer, civil (contracting)\n",
      "Retired English as a foreign language teacher\n",
      "Retired Armed forces training and education officer\n",
      "Retired Solicitor\n",
      "Retired Operational researcher\n",
      "Retired Pathologist\n",
      "Retired Consulting civil engineer\n",
      "Retired Educational psychologist\n",
      "Retired\n",
      "Retired Chief Technology Officer\n",
      "Retired Forensic scientist\n",
      "Retired Journalist, broadcasting\n",
      "Retired Designer, fashion/clothing\n",
      "Retired Adult guidance worker\n",
      "Retired Surveyor, minerals\n",
      "Retired Comptroller\n",
      "Retired Administrator\n",
      "Retired Financial risk analyst\n",
      "Retired Insurance account manager\n",
      "Retired Counsellor\n",
      "Retired Gaffer\n",
      "Retired Chiropodist\n",
      "Retired Passenger transport manager\n",
      "Retired Paediatric nurse\n",
      "Retired Theatre manager\n",
      "Retired Amenity horticulturist\n",
      "Retired Legal secretary\n",
      "Retired Nurse, mental health\n",
      "Retired Leisure centre manager\n",
      "Retired Financial planner\n",
      "Retired Brewing technologist\n",
      "Retired Engineer, maintenance\n",
      "Retired Engineer, drilling\n",
      "Retired Lecturer, higher education\n",
      "Retired Interpreter\n",
      "Retired Commissioning editor\n",
      "Retired Presenter, broadcasting\n",
      "Retired Health physicist\n",
      "Retired Ceramics designer\n",
      "Retired Tree surgeon\n",
      "Retired IT trainer\n",
      "Retired Sound technician, broadcasting/film/video\n",
      "Retired Operational researcher\n",
      "Retired Animal technologist\n",
      "Retired Optometrist\n",
      "Retired Industrial/product designer\n",
      "Retired Surgeon\n",
      "Retired Engineer, biomedical\n",
      "Retired Copy\n",
      "Retired Special effects artist\n",
      "Retired Quantity surveyor\n",
      "Retired Museum/gallery conservator\n",
      "Retired\n",
      "Retired Risk manager\n",
      "Retired Sales promotion account executive\n",
      "Retired Product manager\n",
      "Retired Land\n",
      "Retired Retail manager\n",
      "Retired Charity fundraiser\n",
      "Retired Education officer, community\n",
      "Retired Sports development officer\n",
      "Retired Advertising account executive\n",
      "Retired Contractor\n",
      "Retired\n",
      "Retired Academic librarian\n",
      "Retired Public house manager\n",
      "Retired Games developer\n",
      "Retired Land\n",
      "Retired Biochemist, clinical\n",
      "Retired Teacher, primary school\n",
      "Retired Comptroller\n",
      "Retired General practice doctor\n",
      "Retired Midwife\n",
      "Retired Senior tax professional/tax inspector\n",
      "Retired Geophysical data processor\n",
      "Retired Energy manager\n",
      "Retired Licensed conveyancer\n",
      "Retired Radiation protection practitioner\n",
      "Retired Scientist, forensic\n",
      "Retired Writer\n",
      "Retired Sports therapist\n",
      "Retired Arboriculturist\n",
      "Retired Radiographer, diagnostic\n",
      "Retired\n",
      "Retired Trade union research officer\n",
      "Retired Engineer, chemical\n",
      "Retired Research officer, trade union\n",
      "Retired Lexicographer\n",
      "Retired\n",
      "Retired Manufacturing engineer\n",
      "Retired Surveyor, minerals\n",
      "Retired Teacher, special educational needs\n",
      "Retired Accommodation manager\n",
      "Retired Sound technician, broadcasting/film/video\n",
      "Retired Investment banker, operational\n",
      "Retired Teacher, secondary school\n",
      "Retired Optometrist\n",
      "Retired Corporate treasurer\n",
      "Retired Farm manager\n",
      "Retired Loss adjuster, chartered\n",
      "Retired Geoscientist\n",
      "Retired Logistics and distribution manager\n",
      "Retired Fashion designer\n",
      "Retired\n",
      "Retired Radiographer, diagnostic\n",
      "Retired Magazine journalist\n",
      "Retired Community arts worker\n",
      "Retired Police officer\n",
      "Retired Tax inspector\n",
      "Retired Surveyor, hydrographic\n",
      "Retired Mental health nurse\n",
      "Retired Textile designer\n",
      "Retired Production designer, theatre/television/film\n",
      "Retired Social researcher\n",
      "Retired Building surveyor\n",
      "Retired Estate agent\n",
      "Retired Engineer, maintenance\n",
      "Retired Ergonomist\n",
      "Retired Research scientist (life sciences)\n",
      "Retired Public relations account executive\n",
      "Retired\n",
      "Retired Teacher, English as a foreign language\n",
      "Retired Chartered legal executive (England and Wales)\n",
      "Retired Radiographer, therapeutic\n",
      "Retired Claims inspector/assessor\n",
      "Retired Armed forces operational officer\n",
      "Retired Broadcast journalist\n",
      "Retired Haematologist\n",
      "Retired Passenger transport manager\n",
      "Retired Information systems manager\n",
      "Retired Publishing copy\n",
      "Retired Community education officer\n",
      "Retired Patent examiner\n",
      "Retired Teacher, adult education\n",
      "Retired Engineer, structural\n",
      "Retired Chief Strategy Officer\n",
      "Retired Community education officer\n",
      "Retired Conservator, furniture\n",
      "Retired Hydrologist\n",
      "Retired Theatre manager\n",
      "Retired\n",
      "Retired Ceramics designer\n",
      "Retired Personal assistant\n",
      "Retired Cytogeneticist\n",
      "Retired Theatre stage manager\n",
      "Retired Drilling engineer\n",
      "Retired Aeronautical engineer\n",
      "Retired\n",
      "Retired Scientist, physiological\n",
      "Retired Volunteer coordinator\n",
      "Retired Designer, graphic\n",
      "Retired Buyer, retail\n",
      "Retired Interior and spatial designer\n",
      "Retired Psychotherapist, dance movement\n",
      "Retired Chief Operating Officer\n",
      "Retired Broadcast engineer\n",
      "Retired Health promotion specialist\n",
      "Retired\n",
      "Retired Psychologist, clinical\n",
      "Retired Risk manager\n",
      "Retired Sub\n",
      "Retired Charity officer\n",
      "Retired Psychiatric nurse\n",
      "Retired Database administrator\n",
      "Retired Financial adviser\n",
      "Retired\n",
      "Retired Chemist, analytical\n",
      "Retired Agricultural consultant\n",
      "Retired Librarian, public\n",
      "Retired Psychologist, occupational\n",
      "Retired\n",
      "Retired Museum/gallery exhibitions officer\n",
      "Retired Physiotherapist\n",
      "Retired Legal executive\n",
      "Retired Location manager\n",
      "Retired Journalist, newspaper\n",
      "Retired Higher education lecturer\n",
      "Retired Therapist, horticultural\n",
      "Retired Environmental education officer\n",
      "Retired Site engineer\n",
      "Retired Pharmacist, community\n",
      "Retired Psychologist, forensic\n",
      "Retired Barista\n",
      "Retired Research scientist (maths)\n",
      "Retired Learning disability nurse\n",
      "Retired Medical physicist\n",
      "Retired Furniture designer\n",
      "Retired Agricultural engineer\n",
      "Retired Engineer, automotive\n",
      "Retired Librarian, public\n",
      "Retired Garment/textile technologist\n",
      "Retired Engineer, control and instrumentation\n",
      "Retired Newspaper journalist\n",
      "Retired Ship broker\n",
      "Retired Petroleum engineer\n",
      "Retired Therapist, horticultural\n",
      "Retired Bonds trader\n",
      "Retired Scientist, forensic\n",
      "Retired Mudlogger\n",
      "Retired Passenger transport manager\n",
      "Retired Chief Marketing Officer\n",
      "Retired Oncologist\n",
      "Retired Automotive engineer\n",
      "Retired Geophysicist/field seismologist\n",
      "Retired Geologist, engineering\n",
      "Retired Technical author\n",
      "Retired Theatre manager\n",
      "Retired Astronomer\n",
      "Retired Doctor, general practice\n",
      "Retired Press photographer\n",
      "Retired Scientific laboratory technician\n",
      "Retired Newspaper journalist\n",
      "Retired Commercial horticulturist\n",
      "Retired Proofreader\n",
      "Retired Special effects artist\n",
      "Retired Trade mark attorney\n",
      "Retired Clinical biochemist\n",
      "Retired Physiological scientist\n",
      "Retired Estate agent\n",
      "Retired Engineer, manufacturing systems\n",
      "Retired Producer, television/film/video\n",
      "Retired Legal executive\n",
      "Retired Museum/gallery conservator\n",
      "Retired Radiographer, diagnostic\n",
      "Retired Buyer, retail\n",
      "Retired Engineer, drilling\n",
      "Retired Ophthalmologist\n",
      "Retired Radio producer\n",
      "Retired Surveyor, planning and development\n",
      "Retired Scientific laboratory technician\n",
      "Retired Games developer\n",
      "Retired Museum education officer\n",
      "Retired Systems analyst\n",
      "Retired Local government officer\n",
      "Retired Sports administrator\n",
      "Retired Engineer, maintenance (IT)\n",
      "Retired Legal secretary\n",
      "Retired Associate Professor\n",
      "Retired\n",
      "Retired Administrator, local government\n",
      "Retired Architect\n",
      "Retired Graphic designer\n",
      "Retired Museum/gallery curator\n",
      "Retired\n",
      "Retired Health physicist\n",
      "Retired Textile designer\n",
      "Retired\n",
      "Retired Forensic psychologist\n",
      "Retired Print production planner\n",
      "Retired Musician\n",
      "Retired Surveyor, rural practice\n",
      "Retired Radiographer, therapeutic\n",
      "Retired Sports development officer\n",
      "Retired Broadcast presenter\n",
      "Retired Midwife\n",
      "Retired Armed forces training and education officer\n",
      "Retired Lecturer, further education\n",
      "Retired Designer, exhibition/display\n",
      "Retired Jewellery designer\n",
      "Retired Estate agent\n",
      "Retired Audiological scientist\n",
      "Retired Commercial/residential surveyor\n",
      "Retired Public affairs consultant\n",
      "Retired Computer games developer\n",
      "Retired Patent attorney\n",
      "Retired Social researcher\n",
      "Retired Health service manager\n",
      "Retired Chartered certified accountant\n",
      "Retired Probation officer\n",
      "Retired Games developer\n",
      "Retired Television production assistant\n",
      "Retired Hydrologist\n",
      "Retired Interior and spatial designer\n",
      "Retired Warden/ranger\n",
      "Retired Systems analyst\n",
      "Retired Herpetologist\n",
      "Retired Passenger transport manager\n",
      "Retired Social worker\n",
      "Retired\n",
      "Retired Seismic interpreter\n",
      "Retired\n",
      "Retired Engineer, manufacturing systems\n",
      "Retired Dance movement psychotherapist\n",
      "Retired Immigration officer\n",
      "Retired Therapist, sports\n",
      "Retired IT trainer\n",
      "Retired\n",
      "Retired Engineer, maintenance\n",
      "Retired Site engineer\n",
      "Retired Professor Emeritus\n",
      "Retired Engineer, civil (consulting)\n",
      "Retired Recycling officer\n",
      "Retired Professor Emeritus\n",
      "Retired Psychologist, counselling\n",
      "Retired Civil engineer, consulting\n",
      "Retired Newspaper journalist\n",
      "Retired Clothing/textile technologist\n",
      "Retired Media planner\n",
      "Retired Horticultural therapist\n",
      "Retired Psychologist, sport and exercise\n",
      "Retired Teacher, special educational needs\n",
      "Retired Engineer, drilling\n",
      "Retired Corporate investment banker\n",
      "Retired Geographical information systems officer\n",
      "Retired Company secretary\n",
      "Retired\n",
      "Retired Development worker, community\n",
      "Retired\n",
      "Retired Psychologist, occupational\n",
      "Retired Teacher, adult education\n",
      "Retired Conservator, furniture\n",
      "Retired Chiropodist\n",
      "Retired Glass blower/designer\n",
      "Retired Therapist, art\n",
      "Retired Ergonomist\n",
      "Retired Geneticist, molecular\n",
      "Retired Designer, multimedia\n",
      "Retired Therapist, art\n",
      "Retired Tree surgeon\n",
      "Retired Therapist, art\n",
      "Retired Applications developer\n",
      "Retired Surveyor, rural practice\n",
      "Retired Bonds trader\n",
      "Retired Jewellery designer\n",
      "Retired Hydrogeologist\n",
      "Retired Sub\n",
      "Retired Occupational therapist\n",
      "Retired Scientist, forensic\n",
      "Retired Legal secretary\n",
      "Retired Administrator, charities/voluntary organisations\n",
      "Retired Careers information officer\n",
      "Retired Exercise physiologist\n",
      "Retired Teacher, English as a foreign language\n",
      "Retired\n",
      "Retired Psychologist, forensic\n",
      "Retired Teacher, English as a foreign language\n",
      "Retired Surveyor, commercial/residential\n",
      "Retired Medical laboratory scientific officer\n",
      "Retired Therapist, horticultural\n",
      "Retired Surveyor, quantity\n",
      "Retired Television/film/video producer\n",
      "Retired Cabin crew\n",
      "Retired Software engineer\n",
      "Retired Careers adviser\n",
      "Retired Designer, exhibition/display\n",
      "Retired Product designer\n",
      "Retired Best boy\n",
      "Retired Commercial horticulturist\n",
      "Retired Furniture conservator/restorer\n",
      "Retired Engineer, technical sales\n",
      "Retired Colour technologist\n",
      "Retired Broadcast journalist\n",
      "Retired Designer, interior/spatial\n",
      "Retired Actor\n",
      "Retired Buyer, industrial\n",
      "Retired Contractor\n",
      "Retired Water quality scientist\n",
      "Retired Adult nurse\n",
      "Retired Commercial horticulturist\n",
      "Retired\n",
      "Retired Animal nutritionist\n",
      "Retired Warehouse manager\n",
      "Retired Advice worker\n",
      "Retired Nature conservation officer\n",
      "Retired Further education lecturer\n",
      "Retired Hydrographic surveyor\n",
      "Retired Fashion designer\n",
      "Retired Architect\n",
      "Retired Journalist, magazine\n",
      "Retired Conservation officer, historic buildings\n",
      "Retired Psychologist, forensic\n",
      "Retired Graphic designer\n",
      "Retired Quarry manager\n",
      "Retired Financial trader\n",
      "Retired Administrator, arts\n",
      "Retired Engineer, broadcasting (operations)\n",
      "Retired Mental health nurse\n",
      "Retired Occupational therapist\n",
      "Retired Equities trader\n",
      "Retired Secondary school teacher\n",
      "Retired\n",
      "Retired Advertising copywriter\n",
      "Retired Cabin crew\n",
      "Retired Volunteer coordinator\n",
      "Retired Medical secretary\n",
      "Retired Multimedia programmer\n",
      "Retired Psychologist, counselling\n",
      "Retired Bonds trader\n",
      "Retired Astronomer\n",
      "Retired Dancer\n",
      "Retired Engineer, materials\n",
      "Retired Editor, magazine features\n",
      "Retired Hydrologist\n",
      "Retired Architect\n",
      "Retired Research scientist (medical)\n",
      "Retired Chief Financial Officer\n",
      "Retired Museum/gallery conservator\n",
      "Retired Radio broadcast assistant\n",
      "Retired Engineer, electronics\n",
      "Retired Mining engineer\n",
      "Retired Veterinary surgeon\n",
      "Retired Engineer, agricultural\n",
      "Retired General practice doctor\n",
      "Retired Engineer, aeronautical\n",
      "Retired IT sales professional\n",
      "Retired Information systems manager\n",
      "Retired Museum/gallery curator\n",
      "Retired Printmaker\n",
      "Retired Science writer\n",
      "Retired\n",
      "Retired Psychotherapist\n",
      "Retired Occupational therapist\n",
      "Retired Surgeon\n",
      "Retired Television production assistant\n",
      "Retired Hydrographic surveyor\n",
      "Retired Licensed conveyancer\n",
      "Retired Accounting technician\n",
      "Retired Teacher, secondary school\n",
      "Retired Surveyor, minerals\n",
      "Retired Clinical research associate\n",
      "Retired Museum/gallery exhibitions officer\n",
      "Retired Film/video editor\n",
      "Retired Occupational psychologist\n",
      "Retired Clinical scientist, histocompatibility and immunogenetics\n",
      "Retired Information systems manager\n",
      "Retired Personnel officer\n",
      "Retired Radiographer, diagnostic\n",
      "Retired Adult guidance worker\n",
      "Retired Engineer, building services\n",
      "Retired Haematologist\n",
      "Retired\n",
      "Retired Public house manager\n",
      "Retired Accountant, chartered management\n",
      "Retired Product/process development scientist\n",
      "Retired Research officer, government\n",
      "Retired Writer\n",
      "Retired Market researcher\n",
      "Retired Scientist, research (medical)\n",
      "Retired Counselling psychologist\n",
      "Retired Print production planner\n",
      "Retired Insurance underwriter\n",
      "Retired Optometrist\n",
      "Retired Public affairs consultant\n",
      "Retired Comptroller\n",
      "Retired Contractor\n",
      "Retired Garment/textile technologist\n",
      "Retired International aid/development worker\n",
      "Retired Fast food restaurant manager\n",
      "Retired Designer, interior/spatial\n",
      "Retired\n",
      "Retired Television camera operator\n",
      "Retired Animator\n",
      "Retired Designer, ceramics/pottery\n",
      "Retired Data processing manager\n",
      "Retired Recycling officer\n",
      "Retired Architect\n",
      "Retired Historic buildings inspector/conservation officer\n",
      "Retired Prison officer\n",
      "Retired Exhibitions officer, museum/gallery\n",
      "Retired Interpreter\n",
      "Retired Civil Service fast streamer\n",
      "Retired Toxicologist\n",
      "Retired Product designer\n",
      "Retired Civil Service administrator\n",
      "Retired Brewing technologist\n",
      "Retired Scientific laboratory technician\n",
      "Retired Hydrogeologist\n",
      "Retired Translator\n",
      "Retired Customer service manager\n",
      "Retired Museum education officer\n",
      "Retired Designer, textile\n",
      "Retired Designer, exhibition/display\n",
      "Retired Television floor manager\n",
      "Retired Geographical information systems officer\n",
      "Retired Sub\n",
      "Retired Medical physicist\n",
      "Retired Secretary, company\n",
      "Retired Medical physicist\n",
      "Retired Designer, interior/spatial\n",
      "Retired Information officer\n",
      "Retired IT sales professional\n",
      "Retired Radiographer, therapeutic\n",
      "Retired Teaching laboratory technician\n",
      "Retired Ranger/warden\n",
      "Retired Programmer, systems\n",
      "Retired Aid worker\n",
      "Retired Copy\n",
      "Retired Journalist, magazine\n",
      "Retired Art therapist\n",
      "Retired Race relations officer\n",
      "Retired IT consultant\n",
      "Retired Proofreader\n",
      "Retired Accommodation manager\n",
      "Retired Theatre stage manager\n",
      "Retired Fine artist\n",
      "Retired Radiographer, diagnostic\n",
      "Retired IT trainer\n",
      "Retired Editor, film/video\n",
      "Retired Civil Service administrator\n",
      "Retired\n",
      "Retired Forensic psychologist\n",
      "Retired Psychologist, prison and probation services\n",
      "Retired Volunteer coordinator\n",
      "Retired Games developer\n",
      "Retired Insurance broker\n",
      "Retired Surveyor, commercial/residential\n",
      "Retired Psychotherapist, dance movement\n",
      "Retired Land/geomatics surveyor\n",
      "Retired Cartographer\n",
      "Retired Engineer, site\n",
      "Retired Naval architect\n",
      "Retired Engineer, building services\n",
      "Retired Naval architect\n",
      "Retired Therapist, speech and language\n",
      "Retired Investment banker, corporate\n",
      "Retired Musician\n",
      "Retired Travel agency manager\n",
      "Retired Administrator, Civil Service\n",
      "Retired Fashion designer\n",
      "Retired Teacher, early years/pre\n",
      "Retired Graphic designer\n",
      "Retired Teacher, English as a foreign language\n",
      "Retired Financial trader\n",
      "Retired Nurse, adult\n",
      "Retired Operations geologist\n",
      "Retired Copywriter, advertising\n",
      "Retired Firefighter\n",
      "Retired Clinical molecular geneticist\n",
      "Retired Actor\n",
      "Retired Financial manager\n",
      "Retired Broadcast engineer\n",
      "Retired Radiographer, diagnostic\n",
      "Retired Retail buyer\n",
      "Retired Probation officer\n",
      "Retired Hydrographic surveyor\n",
      "Retired Horticulturist, amenity\n",
      "Retired Farm manager\n",
      "Retired Health and safety inspector\n",
      "Retired Network engineer\n",
      "Retired Communications engineer\n",
      "Retired Veterinary surgeon\n",
      "Retired Chief Financial Officer\n",
      "Retired Pensions consultant\n",
      "Retired Water engineer\n",
      "Retired Scientist, forensic\n",
      "Retired Surveyor, commercial/residential\n",
      "Retired Product manager\n",
      "Retired Probation officer\n",
      "Retired Programmer, multimedia\n",
      "Retired Archaeologist\n",
      "Retired Museum/gallery conservator\n",
      "Retired Research officer, political party\n",
      "Retired Librarian, public\n",
      "Retired Legal executive\n",
      "Retired Conference centre manager\n",
      "Retired Designer, graphic\n",
      "Retired Surveyor, quantity\n",
      "Retired Police officer\n",
      "Retired Phytotherapist\n",
      "Retired Estate agent\n",
      "Retired Scientist, water quality\n",
      "Retired Ranger/warden\n",
      "Retired Hotel manager\n",
      "Retired Communications engineer\n",
      "Retired Field trials officer\n",
      "Retired Applications developer\n",
      "Retired Communications engineer\n",
      "Retired Social researcher\n",
      "Retired Ophthalmologist\n",
      "Retired Location manager\n",
      "Retired Engineer, petroleum\n",
      "Retired Public affairs consultant\n",
      "Retired Newspaper journalist\n",
      "Retired Administrator, charities/voluntary organisations\n",
      "Retired Horticulturist, amenity\n",
      "Retired Barrister\n",
      "Retired Engineer, technical sales\n",
      "Retired Cartographer\n",
      "Retired Technical sales engineer\n",
      "Retired Engineer, chemical\n",
      "Retired Analytical chemist\n",
      "Retired Biomedical engineer\n",
      "Retired Public relations account executive\n",
      "Retired Therapist, nutritional\n",
      "Retired Theatre stage manager\n",
      "Retired\n",
      "Retired\n",
      "Retired Scientist, physiological\n",
      "Retired Designer, jewellery\n",
      "Retired Nurse, children's\n",
      "Retired Secretary, company\n",
      "Retired Location manager\n",
      "Retired Air broker\n",
      "Retired\n",
      "Retired Bonds trader\n",
      "Retired Copy\n",
      "Retired Planning and development surveyor\n",
      "Retired Mechanical engineer\n",
      "Retired Phytotherapist\n",
      "Retired Occupational hygienist\n",
      "Retired Public librarian\n",
      "Retired Comptroller\n",
      "Retired Clinical psychologist\n",
      "Retired Building control surveyor\n",
      "Retired Drilling engineer\n",
      "Retired Engineer, technical sales\n",
      "Retired Hospital doctor\n",
      "Retired Camera operator\n",
      "Retired Insurance underwriter\n",
      "Retired Engineer, civil (consulting)\n",
      "Retired Chief Technology Officer\n",
      "Retired Education officer, museum\n",
      "Retired Chief of Staff\n",
      "Retired Theatre stage manager\n",
      "Retired Scientist, audiological\n",
      "Retired Physicist, medical\n",
      "Retired Mudlogger\n",
      "Retired Surgeon\n",
      "Retired Broadcast journalist\n",
      "Retired Production designer, theatre/television/film\n",
      "Retired Landscape architect\n",
      "Retired\n",
      "Retired\n",
      "Retired Engineer, aeronautical\n",
      "Retired Hospital pharmacist\n",
      "Retired Data processing manager\n",
      "Retired\n"
     ]
    }
   ],
   "source": [
    "# Grouping the retired occupation\n",
    "for i in df['Occupation']:\n",
    "   \n",
    "    if i.startswith('Retired'):\n",
    "        \n",
    "        print((i))"
   ]
  },
  {
   "cell_type": "markdown",
   "id": "a0dbb1df",
   "metadata": {},
   "source": [
    "## Infirmity"
   ]
  },
  {
   "cell_type": "code",
   "execution_count": 76,
   "id": "9bbf9c39",
   "metadata": {
    "scrolled": true
   },
   "outputs": [
    {
     "data": {
      "text/plain": [
       "None                   8496\n",
       "Physical Disability      16\n",
       "Deaf                     15\n",
       "Mental Disability        12\n",
       "Unknown Infection        11\n",
       "Blind                    10\n",
       "Disabled                 10\n",
       "                          7\n",
       "Name: Infirmity, dtype: int64"
      ]
     },
     "execution_count": 76,
     "metadata": {},
     "output_type": "execute_result"
    }
   ],
   "source": [
    "df['Infirmity'].value_counts()"
   ]
  },
  {
   "cell_type": "code",
   "execution_count": 77,
   "id": "f2b853c6",
   "metadata": {},
   "outputs": [
    {
     "data": {
      "text/plain": [
       "0"
      ]
     },
     "execution_count": 77,
     "metadata": {},
     "output_type": "execute_result"
    }
   ],
   "source": [
    "df['Infirmity'].isnull().sum()\n"
   ]
  },
  {
   "cell_type": "code",
   "execution_count": 78,
   "id": "2ca8a8e2",
   "metadata": {},
   "outputs": [
    {
     "data": {
      "text/plain": [
       "array(['None', 'Deaf', 'Physical Disability', 'Unknown Infection',\n",
       "       'Blind', 'Disabled', 'Mental Disability', ' '], dtype=object)"
      ]
     },
     "execution_count": 78,
     "metadata": {},
     "output_type": "execute_result"
    }
   ],
   "source": [
    "df['Infirmity'].unique()"
   ]
  },
  {
   "cell_type": "code",
   "execution_count": 79,
   "id": "8389eb0a",
   "metadata": {},
   "outputs": [
    {
     "data": {
      "text/plain": [
       "7"
      ]
     },
     "execution_count": 79,
     "metadata": {},
     "output_type": "execute_result"
    }
   ],
   "source": [
    "(df['Infirmity'] == ' ').sum()"
   ]
  },
  {
   "cell_type": "code",
   "execution_count": 80,
   "id": "5e12de83",
   "metadata": {},
   "outputs": [
    {
     "data": {
      "text/html": [
       "<div>\n",
       "<style scoped>\n",
       "    .dataframe tbody tr th:only-of-type {\n",
       "        vertical-align: middle;\n",
       "    }\n",
       "\n",
       "    .dataframe tbody tr th {\n",
       "        vertical-align: top;\n",
       "    }\n",
       "\n",
       "    .dataframe thead th {\n",
       "        text-align: right;\n",
       "    }\n",
       "</style>\n",
       "<table border=\"1\" class=\"dataframe\">\n",
       "  <thead>\n",
       "    <tr style=\"text-align: right;\">\n",
       "      <th></th>\n",
       "      <th>House Number</th>\n",
       "      <th>Street</th>\n",
       "      <th>First Name</th>\n",
       "      <th>Surname</th>\n",
       "      <th>Age</th>\n",
       "      <th>Relationship to Head of House</th>\n",
       "      <th>Marital Status</th>\n",
       "      <th>Gender</th>\n",
       "      <th>Occupation</th>\n",
       "      <th>Infirmity</th>\n",
       "      <th>Religion</th>\n",
       "    </tr>\n",
       "  </thead>\n",
       "  <tbody>\n",
       "    <tr>\n",
       "      <th>1534</th>\n",
       "      <td>49</td>\n",
       "      <td>Polaris Crescent</td>\n",
       "      <td>Donna</td>\n",
       "      <td>Robinson</td>\n",
       "      <td>52</td>\n",
       "      <td>Head</td>\n",
       "      <td>Married</td>\n",
       "      <td>Female</td>\n",
       "      <td>Tax inspector</td>\n",
       "      <td></td>\n",
       "      <td>Christian</td>\n",
       "    </tr>\n",
       "    <tr>\n",
       "      <th>3055</th>\n",
       "      <td>2</td>\n",
       "      <td>Obelisk Orchard</td>\n",
       "      <td>Lucy</td>\n",
       "      <td>Allen</td>\n",
       "      <td>41</td>\n",
       "      <td>Head</td>\n",
       "      <td>Single</td>\n",
       "      <td>Female</td>\n",
       "      <td>Journalist, broadcasting</td>\n",
       "      <td></td>\n",
       "      <td>None</td>\n",
       "    </tr>\n",
       "    <tr>\n",
       "      <th>3313</th>\n",
       "      <td>25</td>\n",
       "      <td>Harvey Dale</td>\n",
       "      <td>Robert</td>\n",
       "      <td>Parker</td>\n",
       "      <td>6</td>\n",
       "      <td>Son</td>\n",
       "      <td>Single</td>\n",
       "      <td>Male</td>\n",
       "      <td>Student</td>\n",
       "      <td></td>\n",
       "      <td>NaN</td>\n",
       "    </tr>\n",
       "    <tr>\n",
       "      <th>3639</th>\n",
       "      <td>14</td>\n",
       "      <td>Wales Crescent</td>\n",
       "      <td>Peter</td>\n",
       "      <td>Hall</td>\n",
       "      <td>4</td>\n",
       "      <td>Son</td>\n",
       "      <td>Single</td>\n",
       "      <td>Male</td>\n",
       "      <td>Child</td>\n",
       "      <td></td>\n",
       "      <td>NaN</td>\n",
       "    </tr>\n",
       "    <tr>\n",
       "      <th>4676</th>\n",
       "      <td>48</td>\n",
       "      <td>Parrot Crescent</td>\n",
       "      <td>Wendy</td>\n",
       "      <td>Phillips</td>\n",
       "      <td>2</td>\n",
       "      <td>Daughter</td>\n",
       "      <td>Single</td>\n",
       "      <td>Female</td>\n",
       "      <td>Child</td>\n",
       "      <td></td>\n",
       "      <td>NaN</td>\n",
       "    </tr>\n",
       "    <tr>\n",
       "      <th>4775</th>\n",
       "      <td>24</td>\n",
       "      <td>Smith Divide</td>\n",
       "      <td>Joanne</td>\n",
       "      <td>Gregory</td>\n",
       "      <td>61</td>\n",
       "      <td>Cousin</td>\n",
       "      <td>Single</td>\n",
       "      <td>Female</td>\n",
       "      <td>Geographical information systems officer</td>\n",
       "      <td></td>\n",
       "      <td>Methodist</td>\n",
       "    </tr>\n",
       "    <tr>\n",
       "      <th>5398</th>\n",
       "      <td>42</td>\n",
       "      <td>Repton Drive</td>\n",
       "      <td>Marc</td>\n",
       "      <td>Jones</td>\n",
       "      <td>28</td>\n",
       "      <td>Husband</td>\n",
       "      <td>Married</td>\n",
       "      <td>Male</td>\n",
       "      <td>Freight forwarder</td>\n",
       "      <td></td>\n",
       "      <td>None</td>\n",
       "    </tr>\n",
       "  </tbody>\n",
       "</table>\n",
       "</div>"
      ],
      "text/plain": [
       "      House Number            Street First Name   Surname  Age  \\\n",
       "1534            49  Polaris Crescent      Donna  Robinson   52   \n",
       "3055             2   Obelisk Orchard       Lucy     Allen   41   \n",
       "3313            25       Harvey Dale     Robert    Parker    6   \n",
       "3639            14    Wales Crescent      Peter      Hall    4   \n",
       "4676            48   Parrot Crescent      Wendy  Phillips    2   \n",
       "4775            24      Smith Divide     Joanne   Gregory   61   \n",
       "5398            42      Repton Drive       Marc     Jones   28   \n",
       "\n",
       "     Relationship to Head of House Marital Status  Gender  \\\n",
       "1534                          Head        Married  Female   \n",
       "3055                          Head         Single  Female   \n",
       "3313                           Son         Single    Male   \n",
       "3639                           Son         Single    Male   \n",
       "4676                      Daughter         Single  Female   \n",
       "4775                        Cousin         Single  Female   \n",
       "5398                       Husband        Married    Male   \n",
       "\n",
       "                                    Occupation Infirmity   Religion  \n",
       "1534                             Tax inspector            Christian  \n",
       "3055                  Journalist, broadcasting                 None  \n",
       "3313                                   Student                  NaN  \n",
       "3639                                     Child                  NaN  \n",
       "4676                                     Child                  NaN  \n",
       "4775  Geographical information systems officer            Methodist  \n",
       "5398                         Freight forwarder                 None  "
      ]
     },
     "execution_count": 80,
     "metadata": {},
     "output_type": "execute_result"
    }
   ],
   "source": [
    "df[df['Infirmity'].str.isspace()]"
   ]
  },
  {
   "cell_type": "code",
   "execution_count": 81,
   "id": "1bce5f93",
   "metadata": {},
   "outputs": [],
   "source": [
    "# replacing empty rows with the 'mode' , I went through them individually and realised they were none\n",
    "# By imputing the same household, even though that might not be the case\n",
    "df['Infirmity'] = np.where((df['Infirmity'] == ' '), df['Infirmity'].mode()[0], df['Infirmity'])"
   ]
  },
  {
   "cell_type": "code",
   "execution_count": 82,
   "id": "221f53f5",
   "metadata": {},
   "outputs": [
    {
     "data": {
      "text/plain": [
       "0"
      ]
     },
     "execution_count": 82,
     "metadata": {},
     "output_type": "execute_result"
    }
   ],
   "source": [
    "(df['Infirmity'] == ' ').sum()"
   ]
  },
  {
   "cell_type": "markdown",
   "id": "b28437c8",
   "metadata": {},
   "source": [
    "## Religion"
   ]
  },
  {
   "cell_type": "code",
   "execution_count": 83,
   "id": "985383c4",
   "metadata": {
    "scrolled": true
   },
   "outputs": [
    {
     "data": {
      "text/plain": [
       "2132"
      ]
     },
     "execution_count": 83,
     "metadata": {},
     "output_type": "execute_result"
    }
   ],
   "source": [
    "df['Religion'].isnull().sum()"
   ]
  },
  {
   "cell_type": "code",
   "execution_count": 84,
   "id": "3df4114b",
   "metadata": {},
   "outputs": [
    {
     "data": {
      "text/plain": [
       "array(['None', 'Christian', nan, 'Methodist', 'Catholic', 'Jewish',\n",
       "       'Muslim', 'Sikh', 'Undecided', 'Sith', 'Hindu', 'Buddist',\n",
       "       'Baptist', 'Bahai', ' '], dtype=object)"
      ]
     },
     "execution_count": 84,
     "metadata": {},
     "output_type": "execute_result"
    }
   ],
   "source": [
    "df['Religion'].unique()"
   ]
  },
  {
   "cell_type": "code",
   "execution_count": 85,
   "id": "9b49ee8c",
   "metadata": {},
   "outputs": [
    {
     "name": "stdout",
     "output_type": "stream",
     "text": [
      "[0, 1, 2, 3, 4, 5, 6, 7, 8, 9, 10, 11, 12, 13, 14, 15, 16, 17, 18, 19, 20, 22, 24, 26]\n"
     ]
    }
   ],
   "source": [
    "# Sorted age groups with missing religion\n",
    "print(sorted(df[df['Religion'].isnull()]['Age'].unique())) "
   ]
  },
  {
   "cell_type": "code",
   "execution_count": 86,
   "id": "31e3b57d",
   "metadata": {},
   "outputs": [
    {
     "name": "stdout",
     "output_type": "stream",
     "text": [
      "The number of minors with missing Religion: 2085\n",
      "The number of adults with missing Religion: 47\n"
     ]
    }
   ],
   "source": [
    "# Get number of Minors with missing religion\n",
    "minors_with_missing_religion = df[(df['Religion'].isnull()) & (df['Age'] < 18)].shape[0]\n",
    "print(f\"The number of minors with missing Religion: {minors_with_missing_religion}\")\n",
    "\n",
    "# Get number of Adults with missing religion\n",
    "adults_with_missing_religion = df[(df['Religion'].isnull()) & (df['Age'] >= 18)].shape[0]\n",
    "print(f\"The number of adults with missing Religion: {adults_with_missing_religion}\")"
   ]
  },
  {
   "cell_type": "markdown",
   "id": "3274fc87",
   "metadata": {},
   "source": [
    "#### Replacing nan Religion with age less than 18 with the same surname, house number and street with equal religion\n",
    "#### The assumption being the child would eventually come to like the religion since their household is the same religion\n",
    "####  Even though it is not always the case, but the probability is high"
   ]
  },
  {
   "cell_type": "code",
   "execution_count": 87,
   "id": "57617dbe",
   "metadata": {
    "scrolled": false
   },
   "outputs": [
    {
     "data": {
      "text/html": [
       "<div>\n",
       "<style scoped>\n",
       "    .dataframe tbody tr th:only-of-type {\n",
       "        vertical-align: middle;\n",
       "    }\n",
       "\n",
       "    .dataframe tbody tr th {\n",
       "        vertical-align: top;\n",
       "    }\n",
       "\n",
       "    .dataframe thead th {\n",
       "        text-align: right;\n",
       "    }\n",
       "</style>\n",
       "<table border=\"1\" class=\"dataframe\">\n",
       "  <thead>\n",
       "    <tr style=\"text-align: right;\">\n",
       "      <th></th>\n",
       "      <th>House Number</th>\n",
       "      <th>Street</th>\n",
       "      <th>First Name</th>\n",
       "      <th>Surname</th>\n",
       "      <th>Age</th>\n",
       "      <th>Relationship to Head of House</th>\n",
       "      <th>Marital Status</th>\n",
       "      <th>Gender</th>\n",
       "      <th>Occupation</th>\n",
       "      <th>Infirmity</th>\n",
       "      <th>Religion</th>\n",
       "    </tr>\n",
       "  </thead>\n",
       "  <tbody>\n",
       "    <tr>\n",
       "      <th>11</th>\n",
       "      <td>4</td>\n",
       "      <td>Turkey Gardens</td>\n",
       "      <td>Maureen</td>\n",
       "      <td>Nicholson</td>\n",
       "      <td>9</td>\n",
       "      <td>Daughter</td>\n",
       "      <td>Single</td>\n",
       "      <td>Female</td>\n",
       "      <td>Student</td>\n",
       "      <td>None</td>\n",
       "      <td>NaN</td>\n",
       "    </tr>\n",
       "    <tr>\n",
       "      <th>15</th>\n",
       "      <td>5</td>\n",
       "      <td>Turkey Gardens</td>\n",
       "      <td>Georgina</td>\n",
       "      <td>Williams-Evans</td>\n",
       "      <td>17</td>\n",
       "      <td>Daughter</td>\n",
       "      <td>Single</td>\n",
       "      <td>Female</td>\n",
       "      <td>Student</td>\n",
       "      <td>None</td>\n",
       "      <td>NaN</td>\n",
       "    </tr>\n",
       "    <tr>\n",
       "      <th>20</th>\n",
       "      <td>6</td>\n",
       "      <td>Turkey Gardens</td>\n",
       "      <td>Hilary</td>\n",
       "      <td>Thomas</td>\n",
       "      <td>3</td>\n",
       "      <td>Daughter</td>\n",
       "      <td>Single</td>\n",
       "      <td>Female</td>\n",
       "      <td>Child</td>\n",
       "      <td>None</td>\n",
       "      <td>NaN</td>\n",
       "    </tr>\n",
       "    <tr>\n",
       "      <th>39</th>\n",
       "      <td>14</td>\n",
       "      <td>Turkey Gardens</td>\n",
       "      <td>Vanessa</td>\n",
       "      <td>Jackson</td>\n",
       "      <td>2</td>\n",
       "      <td>Daughter</td>\n",
       "      <td>Single</td>\n",
       "      <td>Female</td>\n",
       "      <td>Child</td>\n",
       "      <td>None</td>\n",
       "      <td>NaN</td>\n",
       "    </tr>\n",
       "    <tr>\n",
       "      <th>40</th>\n",
       "      <td>14</td>\n",
       "      <td>Turkey Gardens</td>\n",
       "      <td>Pamela</td>\n",
       "      <td>Jackson</td>\n",
       "      <td>1</td>\n",
       "      <td>Daughter</td>\n",
       "      <td>Single</td>\n",
       "      <td>Female</td>\n",
       "      <td>Child</td>\n",
       "      <td>None</td>\n",
       "      <td>NaN</td>\n",
       "    </tr>\n",
       "    <tr>\n",
       "      <th>...</th>\n",
       "      <td>...</td>\n",
       "      <td>...</td>\n",
       "      <td>...</td>\n",
       "      <td>...</td>\n",
       "      <td>...</td>\n",
       "      <td>...</td>\n",
       "      <td>...</td>\n",
       "      <td>...</td>\n",
       "      <td>...</td>\n",
       "      <td>...</td>\n",
       "      <td>...</td>\n",
       "    </tr>\n",
       "    <tr>\n",
       "      <th>8571</th>\n",
       "      <td>1</td>\n",
       "      <td>Simmons Delve</td>\n",
       "      <td>Jonathan</td>\n",
       "      <td>Goodwin</td>\n",
       "      <td>0</td>\n",
       "      <td>None</td>\n",
       "      <td>Single</td>\n",
       "      <td>Male</td>\n",
       "      <td>Child</td>\n",
       "      <td>None</td>\n",
       "      <td>NaN</td>\n",
       "    </tr>\n",
       "    <tr>\n",
       "      <th>8573</th>\n",
       "      <td>1</td>\n",
       "      <td>Lomond Manor</td>\n",
       "      <td>Vincent</td>\n",
       "      <td>Newman</td>\n",
       "      <td>9</td>\n",
       "      <td>Son</td>\n",
       "      <td>Single</td>\n",
       "      <td>Male</td>\n",
       "      <td>Student</td>\n",
       "      <td>None</td>\n",
       "      <td>NaN</td>\n",
       "    </tr>\n",
       "    <tr>\n",
       "      <th>8574</th>\n",
       "      <td>1</td>\n",
       "      <td>Lomond Manor</td>\n",
       "      <td>Louise</td>\n",
       "      <td>Butler-Newman</td>\n",
       "      <td>8</td>\n",
       "      <td>Daughter</td>\n",
       "      <td>Single</td>\n",
       "      <td>Female</td>\n",
       "      <td>Student</td>\n",
       "      <td>None</td>\n",
       "      <td>NaN</td>\n",
       "    </tr>\n",
       "    <tr>\n",
       "      <th>8575</th>\n",
       "      <td>1</td>\n",
       "      <td>Lomond Manor</td>\n",
       "      <td>Trevor</td>\n",
       "      <td>Butler-Newman</td>\n",
       "      <td>4</td>\n",
       "      <td>Son</td>\n",
       "      <td>Single</td>\n",
       "      <td>Male</td>\n",
       "      <td>Child</td>\n",
       "      <td>None</td>\n",
       "      <td>NaN</td>\n",
       "    </tr>\n",
       "    <tr>\n",
       "      <th>8576</th>\n",
       "      <td>1</td>\n",
       "      <td>Lomond Manor</td>\n",
       "      <td>Kim</td>\n",
       "      <td>Butler-Newman</td>\n",
       "      <td>1</td>\n",
       "      <td>Daughter</td>\n",
       "      <td>Single</td>\n",
       "      <td>Female</td>\n",
       "      <td>Child</td>\n",
       "      <td>None</td>\n",
       "      <td>NaN</td>\n",
       "    </tr>\n",
       "  </tbody>\n",
       "</table>\n",
       "<p>2085 rows × 11 columns</p>\n",
       "</div>"
      ],
      "text/plain": [
       "      House Number          Street First Name         Surname  Age  \\\n",
       "11               4  Turkey Gardens    Maureen       Nicholson    9   \n",
       "15               5  Turkey Gardens   Georgina  Williams-Evans   17   \n",
       "20               6  Turkey Gardens     Hilary          Thomas    3   \n",
       "39              14  Turkey Gardens    Vanessa         Jackson    2   \n",
       "40              14  Turkey Gardens     Pamela         Jackson    1   \n",
       "...            ...             ...        ...             ...  ...   \n",
       "8571             1   Simmons Delve   Jonathan         Goodwin    0   \n",
       "8573             1    Lomond Manor    Vincent          Newman    9   \n",
       "8574             1    Lomond Manor     Louise   Butler-Newman    8   \n",
       "8575             1    Lomond Manor     Trevor   Butler-Newman    4   \n",
       "8576             1    Lomond Manor        Kim   Butler-Newman    1   \n",
       "\n",
       "     Relationship to Head of House Marital Status  Gender Occupation  \\\n",
       "11                        Daughter         Single  Female    Student   \n",
       "15                        Daughter         Single  Female    Student   \n",
       "20                        Daughter         Single  Female      Child   \n",
       "39                        Daughter         Single  Female      Child   \n",
       "40                        Daughter         Single  Female      Child   \n",
       "...                            ...            ...     ...        ...   \n",
       "8571                          None         Single    Male      Child   \n",
       "8573                           Son         Single    Male    Student   \n",
       "8574                      Daughter         Single  Female    Student   \n",
       "8575                           Son         Single    Male      Child   \n",
       "8576                      Daughter         Single  Female      Child   \n",
       "\n",
       "     Infirmity Religion  \n",
       "11        None      NaN  \n",
       "15        None      NaN  \n",
       "20        None      NaN  \n",
       "39        None      NaN  \n",
       "40        None      NaN  \n",
       "...        ...      ...  \n",
       "8571      None      NaN  \n",
       "8573      None      NaN  \n",
       "8574      None      NaN  \n",
       "8575      None      NaN  \n",
       "8576      None      NaN  \n",
       "\n",
       "[2085 rows x 11 columns]"
      ]
     },
     "execution_count": 87,
     "metadata": {},
     "output_type": "execute_result"
    }
   ],
   "source": [
    "df[(df['Religion'].isnull()) & (df['Age'] < 18)]"
   ]
  },
  {
   "cell_type": "code",
   "execution_count": 88,
   "id": "10c7cb1e",
   "metadata": {},
   "outputs": [],
   "source": [
    "# This groups the empty religion that is less than 18 years with the same house number, street and surname and imputes the same religion\n",
    "df.loc[(df['Religion'].isnull()) & (df['Age'] < 18), 'Religion'] = \\\n",
    "    df.groupby(['House Number', 'Street', 'Surname'])['Religion'].transform('first')\n"
   ]
  },
  {
   "cell_type": "code",
   "execution_count": 89,
   "id": "64c7153d",
   "metadata": {},
   "outputs": [
    {
     "name": "stdout",
     "output_type": "stream",
     "text": [
      "The number of minors with missing Religion: 276\n",
      "The number of adults with missing Religion: 47\n"
     ]
    }
   ],
   "source": [
    "# Checking the minor and adults empty religion\n",
    "minors_with_missing_religion = df[(df['Religion'].isnull()) & (df['Age'] < 18)].shape[0]\n",
    "print(f\"The number of minors with missing Religion: {minors_with_missing_religion}\")\n",
    "\n",
    "# Get number of Adults with missing religion\n",
    "adults_with_missing_religion = df[(df['Religion'].isnull()) & (df['Age'] >= 18)].shape[0]\n",
    "print(f\"The number of adults with missing Religion: {adults_with_missing_religion}\")"
   ]
  },
  {
   "cell_type": "code",
   "execution_count": 90,
   "id": "7d8a45d0",
   "metadata": {},
   "outputs": [],
   "source": [
    "# These minors are in the same house but with different surnames, hence Unknown since they are not known\n",
    "df.loc[(df['Religion'].isnull()) & (df['Age'] < 18), 'Religion'] = 'Unknown'"
   ]
  },
  {
   "cell_type": "code",
   "execution_count": 91,
   "id": "9f291543",
   "metadata": {},
   "outputs": [
    {
     "name": "stdout",
     "output_type": "stream",
     "text": [
      "The number of minors with missing Religion: 0\n",
      "The number of adults with missing Religion: 47\n"
     ]
    }
   ],
   "source": [
    "# Checking the minor and adults empty religion\n",
    "minors_with_missing_religion = df[(df['Religion'].isnull()) & (df['Age'] < 18)].shape[0]\n",
    "print(f\"The number of minors with missing Religion: {minors_with_missing_religion}\")\n",
    "\n",
    "# Get number of Adults with missing religion\n",
    "adults_with_missing_religion = df[(df['Religion'].isnull()) & (df['Age'] >= 18)].shape[0]\n",
    "print(f\"The number of adults with missing Religion: {adults_with_missing_religion}\")"
   ]
  },
  {
   "cell_type": "code",
   "execution_count": 92,
   "id": "4a318f05",
   "metadata": {},
   "outputs": [],
   "source": [
    "# These adults did not provide information on their religious beliefs, hence 'Unknown'\n",
    "df.loc[(df['Religion'].isnull()) & (df['Age'] >= 18), 'Religion'] = 'Unknown'"
   ]
  },
  {
   "cell_type": "code",
   "execution_count": 93,
   "id": "3ae39707",
   "metadata": {},
   "outputs": [
    {
     "data": {
      "text/plain": [
       "2"
      ]
     },
     "execution_count": 93,
     "metadata": {},
     "output_type": "execute_result"
    }
   ],
   "source": [
    "(df['Religion'] == ' ').sum()"
   ]
  },
  {
   "cell_type": "code",
   "execution_count": 94,
   "id": "a1689a55",
   "metadata": {},
   "outputs": [],
   "source": [
    "df.loc[(df['Religion'] == ' '), 'Religion'] = 'Unknown'"
   ]
  },
  {
   "cell_type": "code",
   "execution_count": 95,
   "id": "ef767044",
   "metadata": {},
   "outputs": [
    {
     "name": "stdout",
     "output_type": "stream",
     "text": [
      "The number of minors with missing Religion: 0\n",
      "The number of adults with missing Religion: 0\n"
     ]
    }
   ],
   "source": [
    "# Checking the minor and adults empty religion\n",
    "minors_with_missing_religion = df[(df['Religion'].isnull()) & (df['Age'] < 18)].shape[0]\n",
    "print(f\"The number of minors with missing Religion: {minors_with_missing_religion}\")\n",
    "\n",
    "# Get number of Adults with missing religion\n",
    "adults_with_missing_religion = df[(df['Religion'].isnull()) & (df['Age'] >= 18)].shape[0]\n",
    "print(f\"The number of adults with missing Religion: {adults_with_missing_religion}\")"
   ]
  },
  {
   "cell_type": "code",
   "execution_count": 142,
   "id": "69286419",
   "metadata": {},
   "outputs": [
    {
     "data": {
      "image/png": "[encoded data removed]",
      "text/plain": [
       "<Figure size 1600x700 with 1 Axes>"
      ]
     },
     "metadata": {},
     "output_type": "display_data"
    }
   ],
   "source": [
    "# plotting the Age on the charts with respect to religion\n",
    "plt.figure(figsize=(16,7))\n",
    "sns.boxplot(x = 'Religion', y = 'Age', data = df, palette='Set2')\n",
    "plt.axhline(18,color='m',linestyle='dashed',linewidth=1)\n",
    "plt.savefig('age_religion_boxplot')"
   ]
  },
  {
   "cell_type": "code",
   "execution_count": 97,
   "id": "fb33a790",
   "metadata": {},
   "outputs": [
    {
     "data": {
      "image/png": "[encoded data removed]",
      "text/plain": [
       "<Figure size 1600x700 with 1 Axes>"
      ]
     },
     "metadata": {},
     "output_type": "display_data"
    }
   ],
   "source": [
    "# Group data by religion and count the number of records for each group\n",
    "religion_counts = df.groupby('Religion')['Age'].count().reset_index()\n",
    "\n",
    "# Create the bar chart\n",
    "plt.figure(figsize=(16,7))\n",
    "sns.barplot(x='Religion', y='Age', data=religion_counts, palette='Set2')\n",
    "plt.axhline(0,color='m',linestyle='dashed',linewidth=1)\n",
    "\n",
    "# Set chart title and axis labels\n",
    "plt.title('Enumeration of religious data points')\n",
    "plt.xlabel('Religion')\n",
    "plt.ylabel('Count')\n",
    "\n",
    "# Save the chart to a file\n",
    "plt.savefig('religion_counts_barchart')\n"
   ]
  },
  {
   "cell_type": "code",
   "execution_count": 98,
   "id": "80cdba86",
   "metadata": {},
   "outputs": [
    {
     "data": {
      "image/png": "[encoded data removed]",
      "text/plain": [
       "<Figure size 1600x700 with 1 Axes>"
      ]
     },
     "metadata": {},
     "output_type": "display_data"
    }
   ],
   "source": [
    "# Group data by religion and calculate the mean age for each group\n",
    "religion_ages = df.groupby('Religion')['Age'].mean().reset_index()\n",
    "\n",
    "# Create the bar chart\n",
    "plt.figure(figsize=(16,7))\n",
    "sns.barplot(x='Religion', y='Age', data=religion_ages, palette='Set2')\n",
    "plt.axhline(18,color='m',linestyle='dashed',linewidth=1)\n",
    "\n",
    "# Set chart title and axis labels\n",
    "plt.title('Average Age by Religion')\n",
    "plt.xlabel('Religion')\n",
    "plt.ylabel('Age')\n",
    "\n",
    "# Save the chart to a file\n",
    "plt.savefig('age_religion_barchart')\n"
   ]
  },
  {
   "cell_type": "code",
   "execution_count": 99,
   "id": "d889fae5",
   "metadata": {},
   "outputs": [
    {
     "data": {
      "text/plain": [
       "House Number                     0\n",
       "Street                           0\n",
       "First Name                       0\n",
       "Surname                          0\n",
       "Age                              0\n",
       "Relationship to Head of House    0\n",
       "Marital Status                   0\n",
       "Gender                           0\n",
       "Occupation                       0\n",
       "Infirmity                        0\n",
       "Religion                         0\n",
       "dtype: int64"
      ]
     },
     "execution_count": 99,
     "metadata": {},
     "output_type": "execute_result"
    }
   ],
   "source": [
    "df.isna().sum()"
   ]
  },
  {
   "cell_type": "markdown",
   "id": "851a9074",
   "metadata": {},
   "source": [
    "## data cleaned now"
   ]
  },
  {
   "cell_type": "code",
   "execution_count": 100,
   "id": "96619ba1",
   "metadata": {
    "scrolled": false
   },
   "outputs": [
    {
     "data": {
      "text/html": [
       "<div>\n",
       "<style scoped>\n",
       "    .dataframe tbody tr th:only-of-type {\n",
       "        vertical-align: middle;\n",
       "    }\n",
       "\n",
       "    .dataframe tbody tr th {\n",
       "        vertical-align: top;\n",
       "    }\n",
       "\n",
       "    .dataframe thead th {\n",
       "        text-align: right;\n",
       "    }\n",
       "</style>\n",
       "<table border=\"1\" class=\"dataframe\">\n",
       "  <thead>\n",
       "    <tr style=\"text-align: right;\">\n",
       "      <th></th>\n",
       "      <th>House Number</th>\n",
       "      <th>Street</th>\n",
       "      <th>First Name</th>\n",
       "      <th>Surname</th>\n",
       "      <th>Age</th>\n",
       "      <th>Relationship to Head of House</th>\n",
       "      <th>Marital Status</th>\n",
       "      <th>Gender</th>\n",
       "      <th>Occupation</th>\n",
       "      <th>Infirmity</th>\n",
       "      <th>Religion</th>\n",
       "    </tr>\n",
       "  </thead>\n",
       "  <tbody>\n",
       "    <tr>\n",
       "      <th>0</th>\n",
       "      <td>1</td>\n",
       "      <td>Turkey Gardens</td>\n",
       "      <td>Alexander</td>\n",
       "      <td>Macdonald</td>\n",
       "      <td>21</td>\n",
       "      <td>Head</td>\n",
       "      <td>Married</td>\n",
       "      <td>Male</td>\n",
       "      <td>Sports development officer</td>\n",
       "      <td>None</td>\n",
       "      <td>None</td>\n",
       "    </tr>\n",
       "    <tr>\n",
       "      <th>1</th>\n",
       "      <td>1</td>\n",
       "      <td>Turkey Gardens</td>\n",
       "      <td>Yvonne</td>\n",
       "      <td>Macdonald</td>\n",
       "      <td>19</td>\n",
       "      <td>Wife</td>\n",
       "      <td>Married</td>\n",
       "      <td>Female</td>\n",
       "      <td>University Student</td>\n",
       "      <td>None</td>\n",
       "      <td>None</td>\n",
       "    </tr>\n",
       "    <tr>\n",
       "      <th>2</th>\n",
       "      <td>2</td>\n",
       "      <td>Turkey Gardens</td>\n",
       "      <td>Louise</td>\n",
       "      <td>Taylor</td>\n",
       "      <td>38</td>\n",
       "      <td>Head</td>\n",
       "      <td>Divorced</td>\n",
       "      <td>Female</td>\n",
       "      <td>Mining engineer</td>\n",
       "      <td>None</td>\n",
       "      <td>Christian</td>\n",
       "    </tr>\n",
       "    <tr>\n",
       "      <th>3</th>\n",
       "      <td>2</td>\n",
       "      <td>Turkey Gardens</td>\n",
       "      <td>Philip</td>\n",
       "      <td>Harding</td>\n",
       "      <td>55</td>\n",
       "      <td>Visitor</td>\n",
       "      <td>Single</td>\n",
       "      <td>Male</td>\n",
       "      <td>Quarry manager</td>\n",
       "      <td>None</td>\n",
       "      <td>Christian</td>\n",
       "    </tr>\n",
       "    <tr>\n",
       "      <th>4</th>\n",
       "      <td>3</td>\n",
       "      <td>Turkey Gardens</td>\n",
       "      <td>Rachael</td>\n",
       "      <td>Evans</td>\n",
       "      <td>78</td>\n",
       "      <td>Head</td>\n",
       "      <td>Widowed</td>\n",
       "      <td>Female</td>\n",
       "      <td>Retired Freight forwarder</td>\n",
       "      <td>None</td>\n",
       "      <td>Christian</td>\n",
       "    </tr>\n",
       "    <tr>\n",
       "      <th>...</th>\n",
       "      <td>...</td>\n",
       "      <td>...</td>\n",
       "      <td>...</td>\n",
       "      <td>...</td>\n",
       "      <td>...</td>\n",
       "      <td>...</td>\n",
       "      <td>...</td>\n",
       "      <td>...</td>\n",
       "      <td>...</td>\n",
       "      <td>...</td>\n",
       "      <td>...</td>\n",
       "    </tr>\n",
       "    <tr>\n",
       "      <th>8572</th>\n",
       "      <td>1</td>\n",
       "      <td>Lomond Manor</td>\n",
       "      <td>Rita</td>\n",
       "      <td>Newman</td>\n",
       "      <td>40</td>\n",
       "      <td>Head</td>\n",
       "      <td>Divorced</td>\n",
       "      <td>Female</td>\n",
       "      <td>Advertising copywriter</td>\n",
       "      <td>None</td>\n",
       "      <td>Methodist</td>\n",
       "    </tr>\n",
       "    <tr>\n",
       "      <th>8573</th>\n",
       "      <td>1</td>\n",
       "      <td>Lomond Manor</td>\n",
       "      <td>Vincent</td>\n",
       "      <td>Newman</td>\n",
       "      <td>9</td>\n",
       "      <td>Son</td>\n",
       "      <td>Single</td>\n",
       "      <td>Male</td>\n",
       "      <td>Student</td>\n",
       "      <td>None</td>\n",
       "      <td>Methodist</td>\n",
       "    </tr>\n",
       "    <tr>\n",
       "      <th>8574</th>\n",
       "      <td>1</td>\n",
       "      <td>Lomond Manor</td>\n",
       "      <td>Louise</td>\n",
       "      <td>Butler-Newman</td>\n",
       "      <td>8</td>\n",
       "      <td>Daughter</td>\n",
       "      <td>Single</td>\n",
       "      <td>Female</td>\n",
       "      <td>Student</td>\n",
       "      <td>None</td>\n",
       "      <td>Unknown</td>\n",
       "    </tr>\n",
       "    <tr>\n",
       "      <th>8575</th>\n",
       "      <td>1</td>\n",
       "      <td>Lomond Manor</td>\n",
       "      <td>Trevor</td>\n",
       "      <td>Butler-Newman</td>\n",
       "      <td>4</td>\n",
       "      <td>Son</td>\n",
       "      <td>Single</td>\n",
       "      <td>Male</td>\n",
       "      <td>Child</td>\n",
       "      <td>None</td>\n",
       "      <td>Unknown</td>\n",
       "    </tr>\n",
       "    <tr>\n",
       "      <th>8576</th>\n",
       "      <td>1</td>\n",
       "      <td>Lomond Manor</td>\n",
       "      <td>Kim</td>\n",
       "      <td>Butler-Newman</td>\n",
       "      <td>1</td>\n",
       "      <td>Daughter</td>\n",
       "      <td>Single</td>\n",
       "      <td>Female</td>\n",
       "      <td>Child</td>\n",
       "      <td>None</td>\n",
       "      <td>Unknown</td>\n",
       "    </tr>\n",
       "  </tbody>\n",
       "</table>\n",
       "<p>8577 rows × 11 columns</p>\n",
       "</div>"
      ],
      "text/plain": [
       "      House Number          Street First Name        Surname  Age  \\\n",
       "0                1  Turkey Gardens  Alexander      Macdonald   21   \n",
       "1                1  Turkey Gardens     Yvonne      Macdonald   19   \n",
       "2                2  Turkey Gardens     Louise         Taylor   38   \n",
       "3                2  Turkey Gardens     Philip        Harding   55   \n",
       "4                3  Turkey Gardens    Rachael          Evans   78   \n",
       "...            ...             ...        ...            ...  ...   \n",
       "8572             1    Lomond Manor       Rita         Newman   40   \n",
       "8573             1    Lomond Manor    Vincent         Newman    9   \n",
       "8574             1    Lomond Manor     Louise  Butler-Newman    8   \n",
       "8575             1    Lomond Manor     Trevor  Butler-Newman    4   \n",
       "8576             1    Lomond Manor        Kim  Butler-Newman    1   \n",
       "\n",
       "     Relationship to Head of House Marital Status  Gender  \\\n",
       "0                             Head        Married    Male   \n",
       "1                             Wife        Married  Female   \n",
       "2                             Head       Divorced  Female   \n",
       "3                          Visitor         Single    Male   \n",
       "4                             Head        Widowed  Female   \n",
       "...                            ...            ...     ...   \n",
       "8572                          Head       Divorced  Female   \n",
       "8573                           Son         Single    Male   \n",
       "8574                      Daughter         Single  Female   \n",
       "8575                           Son         Single    Male   \n",
       "8576                      Daughter         Single  Female   \n",
       "\n",
       "                      Occupation Infirmity   Religion  \n",
       "0     Sports development officer      None       None  \n",
       "1             University Student      None       None  \n",
       "2                Mining engineer      None  Christian  \n",
       "3                 Quarry manager      None  Christian  \n",
       "4      Retired Freight forwarder      None  Christian  \n",
       "...                          ...       ...        ...  \n",
       "8572      Advertising copywriter      None  Methodist  \n",
       "8573                     Student      None  Methodist  \n",
       "8574                     Student      None    Unknown  \n",
       "8575                       Child      None    Unknown  \n",
       "8576                       Child      None    Unknown  \n",
       "\n",
       "[8577 rows x 11 columns]"
      ]
     },
     "execution_count": 100,
     "metadata": {},
     "output_type": "execute_result"
    }
   ],
   "source": [
    "df"
   ]
  },
  {
   "cell_type": "code",
   "execution_count": 101,
   "id": "383bb9ff",
   "metadata": {},
   "outputs": [],
   "source": [
    "# save cleaned dataframe to csv file\n",
    "df.to_csv('census20_cleaned.csv') "
   ]
  },
  {
   "cell_type": "code",
   "execution_count": 102,
   "id": "26ce1255",
   "metadata": {},
   "outputs": [
    {
     "data": {
      "text/plain": [
       "House Number                     0\n",
       "Street                           0\n",
       "First Name                       0\n",
       "Surname                          0\n",
       "Age                              0\n",
       "Relationship to Head of House    0\n",
       "Marital Status                   0\n",
       "Gender                           0\n",
       "Occupation                       0\n",
       "Infirmity                        0\n",
       "Religion                         0\n",
       "dtype: int64"
      ]
     },
     "execution_count": 102,
     "metadata": {},
     "output_type": "execute_result"
    }
   ],
   "source": [
    "\n",
    "df_cleaned = pd.read_csv(\"census20_cleaned.csv\", index_col=0)\n",
    "df_clean = df_cleaned.copy()   #this copies the original data\n",
    "df_clean.isna().sum()"
   ]
  },
  {
   "cell_type": "markdown",
   "id": "a093a0fb",
   "metadata": {},
   "source": [
    "#### Statistics Analysis on the df_clean data"
   ]
  },
  {
   "cell_type": "code",
   "execution_count": 103,
   "id": "05a640e6",
   "metadata": {},
   "outputs": [],
   "source": [
    "Age = df_clean['Age']"
   ]
  },
  {
   "cell_type": "code",
   "execution_count": 104,
   "id": "36fb5e6d",
   "metadata": {},
   "outputs": [
    {
     "data": {
      "text/html": [
       "<div>\n",
       "<style scoped>\n",
       "    .dataframe tbody tr th:only-of-type {\n",
       "        vertical-align: middle;\n",
       "    }\n",
       "\n",
       "    .dataframe tbody tr th {\n",
       "        vertical-align: top;\n",
       "    }\n",
       "\n",
       "    .dataframe thead th {\n",
       "        text-align: right;\n",
       "    }\n",
       "</style>\n",
       "<table border=\"1\" class=\"dataframe\">\n",
       "  <thead>\n",
       "    <tr style=\"text-align: right;\">\n",
       "      <th></th>\n",
       "      <th>count</th>\n",
       "      <th>mean</th>\n",
       "      <th>std</th>\n",
       "      <th>min</th>\n",
       "      <th>25%</th>\n",
       "      <th>50%</th>\n",
       "      <th>75%</th>\n",
       "      <th>max</th>\n",
       "    </tr>\n",
       "  </thead>\n",
       "  <tbody>\n",
       "    <tr>\n",
       "      <th>House Number</th>\n",
       "      <td>8577.0</td>\n",
       "      <td>37.082896</td>\n",
       "      <td>44.790872</td>\n",
       "      <td>1.0</td>\n",
       "      <td>9.0</td>\n",
       "      <td>21.0</td>\n",
       "      <td>42.0</td>\n",
       "      <td>220.0</td>\n",
       "    </tr>\n",
       "    <tr>\n",
       "      <th>Age</th>\n",
       "      <td>8577.0</td>\n",
       "      <td>35.593098</td>\n",
       "      <td>21.376178</td>\n",
       "      <td>0.0</td>\n",
       "      <td>18.0</td>\n",
       "      <td>35.0</td>\n",
       "      <td>50.0</td>\n",
       "      <td>107.0</td>\n",
       "    </tr>\n",
       "  </tbody>\n",
       "</table>\n",
       "</div>"
      ],
      "text/plain": [
       "               count       mean        std  min   25%   50%   75%    max\n",
       "House Number  8577.0  37.082896  44.790872  1.0   9.0  21.0  42.0  220.0\n",
       "Age           8577.0  35.593098  21.376178  0.0  18.0  35.0  50.0  107.0"
      ]
     },
     "execution_count": 104,
     "metadata": {},
     "output_type": "execute_result"
    }
   ],
   "source": [
    "# statiscal info of numerical data\n",
    "df_clean.describe(exclude='object').transpose() "
   ]
  },
  {
   "cell_type": "code",
   "execution_count": 105,
   "id": "f77f1247",
   "metadata": {},
   "outputs": [
    {
     "data": {
      "text/html": [
       "<div>\n",
       "<style scoped>\n",
       "    .dataframe tbody tr th:only-of-type {\n",
       "        vertical-align: middle;\n",
       "    }\n",
       "\n",
       "    .dataframe tbody tr th {\n",
       "        vertical-align: top;\n",
       "    }\n",
       "\n",
       "    .dataframe thead th {\n",
       "        text-align: right;\n",
       "    }\n",
       "</style>\n",
       "<table border=\"1\" class=\"dataframe\">\n",
       "  <thead>\n",
       "    <tr style=\"text-align: right;\">\n",
       "      <th></th>\n",
       "      <th>count</th>\n",
       "      <th>unique</th>\n",
       "      <th>top</th>\n",
       "      <th>freq</th>\n",
       "    </tr>\n",
       "  </thead>\n",
       "  <tbody>\n",
       "    <tr>\n",
       "      <th>Street</th>\n",
       "      <td>8577</td>\n",
       "      <td>104</td>\n",
       "      <td>Faith Street</td>\n",
       "      <td>708</td>\n",
       "    </tr>\n",
       "    <tr>\n",
       "      <th>First Name</th>\n",
       "      <td>8577</td>\n",
       "      <td>364</td>\n",
       "      <td>Anna</td>\n",
       "      <td>41</td>\n",
       "    </tr>\n",
       "    <tr>\n",
       "      <th>Surname</th>\n",
       "      <td>8577</td>\n",
       "      <td>672</td>\n",
       "      <td>Smith</td>\n",
       "      <td>223</td>\n",
       "    </tr>\n",
       "    <tr>\n",
       "      <th>Relationship to Head of House</th>\n",
       "      <td>8577</td>\n",
       "      <td>21</td>\n",
       "      <td>Head</td>\n",
       "      <td>2991</td>\n",
       "    </tr>\n",
       "    <tr>\n",
       "      <th>Marital Status</th>\n",
       "      <td>8577</td>\n",
       "      <td>4</td>\n",
       "      <td>Single</td>\n",
       "      <td>4916</td>\n",
       "    </tr>\n",
       "    <tr>\n",
       "      <th>Gender</th>\n",
       "      <td>8577</td>\n",
       "      <td>2</td>\n",
       "      <td>Female</td>\n",
       "      <td>4501</td>\n",
       "    </tr>\n",
       "    <tr>\n",
       "      <th>Occupation</th>\n",
       "      <td>8577</td>\n",
       "      <td>1071</td>\n",
       "      <td>Student</td>\n",
       "      <td>1680</td>\n",
       "    </tr>\n",
       "    <tr>\n",
       "      <th>Infirmity</th>\n",
       "      <td>8577</td>\n",
       "      <td>7</td>\n",
       "      <td>None</td>\n",
       "      <td>8503</td>\n",
       "    </tr>\n",
       "    <tr>\n",
       "      <th>Religion</th>\n",
       "      <td>8577</td>\n",
       "      <td>14</td>\n",
       "      <td>None</td>\n",
       "      <td>3429</td>\n",
       "    </tr>\n",
       "  </tbody>\n",
       "</table>\n",
       "</div>"
      ],
      "text/plain": [
       "                              count unique           top  freq\n",
       "Street                         8577    104  Faith Street   708\n",
       "First Name                     8577    364          Anna    41\n",
       "Surname                        8577    672         Smith   223\n",
       "Relationship to Head of House  8577     21          Head  2991\n",
       "Marital Status                 8577      4        Single  4916\n",
       "Gender                         8577      2        Female  4501\n",
       "Occupation                     8577   1071       Student  1680\n",
       "Infirmity                      8577      7          None  8503\n",
       "Religion                       8577     14          None  3429"
      ]
     },
     "execution_count": 105,
     "metadata": {},
     "output_type": "execute_result"
    }
   ],
   "source": [
    "# statiscal info of categorical data\n",
    "df_clean.describe(include='object').transpose() "
   ]
  },
  {
   "cell_type": "markdown",
   "id": "761cbcb8",
   "metadata": {},
   "source": [
    "#### Age distirbution of Male and females"
   ]
  },
  {
   "cell_type": "code",
   "execution_count": 106,
   "id": "4c8a9c10",
   "metadata": {},
   "outputs": [
    {
     "data": {
      "text/plain": [
       "<Figure size 1200x1000 with 0 Axes>"
      ]
     },
     "metadata": {},
     "output_type": "display_data"
    },
    {
     "data": {
      "image/png": "[encoded data removed]",
      "text/plain": [
       "<Figure size 600.25x500 with 1 Axes>"
      ]
     },
     "metadata": {},
     "output_type": "display_data"
    }
   ],
   "source": [
    "plt.figure(figsize=(12,10))\n",
    "sns.displot(df_clean, x='Age', bins=23, hue='Gender').set(title = 'Age distribution conditioned on Gender')\n",
    "plt.show()"
   ]
  },
  {
   "cell_type": "markdown",
   "id": "6e8de375",
   "metadata": {},
   "source": [
    "### Create Age Pyramide to visualize age groups"
   ]
  },
  {
   "cell_type": "code",
   "execution_count": 107,
   "id": "6c1ee8c9",
   "metadata": {},
   "outputs": [],
   "source": [
    "def age_grouper(age):\n",
    "    # This function classifies age range in 5 years interval\n",
    "    if age < 5:\n",
    "        return '0-04'\n",
    "    elif age < 10:\n",
    "        return '05-09'\n",
    "    elif age < 15:\n",
    "        return '10-14'\n",
    "    elif age < 20:\n",
    "        return '15-19'\n",
    "    elif age < 25:\n",
    "        return '20-24'\n",
    "    elif age < 30:\n",
    "        return '25-29'\n",
    "    elif age < 35:\n",
    "        return '30-34'\n",
    "    elif age < 40:\n",
    "        return '35-39'\n",
    "    elif age < 45:\n",
    "        return '40-44'\n",
    "    elif age < 50:\n",
    "        return '45-49'\n",
    "    elif age < 55:\n",
    "        return '50-54'\n",
    "    elif age < 60:\n",
    "        return '55-59'\n",
    "    elif age < 65:\n",
    "        return '60-64'\n",
    "    elif age < 70:\n",
    "        return '65-69'\n",
    "    elif age < 75:\n",
    "        return '70-74'\n",
    "    elif age < 80:\n",
    "        return '75-79'\n",
    "    elif age < 85:\n",
    "        return '80-84'\n",
    "    elif age < 90:\n",
    "        return '85-89'\n",
    "    elif age < 95:\n",
    "        return '90-94'\n",
    "    elif age < 100:\n",
    "        return '95-99'\n",
    "    else:\n",
    "        return '>=100'\n"
   ]
  },
  {
   "cell_type": "code",
   "execution_count": 108,
   "id": "7272cc0f",
   "metadata": {},
   "outputs": [],
   "source": [
    "# Applying function on the cleaned data with Age column\n",
    "df_clean['Age Range'] = df_clean['Age'].apply(age_grouper)"
   ]
  },
  {
   "cell_type": "code",
   "execution_count": 109,
   "id": "17f501fa",
   "metadata": {},
   "outputs": [
    {
     "data": {
      "text/html": [
       "<div>\n",
       "<style scoped>\n",
       "    .dataframe tbody tr th:only-of-type {\n",
       "        vertical-align: middle;\n",
       "    }\n",
       "\n",
       "    .dataframe tbody tr th {\n",
       "        vertical-align: top;\n",
       "    }\n",
       "\n",
       "    .dataframe thead th {\n",
       "        text-align: right;\n",
       "    }\n",
       "</style>\n",
       "<table border=\"1\" class=\"dataframe\">\n",
       "  <thead>\n",
       "    <tr style=\"text-align: right;\">\n",
       "      <th></th>\n",
       "      <th>House Number</th>\n",
       "      <th>Street</th>\n",
       "      <th>First Name</th>\n",
       "      <th>Surname</th>\n",
       "      <th>Age</th>\n",
       "      <th>Relationship to Head of House</th>\n",
       "      <th>Marital Status</th>\n",
       "      <th>Gender</th>\n",
       "      <th>Occupation</th>\n",
       "      <th>Infirmity</th>\n",
       "      <th>Religion</th>\n",
       "      <th>Age Range</th>\n",
       "    </tr>\n",
       "  </thead>\n",
       "  <tbody>\n",
       "    <tr>\n",
       "      <th>0</th>\n",
       "      <td>1</td>\n",
       "      <td>Turkey Gardens</td>\n",
       "      <td>Alexander</td>\n",
       "      <td>Macdonald</td>\n",
       "      <td>21</td>\n",
       "      <td>Head</td>\n",
       "      <td>Married</td>\n",
       "      <td>Male</td>\n",
       "      <td>Sports development officer</td>\n",
       "      <td>None</td>\n",
       "      <td>None</td>\n",
       "      <td>20-24</td>\n",
       "    </tr>\n",
       "    <tr>\n",
       "      <th>1</th>\n",
       "      <td>1</td>\n",
       "      <td>Turkey Gardens</td>\n",
       "      <td>Yvonne</td>\n",
       "      <td>Macdonald</td>\n",
       "      <td>19</td>\n",
       "      <td>Wife</td>\n",
       "      <td>Married</td>\n",
       "      <td>Female</td>\n",
       "      <td>University Student</td>\n",
       "      <td>None</td>\n",
       "      <td>None</td>\n",
       "      <td>15-19</td>\n",
       "    </tr>\n",
       "    <tr>\n",
       "      <th>2</th>\n",
       "      <td>2</td>\n",
       "      <td>Turkey Gardens</td>\n",
       "      <td>Louise</td>\n",
       "      <td>Taylor</td>\n",
       "      <td>38</td>\n",
       "      <td>Head</td>\n",
       "      <td>Divorced</td>\n",
       "      <td>Female</td>\n",
       "      <td>Mining engineer</td>\n",
       "      <td>None</td>\n",
       "      <td>Christian</td>\n",
       "      <td>35-39</td>\n",
       "    </tr>\n",
       "    <tr>\n",
       "      <th>3</th>\n",
       "      <td>2</td>\n",
       "      <td>Turkey Gardens</td>\n",
       "      <td>Philip</td>\n",
       "      <td>Harding</td>\n",
       "      <td>55</td>\n",
       "      <td>Visitor</td>\n",
       "      <td>Single</td>\n",
       "      <td>Male</td>\n",
       "      <td>Quarry manager</td>\n",
       "      <td>None</td>\n",
       "      <td>Christian</td>\n",
       "      <td>55-59</td>\n",
       "    </tr>\n",
       "    <tr>\n",
       "      <th>4</th>\n",
       "      <td>3</td>\n",
       "      <td>Turkey Gardens</td>\n",
       "      <td>Rachael</td>\n",
       "      <td>Evans</td>\n",
       "      <td>78</td>\n",
       "      <td>Head</td>\n",
       "      <td>Widowed</td>\n",
       "      <td>Female</td>\n",
       "      <td>Retired Freight forwarder</td>\n",
       "      <td>None</td>\n",
       "      <td>Christian</td>\n",
       "      <td>75-79</td>\n",
       "    </tr>\n",
       "  </tbody>\n",
       "</table>\n",
       "</div>"
      ],
      "text/plain": [
       "   House Number          Street First Name    Surname  Age  \\\n",
       "0             1  Turkey Gardens  Alexander  Macdonald   21   \n",
       "1             1  Turkey Gardens     Yvonne  Macdonald   19   \n",
       "2             2  Turkey Gardens     Louise     Taylor   38   \n",
       "3             2  Turkey Gardens     Philip    Harding   55   \n",
       "4             3  Turkey Gardens    Rachael      Evans   78   \n",
       "\n",
       "  Relationship to Head of House Marital Status  Gender  \\\n",
       "0                          Head        Married    Male   \n",
       "1                          Wife        Married  Female   \n",
       "2                          Head       Divorced  Female   \n",
       "3                       Visitor         Single    Male   \n",
       "4                          Head        Widowed  Female   \n",
       "\n",
       "                   Occupation Infirmity   Religion Age Range  \n",
       "0  Sports development officer      None       None     20-24  \n",
       "1          University Student      None       None     15-19  \n",
       "2             Mining engineer      None  Christian     35-39  \n",
       "3              Quarry manager      None  Christian     55-59  \n",
       "4   Retired Freight forwarder      None  Christian     75-79  "
      ]
     },
     "execution_count": 109,
     "metadata": {},
     "output_type": "execute_result"
    }
   ],
   "source": [
    "df_clean.head()"
   ]
  },
  {
   "cell_type": "code",
   "execution_count": 110,
   "id": "9957a67f",
   "metadata": {},
   "outputs": [
    {
     "data": {
      "text/plain": [
       "Age Range  Gender\n",
       "0-04       Female    245\n",
       "           Male      244\n",
       "05-09      Male      318\n",
       "           Female    302\n",
       "10-14      Female    318\n",
       "           Male      291\n",
       "15-19      Male      312\n",
       "           Female    307\n",
       "20-24      Male      299\n",
       "           Female    293\n",
       "25-29      Female    300\n",
       "           Male      298\n",
       "30-34      Female    380\n",
       "           Male      310\n",
       "35-39      Female    434\n",
       "           Male      306\n",
       "40-44      Female    402\n",
       "           Male      333\n",
       "45-49      Female    350\n",
       "           Male      298\n",
       "50-54      Female    277\n",
       "           Male      251\n",
       "55-59      Female    240\n",
       "           Male      201\n",
       "60-64      Female    199\n",
       "           Male      179\n",
       "65-69      Female    162\n",
       "           Male      136\n",
       "70-74      Male      118\n",
       "           Female    105\n",
       "75-79      Female     72\n",
       "           Male       66\n",
       "80-84      Female     67\n",
       "           Male       62\n",
       "85-89      Male       31\n",
       "           Female     29\n",
       "90-94      Female     10\n",
       "           Male       10\n",
       "95-99      Female      5\n",
       "           Male        5\n",
       ">=100      Male        8\n",
       "           Female      4\n",
       "Name: Gender, dtype: int64"
      ]
     },
     "execution_count": 110,
     "metadata": {},
     "output_type": "execute_result"
    }
   ],
   "source": [
    "df_clean.groupby('Age Range')['Gender'].value_counts()"
   ]
  },
  {
   "cell_type": "code",
   "execution_count": 111,
   "id": "2a4aefb4",
   "metadata": {},
   "outputs": [
    {
     "data": {
      "text/html": [
       "<div>\n",
       "<style scoped>\n",
       "    .dataframe tbody tr th:only-of-type {\n",
       "        vertical-align: middle;\n",
       "    }\n",
       "\n",
       "    .dataframe tbody tr th {\n",
       "        vertical-align: top;\n",
       "    }\n",
       "\n",
       "    .dataframe thead th {\n",
       "        text-align: right;\n",
       "    }\n",
       "</style>\n",
       "<table border=\"1\" class=\"dataframe\">\n",
       "  <thead>\n",
       "    <tr style=\"text-align: right;\">\n",
       "      <th>Gender</th>\n",
       "      <th>Age Range</th>\n",
       "      <th>Female</th>\n",
       "      <th>Male</th>\n",
       "    </tr>\n",
       "  </thead>\n",
       "  <tbody>\n",
       "    <tr>\n",
       "      <th>0</th>\n",
       "      <td>0-04</td>\n",
       "      <td>245</td>\n",
       "      <td>-244</td>\n",
       "    </tr>\n",
       "    <tr>\n",
       "      <th>1</th>\n",
       "      <td>05-09</td>\n",
       "      <td>302</td>\n",
       "      <td>-318</td>\n",
       "    </tr>\n",
       "    <tr>\n",
       "      <th>2</th>\n",
       "      <td>10-14</td>\n",
       "      <td>318</td>\n",
       "      <td>-291</td>\n",
       "    </tr>\n",
       "    <tr>\n",
       "      <th>3</th>\n",
       "      <td>15-19</td>\n",
       "      <td>307</td>\n",
       "      <td>-312</td>\n",
       "    </tr>\n",
       "    <tr>\n",
       "      <th>4</th>\n",
       "      <td>20-24</td>\n",
       "      <td>293</td>\n",
       "      <td>-299</td>\n",
       "    </tr>\n",
       "    <tr>\n",
       "      <th>5</th>\n",
       "      <td>25-29</td>\n",
       "      <td>300</td>\n",
       "      <td>-298</td>\n",
       "    </tr>\n",
       "    <tr>\n",
       "      <th>6</th>\n",
       "      <td>30-34</td>\n",
       "      <td>380</td>\n",
       "      <td>-310</td>\n",
       "    </tr>\n",
       "    <tr>\n",
       "      <th>7</th>\n",
       "      <td>35-39</td>\n",
       "      <td>434</td>\n",
       "      <td>-306</td>\n",
       "    </tr>\n",
       "    <tr>\n",
       "      <th>8</th>\n",
       "      <td>40-44</td>\n",
       "      <td>402</td>\n",
       "      <td>-333</td>\n",
       "    </tr>\n",
       "    <tr>\n",
       "      <th>9</th>\n",
       "      <td>45-49</td>\n",
       "      <td>350</td>\n",
       "      <td>-298</td>\n",
       "    </tr>\n",
       "    <tr>\n",
       "      <th>10</th>\n",
       "      <td>50-54</td>\n",
       "      <td>277</td>\n",
       "      <td>-251</td>\n",
       "    </tr>\n",
       "    <tr>\n",
       "      <th>11</th>\n",
       "      <td>55-59</td>\n",
       "      <td>240</td>\n",
       "      <td>-201</td>\n",
       "    </tr>\n",
       "    <tr>\n",
       "      <th>12</th>\n",
       "      <td>60-64</td>\n",
       "      <td>199</td>\n",
       "      <td>-179</td>\n",
       "    </tr>\n",
       "    <tr>\n",
       "      <th>13</th>\n",
       "      <td>65-69</td>\n",
       "      <td>162</td>\n",
       "      <td>-136</td>\n",
       "    </tr>\n",
       "    <tr>\n",
       "      <th>14</th>\n",
       "      <td>70-74</td>\n",
       "      <td>105</td>\n",
       "      <td>-118</td>\n",
       "    </tr>\n",
       "    <tr>\n",
       "      <th>15</th>\n",
       "      <td>75-79</td>\n",
       "      <td>72</td>\n",
       "      <td>-66</td>\n",
       "    </tr>\n",
       "    <tr>\n",
       "      <th>16</th>\n",
       "      <td>80-84</td>\n",
       "      <td>67</td>\n",
       "      <td>-62</td>\n",
       "    </tr>\n",
       "    <tr>\n",
       "      <th>17</th>\n",
       "      <td>85-89</td>\n",
       "      <td>29</td>\n",
       "      <td>-31</td>\n",
       "    </tr>\n",
       "    <tr>\n",
       "      <th>18</th>\n",
       "      <td>90-94</td>\n",
       "      <td>10</td>\n",
       "      <td>-10</td>\n",
       "    </tr>\n",
       "    <tr>\n",
       "      <th>19</th>\n",
       "      <td>95-99</td>\n",
       "      <td>5</td>\n",
       "      <td>-5</td>\n",
       "    </tr>\n",
       "    <tr>\n",
       "      <th>20</th>\n",
       "      <td>&gt;=100</td>\n",
       "      <td>4</td>\n",
       "      <td>-8</td>\n",
       "    </tr>\n",
       "  </tbody>\n",
       "</table>\n",
       "</div>"
      ],
      "text/plain": [
       "Gender Age Range  Female  Male\n",
       "0           0-04     245  -244\n",
       "1          05-09     302  -318\n",
       "2          10-14     318  -291\n",
       "3          15-19     307  -312\n",
       "4          20-24     293  -299\n",
       "5          25-29     300  -298\n",
       "6          30-34     380  -310\n",
       "7          35-39     434  -306\n",
       "8          40-44     402  -333\n",
       "9          45-49     350  -298\n",
       "10         50-54     277  -251\n",
       "11         55-59     240  -201\n",
       "12         60-64     199  -179\n",
       "13         65-69     162  -136\n",
       "14         70-74     105  -118\n",
       "15         75-79      72   -66\n",
       "16         80-84      67   -62\n",
       "17         85-89      29   -31\n",
       "18         90-94      10   -10\n",
       "19         95-99       5    -5\n",
       "20         >=100       4    -8"
      ]
     },
     "execution_count": 111,
     "metadata": {},
     "output_type": "execute_result"
    }
   ],
   "source": [
    "# Count number of males and females for each age group to construct age pyramide\n",
    "\n",
    "gender_age_pyramide = df_clean.pivot_table('Age', index='Age Range', columns='Gender', aggfunc='count').reset_index()\n",
    "gender_age_pyramide['Male'] = -gender_age_pyramide['Male']\n",
    "age_group = list(reversed(gender_age_pyramide['Age Range'].to_list())) # sort age group in descending order\n",
    "gender_age_pyramide"
   ]
  },
  {
   "cell_type": "code",
   "execution_count": 112,
   "id": "f3ccc1ed",
   "metadata": {},
   "outputs": [
    {
     "data": {
      "image/png": "[encoded data removed]",
      "text/plain": [
       "<Figure size 700x600 with 1 Axes>"
      ]
     },
     "metadata": {},
     "output_type": "display_data"
    }
   ],
   "source": [
    "plt.figure(figsize=(7,6))\n",
    "age_pyramid = sns.barplot(x='Male', y='Age Range', data=gender_age_pyramide, order=age_group, color='green', label='Male') \n",
    "age_pyramid = sns.barplot(x='Female', y='Age Range', data=gender_age_pyramide, order=age_group, color='pink', label='Female')\n",
    "age_pyramid.xaxis.set_major_locator(ticker.FixedLocator(age_pyramid.get_xticks()))\n",
    "age_pyramid.xaxis.set_ticklabels(abs(age_pyramid.get_xticks()).astype(int))\n",
    "\n",
    "# Change the x-axis label to \"Population Count\"\n",
    "age_pyramid.set_xlabel(\"Population Count\")\n",
    "\n",
    "# Reverse the order of the bars and center the plot at 0\n",
    "age_pyramid.set_xlim(right=max(abs(gender_age_pyramide['Male'].max()), abs(gender_age_pyramide['Female'].max())) + 50, \n",
    "                     left=-max(abs(gender_age_pyramide['Male'].max()), abs(gender_age_pyramide['Female'].max())) - 50)\n",
    "age_pyramid.invert_xaxis()\n",
    "age_pyramid.set_xticklabels(abs(age_pyramid.get_xticks()).astype(int))\n",
    "\n",
    "age_pyramid.legend()\n",
    "plt.title('Age demographic chart', fontsize=12)\n",
    "plt.savefig('Age_Demograph.png')\n"
   ]
  },
  {
   "cell_type": "markdown",
   "id": "dc41a95f",
   "metadata": {},
   "source": [
    "### Ratio of Adult to minor"
   ]
  },
  {
   "cell_type": "code",
   "execution_count": 113,
   "id": "698e385c",
   "metadata": {},
   "outputs": [],
   "source": [
    "# Add age_class columns: Minor ratio\n",
    "df_clean['Age Category'] = np.where(df['Age']<18, 'Minor','Adult')"
   ]
  },
  {
   "cell_type": "code",
   "execution_count": 114,
   "id": "3ae6b525",
   "metadata": {},
   "outputs": [
    {
     "data": {
      "text/plain": [
       "Adult    6492\n",
       "Minor    2085\n",
       "Name: Age Category, dtype: int64"
      ]
     },
     "execution_count": 114,
     "metadata": {},
     "output_type": "execute_result"
    }
   ],
   "source": [
    "Age_Category = df_clean['Age Category'].value_counts()\n",
    "Age_Category"
   ]
  },
  {
   "cell_type": "code",
   "execution_count": 115,
   "id": "1d4ab064",
   "metadata": {},
   "outputs": [],
   "source": [
    "# function to get percent and counts of Gender\n",
    "def my_fmt(x):\n",
    "    return '{:.0f}\\n({:.2f}%)'.format(total*x/100, x)"
   ]
  },
  {
   "cell_type": "code",
   "execution_count": 116,
   "id": "5e1aa424",
   "metadata": {},
   "outputs": [
    {
     "data": {
      "image/png": "[encoded data removed]",
      "text/plain": [
       "<Figure size 700x700 with 1 Axes>"
      ]
     },
     "metadata": {},
     "output_type": "display_data"
    }
   ],
   "source": [
    "total = len(df_clean['Age Category'])\n",
    "plt.figure(figsize=(7,7))\n",
    "#plt.title('Grouped by Age Class')\n",
    "plt.pie(Age_Category.values, labels=Age_Category.index, autopct=my_fmt, textprops={'fontsize':13})\n",
    "plt.savefig('adult_minor_pie_chart.png')\n",
    "plt.show()"
   ]
  },
  {
   "cell_type": "markdown",
   "id": "7812dafb",
   "metadata": {},
   "source": [
    "### Religion"
   ]
  },
  {
   "cell_type": "code",
   "execution_count": 117,
   "id": "109eb81e",
   "metadata": {},
   "outputs": [
    {
     "data": {
      "text/plain": [
       "None         3429\n",
       "Christian    2395\n",
       "Catholic     1272\n",
       "Methodist     857\n",
       "Unknown       325\n",
       "Muslim        152\n",
       "Sikh           81\n",
       "Jewish         51\n",
       "Baptist         4\n",
       "Bahai           4\n",
       "Undecided       2\n",
       "Sith            2\n",
       "Hindu           2\n",
       "Buddist         1\n",
       "Name: Religion, dtype: int64"
      ]
     },
     "execution_count": 117,
     "metadata": {},
     "output_type": "execute_result"
    }
   ],
   "source": [
    "religions_count = df['Religion'].value_counts()\n",
    "religions_count"
   ]
  },
  {
   "cell_type": "code",
   "execution_count": 118,
   "id": "13679461",
   "metadata": {},
   "outputs": [
    {
     "data": {
      "image/png": "[encoded data removed]",
      "text/plain": [
       "<Figure size 1500x700 with 1 Axes>"
      ]
     },
     "metadata": {},
     "output_type": "display_data"
    }
   ],
   "source": [
    "# Define the colors for each bar\n",
    "colors = ['blue', 'orange', 'green', 'red', 'purple']\n",
    "\n",
    "# Plot marital status distribution after cleaning\n",
    "plt.figure(figsize=(15,7))\n",
    "plt.bar(religions_count.index, religions_count.values, color=colors)\n",
    "plt.title('Religious groups count')\n",
    "plt.ylabel('count')\n",
    "\n",
    "# Add text labels to each bar\n",
    "for i, value in enumerate(religions_count.values):\n",
    "    plt.text(i, value-98, str(value), fontsize=8, color='white', horizontalalignment='center', verticalalignment='center')\n",
    "\n",
    "# Save and show the plot\n",
    "plt.savefig('religious_group_neat.png')\n",
    "plt.show()\n"
   ]
  },
  {
   "cell_type": "markdown",
   "id": "05833e25",
   "metadata": {},
   "source": [
    "#### Looking at the number of undecided and the None barchat, majority of the people are unreligious, however, there will be a need to consider building a worship building for the christians, since their numbers are signicant compared to other religions"
   ]
  },
  {
   "cell_type": "code",
   "execution_count": 119,
   "id": "87058a66",
   "metadata": {},
   "outputs": [],
   "source": [
    "# Get mean, median, mode, min, and max of age for each religion\n",
    "religion_age_range = pd.DataFrame(columns=['Religion', 'Mean', 'Median', 'Mode', 'Min', 'Max'])\n",
    "for religion in df['Religion'].unique():\n",
    "    age_subset = df.loc[df['Religion'] == religion, 'Age']\n",
    "    religion_age_range = pd.concat([\n",
    "        religion_age_range, \n",
    "        pd.DataFrame({\n",
    "            'Religion': religion,\n",
    "            'Mean': np.mean(age_subset),\n",
    "            'Median': np.median(age_subset),\n",
    "            'Mode': age_subset.mode().values[0],\n",
    "            'Min': np.min(age_subset),\n",
    "            'Max': np.max(age_subset)\n",
    "        }, index=[0])\n",
    "    ])\n",
    "\n",
    "# Reset index\n",
    "religion_age_range.reset_index(drop=True, inplace=True)\n"
   ]
  },
  {
   "cell_type": "code",
   "execution_count": 120,
   "id": "e45e33a9",
   "metadata": {},
   "outputs": [
    {
     "data": {
      "text/html": [
       "<div>\n",
       "<style scoped>\n",
       "    .dataframe tbody tr th:only-of-type {\n",
       "        vertical-align: middle;\n",
       "    }\n",
       "\n",
       "    .dataframe tbody tr th {\n",
       "        vertical-align: top;\n",
       "    }\n",
       "\n",
       "    .dataframe thead th {\n",
       "        text-align: right;\n",
       "    }\n",
       "</style>\n",
       "<table border=\"1\" class=\"dataframe\">\n",
       "  <thead>\n",
       "    <tr style=\"text-align: right;\">\n",
       "      <th></th>\n",
       "      <th>Religion</th>\n",
       "      <th>Mean</th>\n",
       "      <th>Median</th>\n",
       "      <th>Mode</th>\n",
       "      <th>Min</th>\n",
       "      <th>Max</th>\n",
       "    </tr>\n",
       "  </thead>\n",
       "  <tbody>\n",
       "    <tr>\n",
       "      <th>0</th>\n",
       "      <td>None</td>\n",
       "      <td>35.718577</td>\n",
       "      <td>35.0</td>\n",
       "      <td>32</td>\n",
       "      <td>0</td>\n",
       "      <td>103</td>\n",
       "    </tr>\n",
       "    <tr>\n",
       "      <th>1</th>\n",
       "      <td>Christian</td>\n",
       "      <td>41.439666</td>\n",
       "      <td>42.0</td>\n",
       "      <td>51</td>\n",
       "      <td>0</td>\n",
       "      <td>105</td>\n",
       "    </tr>\n",
       "    <tr>\n",
       "      <th>2</th>\n",
       "      <td>Methodist</td>\n",
       "      <td>34.326721</td>\n",
       "      <td>34.0</td>\n",
       "      <td>32</td>\n",
       "      <td>0</td>\n",
       "      <td>104</td>\n",
       "    </tr>\n",
       "    <tr>\n",
       "      <th>3</th>\n",
       "      <td>Catholic</td>\n",
       "      <td>32.761006</td>\n",
       "      <td>35.0</td>\n",
       "      <td>40</td>\n",
       "      <td>0</td>\n",
       "      <td>107</td>\n",
       "    </tr>\n",
       "    <tr>\n",
       "      <th>4</th>\n",
       "      <td>Jewish</td>\n",
       "      <td>36.627451</td>\n",
       "      <td>34.0</td>\n",
       "      <td>6</td>\n",
       "      <td>0</td>\n",
       "      <td>90</td>\n",
       "    </tr>\n",
       "    <tr>\n",
       "      <th>5</th>\n",
       "      <td>Muslim</td>\n",
       "      <td>31.052632</td>\n",
       "      <td>30.0</td>\n",
       "      <td>19</td>\n",
       "      <td>0</td>\n",
       "      <td>90</td>\n",
       "    </tr>\n",
       "    <tr>\n",
       "      <th>6</th>\n",
       "      <td>Unknown</td>\n",
       "      <td>9.889231</td>\n",
       "      <td>10.0</td>\n",
       "      <td>18</td>\n",
       "      <td>0</td>\n",
       "      <td>43</td>\n",
       "    </tr>\n",
       "    <tr>\n",
       "      <th>7</th>\n",
       "      <td>Sikh</td>\n",
       "      <td>28.209877</td>\n",
       "      <td>27.0</td>\n",
       "      <td>3</td>\n",
       "      <td>1</td>\n",
       "      <td>95</td>\n",
       "    </tr>\n",
       "    <tr>\n",
       "      <th>8</th>\n",
       "      <td>Undecided</td>\n",
       "      <td>24.500000</td>\n",
       "      <td>24.5</td>\n",
       "      <td>22</td>\n",
       "      <td>22</td>\n",
       "      <td>27</td>\n",
       "    </tr>\n",
       "    <tr>\n",
       "      <th>9</th>\n",
       "      <td>Sith</td>\n",
       "      <td>26.000000</td>\n",
       "      <td>26.0</td>\n",
       "      <td>23</td>\n",
       "      <td>23</td>\n",
       "      <td>29</td>\n",
       "    </tr>\n",
       "    <tr>\n",
       "      <th>10</th>\n",
       "      <td>Hindu</td>\n",
       "      <td>20.000000</td>\n",
       "      <td>20.0</td>\n",
       "      <td>19</td>\n",
       "      <td>19</td>\n",
       "      <td>21</td>\n",
       "    </tr>\n",
       "    <tr>\n",
       "      <th>11</th>\n",
       "      <td>Buddist</td>\n",
       "      <td>66.000000</td>\n",
       "      <td>66.0</td>\n",
       "      <td>66</td>\n",
       "      <td>66</td>\n",
       "      <td>66</td>\n",
       "    </tr>\n",
       "    <tr>\n",
       "      <th>12</th>\n",
       "      <td>Baptist</td>\n",
       "      <td>27.250000</td>\n",
       "      <td>27.5</td>\n",
       "      <td>43</td>\n",
       "      <td>11</td>\n",
       "      <td>43</td>\n",
       "    </tr>\n",
       "    <tr>\n",
       "      <th>13</th>\n",
       "      <td>Bahai</td>\n",
       "      <td>15.500000</td>\n",
       "      <td>9.5</td>\n",
       "      <td>4</td>\n",
       "      <td>4</td>\n",
       "      <td>39</td>\n",
       "    </tr>\n",
       "  </tbody>\n",
       "</table>\n",
       "</div>"
      ],
      "text/plain": [
       "     Religion       Mean  Median Mode Min  Max\n",
       "0        None  35.718577    35.0   32   0  103\n",
       "1   Christian  41.439666    42.0   51   0  105\n",
       "2   Methodist  34.326721    34.0   32   0  104\n",
       "3    Catholic  32.761006    35.0   40   0  107\n",
       "4      Jewish  36.627451    34.0    6   0   90\n",
       "5      Muslim  31.052632    30.0   19   0   90\n",
       "6     Unknown   9.889231    10.0   18   0   43\n",
       "7        Sikh  28.209877    27.0    3   1   95\n",
       "8   Undecided  24.500000    24.5   22  22   27\n",
       "9        Sith  26.000000    26.0   23  23   29\n",
       "10      Hindu  20.000000    20.0   19  19   21\n",
       "11    Buddist  66.000000    66.0   66  66   66\n",
       "12    Baptist  27.250000    27.5   43  11   43\n",
       "13      Bahai  15.500000     9.5    4   4   39"
      ]
     },
     "execution_count": 120,
     "metadata": {},
     "output_type": "execute_result"
    }
   ],
   "source": [
    "religion_age_range"
   ]
  },
  {
   "cell_type": "markdown",
   "id": "7f547bf7",
   "metadata": {},
   "source": [
    "#### Analysis of Marital status"
   ]
  },
  {
   "cell_type": "code",
   "execution_count": 121,
   "id": "c4240f93",
   "metadata": {},
   "outputs": [
    {
     "data": {
      "image/png": "[encoded data removed]",
      "text/plain": [
       "<Figure size 1080x600 with 2 Axes>"
      ]
     },
     "metadata": {},
     "output_type": "display_data"
    }
   ],
   "source": [
    "# marital status separated by gender\n",
    "sns.catplot(data=df_clean, x='Marital Status', col='Gender', kind='count', height=6, aspect=.9)\n",
    "plt.subplots_adjust(top=0.90)\n",
    "plt.suptitle('Gender-Based Marital Status Distribution\\n', fontsize=15)\n",
    "plt.savefig('marital_status_gender_sep.png')\n",
    "plt.show()"
   ]
  },
  {
   "cell_type": "markdown",
   "id": "712c6e06",
   "metadata": {},
   "source": [
    "#### Almost same maried ratio, however, more widowed on the female than the male, tells me that the males die more in marriage.\n",
    "#### Also, more divorced female ratio, could be that the males relocate after they are separated"
   ]
  },
  {
   "cell_type": "markdown",
   "id": "fbcd5190",
   "metadata": {},
   "source": [
    "#### Creating household category"
   ]
  },
  {
   "cell_type": "code",
   "execution_count": 122,
   "id": "3fa225c3",
   "metadata": {},
   "outputs": [
    {
     "data": {
      "text/html": [
       "<div>\n",
       "<style scoped>\n",
       "    .dataframe tbody tr th:only-of-type {\n",
       "        vertical-align: middle;\n",
       "    }\n",
       "\n",
       "    .dataframe tbody tr th {\n",
       "        vertical-align: top;\n",
       "    }\n",
       "\n",
       "    .dataframe thead th {\n",
       "        text-align: right;\n",
       "    }\n",
       "</style>\n",
       "<table border=\"1\" class=\"dataframe\">\n",
       "  <thead>\n",
       "    <tr style=\"text-align: right;\">\n",
       "      <th></th>\n",
       "      <th>House Number</th>\n",
       "      <th>Street</th>\n",
       "      <th>Household</th>\n",
       "    </tr>\n",
       "  </thead>\n",
       "  <tbody>\n",
       "    <tr>\n",
       "      <th>0</th>\n",
       "      <td>1</td>\n",
       "      <td>Aberdeen Knolls</td>\n",
       "      <td>2</td>\n",
       "    </tr>\n",
       "    <tr>\n",
       "      <th>1</th>\n",
       "      <td>1</td>\n",
       "      <td>Aethelstan Pass</td>\n",
       "      <td>2</td>\n",
       "    </tr>\n",
       "    <tr>\n",
       "      <th>2</th>\n",
       "      <td>1</td>\n",
       "      <td>Ahmed Haven</td>\n",
       "      <td>3</td>\n",
       "    </tr>\n",
       "    <tr>\n",
       "      <th>3</th>\n",
       "      <td>1</td>\n",
       "      <td>Albans Crescent</td>\n",
       "      <td>4</td>\n",
       "    </tr>\n",
       "    <tr>\n",
       "      <th>4</th>\n",
       "      <td>1</td>\n",
       "      <td>Allen Drive</td>\n",
       "      <td>3</td>\n",
       "    </tr>\n",
       "    <tr>\n",
       "      <th>...</th>\n",
       "      <td>...</td>\n",
       "      <td>...</td>\n",
       "      <td>...</td>\n",
       "    </tr>\n",
       "    <tr>\n",
       "      <th>2955</th>\n",
       "      <td>216</td>\n",
       "      <td>Faith Street</td>\n",
       "      <td>3</td>\n",
       "    </tr>\n",
       "    <tr>\n",
       "      <th>2956</th>\n",
       "      <td>217</td>\n",
       "      <td>Faith Street</td>\n",
       "      <td>3</td>\n",
       "    </tr>\n",
       "    <tr>\n",
       "      <th>2957</th>\n",
       "      <td>218</td>\n",
       "      <td>Faith Street</td>\n",
       "      <td>3</td>\n",
       "    </tr>\n",
       "    <tr>\n",
       "      <th>2958</th>\n",
       "      <td>219</td>\n",
       "      <td>Faith Street</td>\n",
       "      <td>5</td>\n",
       "    </tr>\n",
       "    <tr>\n",
       "      <th>2959</th>\n",
       "      <td>220</td>\n",
       "      <td>Faith Street</td>\n",
       "      <td>3</td>\n",
       "    </tr>\n",
       "  </tbody>\n",
       "</table>\n",
       "<p>2960 rows × 3 columns</p>\n",
       "</div>"
      ],
      "text/plain": [
       "      House Number           Street  Household\n",
       "0                1  Aberdeen Knolls          2\n",
       "1                1  Aethelstan Pass          2\n",
       "2                1      Ahmed Haven          3\n",
       "3                1  Albans Crescent          4\n",
       "4                1      Allen Drive          3\n",
       "...            ...              ...        ...\n",
       "2955           216     Faith Street          3\n",
       "2956           217     Faith Street          3\n",
       "2957           218     Faith Street          3\n",
       "2958           219     Faith Street          5\n",
       "2959           220     Faith Street          3\n",
       "\n",
       "[2960 rows x 3 columns]"
      ]
     },
     "execution_count": 122,
     "metadata": {},
     "output_type": "execute_result"
    }
   ],
   "source": [
    "# Grouping members in the same apartments as households\n",
    "household = df_clean.groupby(['House Number', 'Street']).size().reset_index()\n",
    "household.rename(columns={0:'Household'}, inplace=True)\n",
    "household"
   ]
  },
  {
   "cell_type": "code",
   "execution_count": 123,
   "id": "9454f08d",
   "metadata": {},
   "outputs": [
    {
     "data": {
      "text/html": [
       "<div>\n",
       "<style scoped>\n",
       "    .dataframe tbody tr th:only-of-type {\n",
       "        vertical-align: middle;\n",
       "    }\n",
       "\n",
       "    .dataframe tbody tr th {\n",
       "        vertical-align: top;\n",
       "    }\n",
       "\n",
       "    .dataframe thead th {\n",
       "        text-align: right;\n",
       "    }\n",
       "</style>\n",
       "<table border=\"1\" class=\"dataframe\">\n",
       "  <thead>\n",
       "    <tr style=\"text-align: right;\">\n",
       "      <th></th>\n",
       "      <th>Household</th>\n",
       "      <th>Count</th>\n",
       "    </tr>\n",
       "  </thead>\n",
       "  <tbody>\n",
       "    <tr>\n",
       "      <th>0</th>\n",
       "      <td>2</td>\n",
       "      <td>783</td>\n",
       "    </tr>\n",
       "    <tr>\n",
       "      <th>1</th>\n",
       "      <td>3</td>\n",
       "      <td>664</td>\n",
       "    </tr>\n",
       "    <tr>\n",
       "      <th>2</th>\n",
       "      <td>1</td>\n",
       "      <td>575</td>\n",
       "    </tr>\n",
       "    <tr>\n",
       "      <th>3</th>\n",
       "      <td>4</td>\n",
       "      <td>495</td>\n",
       "    </tr>\n",
       "    <tr>\n",
       "      <th>4</th>\n",
       "      <td>5</td>\n",
       "      <td>343</td>\n",
       "    </tr>\n",
       "    <tr>\n",
       "      <th>5</th>\n",
       "      <td>6</td>\n",
       "      <td>52</td>\n",
       "    </tr>\n",
       "    <tr>\n",
       "      <th>6</th>\n",
       "      <td>7</td>\n",
       "      <td>19</td>\n",
       "    </tr>\n",
       "    <tr>\n",
       "      <th>7</th>\n",
       "      <td>10</td>\n",
       "      <td>9</td>\n",
       "    </tr>\n",
       "    <tr>\n",
       "      <th>8</th>\n",
       "      <td>11</td>\n",
       "      <td>8</td>\n",
       "    </tr>\n",
       "    <tr>\n",
       "      <th>9</th>\n",
       "      <td>8</td>\n",
       "      <td>5</td>\n",
       "    </tr>\n",
       "    <tr>\n",
       "      <th>10</th>\n",
       "      <td>12</td>\n",
       "      <td>5</td>\n",
       "    </tr>\n",
       "    <tr>\n",
       "      <th>11</th>\n",
       "      <td>9</td>\n",
       "      <td>1</td>\n",
       "    </tr>\n",
       "    <tr>\n",
       "      <th>12</th>\n",
       "      <td>17</td>\n",
       "      <td>1</td>\n",
       "    </tr>\n",
       "  </tbody>\n",
       "</table>\n",
       "</div>"
      ],
      "text/plain": [
       "    Household  Count\n",
       "0           2    783\n",
       "1           3    664\n",
       "2           1    575\n",
       "3           4    495\n",
       "4           5    343\n",
       "5           6     52\n",
       "6           7     19\n",
       "7          10      9\n",
       "8          11      8\n",
       "9           8      5\n",
       "10         12      5\n",
       "11          9      1\n",
       "12         17      1"
      ]
     },
     "execution_count": 123,
     "metadata": {},
     "output_type": "execute_result"
    }
   ],
   "source": [
    "# Numbering people in same apartment\n",
    "househould_counts = household['Household'].value_counts().reset_index().rename(columns={'index':'Household','Household':'Count' })\n",
    "househould_counts"
   ]
  },
  {
   "cell_type": "code",
   "execution_count": 124,
   "id": "e8733c8c",
   "metadata": {},
   "outputs": [
    {
     "data": {
      "image/png": "[encoded data removed]",
      "text/plain": [
       "<Figure size 640x480 with 1 Axes>"
      ]
     },
     "metadata": {},
     "output_type": "display_data"
    }
   ],
   "source": [
    "# Numbering people in same apartment\n",
    "household_counts = household['Household'].value_counts().reset_index().rename(columns={'index':'Household','Household':'Count' })\n",
    "\n",
    "# Create a figure and axis object\n",
    "fig, ax = plt.subplots()\n",
    "\n",
    "# Create a bar chart\n",
    "ax.bar(range(len(household_counts)), household_counts.Count, color='darkorange')\n",
    "\n",
    "# Set axis labels and title\n",
    "ax.set_xlabel('Household')\n",
    "ax.set_ylabel('Count')\n",
    "ax.set_title('Household Size in Descending Order')\n",
    "\n",
    "# Set x-axis ticks and labels\n",
    "ax.set_xticks(range(len(household_counts)))\n",
    "ax.set_xticklabels(household_counts.Household)\n",
    "\n",
    "# Show the plot\n",
    "plt.show()\n"
   ]
  },
  {
   "cell_type": "markdown",
   "id": "b4ad1146",
   "metadata": {},
   "source": [
    "#### Looking at this graph, it shows small percentage of people live in households more than six"
   ]
  },
  {
   "cell_type": "markdown",
   "id": "07e3d942",
   "metadata": {},
   "source": [
    "#### Analyse of Occupation and Commuters"
   ]
  },
  {
   "cell_type": "code",
   "execution_count": 125,
   "id": "a66f6e2a",
   "metadata": {},
   "outputs": [],
   "source": [
    "# Add occupation category: Student(Minor), Student(University), Employed, Unemployed, Retired\n",
    "occupation_groups = []\n",
    "for x in df_clean['Occupation']:\n",
    "    if 'retired' in x.lower():\n",
    "        occupation_groups.append('Retired')\n",
    "    elif 'unemployed' in x.lower():\n",
    "        occupation_groups.append('Unemployed')\n",
    "    elif 'university student' in x.lower(): \n",
    "        occupation_groups.append('Student(University)')\n",
    "    elif 'phd student' in x.lower(): \n",
    "        occupation_groups.append('Student(University)')\n",
    "    elif 'student' in x.lower():\n",
    "        occupation_groups.append('Student(Minor)')\n",
    "    else:\n",
    "        occupation_groups.append('Employed')"
   ]
  },
  {
   "cell_type": "code",
   "execution_count": 126,
   "id": "7cbdc6b3",
   "metadata": {},
   "outputs": [],
   "source": [
    "df_clean['occupation_category']= pd.Series(occupation_groups)"
   ]
  },
  {
   "cell_type": "code",
   "execution_count": 127,
   "id": "829124e5",
   "metadata": {},
   "outputs": [
    {
     "data": {
      "text/plain": [
       "Index(['House Number', 'Street', 'First Name', 'Surname', 'Age',\n",
       "       'Relationship to Head of House', 'Marital Status', 'Gender',\n",
       "       'Occupation', 'Infirmity', 'Religion', 'Age Range', 'Age Category',\n",
       "       'occupation_category'],\n",
       "      dtype='object')"
      ]
     },
     "execution_count": 127,
     "metadata": {},
     "output_type": "execute_result"
    }
   ],
   "source": [
    "df_clean.columns"
   ]
  },
  {
   "cell_type": "code",
   "execution_count": 128,
   "id": "be5b50b4",
   "metadata": {
    "scrolled": true
   },
   "outputs": [
    {
     "data": {
      "text/plain": [
       "Employed               5170\n",
       "Student(Minor)         1680\n",
       "Retired                 724\n",
       "Student(University)     530\n",
       "Unemployed              473\n",
       "Name: occupation_category, dtype: int64"
      ]
     },
     "execution_count": 128,
     "metadata": {},
     "output_type": "execute_result"
    }
   ],
   "source": [
    "occupation_cat_count = df_clean['occupation_category'].value_counts()\n",
    "occupation_cat_count"
   ]
  },
  {
   "cell_type": "code",
   "execution_count": 129,
   "id": "12bbd9eb",
   "metadata": {},
   "outputs": [
    {
     "data": {
      "image/png": "[encoded data removed]",
      "text/plain": [
       "<Figure size 700x700 with 1 Axes>"
      ]
     },
     "metadata": {},
     "output_type": "display_data"
    }
   ],
   "source": [
    "total = len(df_clean['occupation_category'])\n",
    "plt.figure(figsize=(7,7))\n",
    "plt.pie(occupation_cat_count.values, labels=occupation_cat_count.index, autopct='%1.2f%%', textprops={'fontsize':12})\n",
    "plt.savefig('employment_pie_chart.png')\n",
    "plt.show()"
   ]
  },
  {
   "cell_type": "code",
   "execution_count": 130,
   "id": "b937085a",
   "metadata": {},
   "outputs": [
    {
     "data": {
      "text/plain": [
       "Student(Minor)         1680\n",
       "Student(University)     530\n",
       "Name: occupation_category, dtype: int64"
      ]
     },
     "execution_count": 130,
     "metadata": {},
     "output_type": "execute_result"
    }
   ],
   "source": [
    "students_counts = df_clean[df_clean['occupation_category'].str.contains('Student')]['occupation_category'].value_counts()\n",
    "students_counts"
   ]
  },
  {
   "cell_type": "code",
   "execution_count": 131,
   "id": "434f17d1",
   "metadata": {},
   "outputs": [
    {
     "data": {
      "image/png": "[encoded data removed]",
      "text/plain": [
       "<Figure size 600x700 with 1 Axes>"
      ]
     },
     "metadata": {},
     "output_type": "display_data"
    }
   ],
   "source": [
    "# Plot the distribution of student levels in the cleaned dataset\n",
    "plt.figure(figsize=(6, 7))\n",
    "plt.bar(students_counts.index, students_counts.values, color='darkorange')\n",
    "plt.ylabel('Count')\n",
    "for i, value in enumerate(students_counts.values):\n",
    "    plt.text(i, value-98, str(value), fontsize=12, color='white',horizontalalignment='center', verticalalignment='center')\n",
    "plt.title('Student class distribution')\n",
    "plt.savefig('student_class_distribution.png')\n",
    "plt.show()\n"
   ]
  },
  {
   "cell_type": "markdown",
   "id": "c499f79e",
   "metadata": {},
   "source": [
    "## Birth rate"
   ]
  },
  {
   "cell_type": "code",
   "execution_count": 132,
   "id": "9fc027b8",
   "metadata": {},
   "outputs": [
    {
     "name": "stdout",
     "output_type": "stream",
     "text": [
      "Number of babies aged zero: 79\n",
      "Number of potential women: 1063\n",
      "Birth rate: 0.07\n",
      "Birth rate per 1000 women: 7.43\n"
     ]
    }
   ],
   "source": [
    "children_aged_zero = df_clean.query('Age == 0').shape[0] # get number of children aged zero\n",
    "potential_women = df.query('23 <= Age <= 31').shape[0] # number of potential women: assuming child bearing age between 23-31\n",
    "birth_rate = children_aged_zero/potential_women # calc birth rate\n",
    "birth_rate_per_1000 = birth_rate * 100\n",
    "print(f\"Number of babies aged zero: {children_aged_zero}\\nNumber of potential women: {potential_women}\\n\\\n",
    "Birth rate: {birth_rate:.2f}\\nBirth rate per 1000 women: {birth_rate_per_1000:.2f}\")\n"
   ]
  },
  {
   "cell_type": "markdown",
   "id": "7c127fe7",
   "metadata": {},
   "source": [
    "## Death rate"
   ]
  },
  {
   "cell_type": "code",
   "execution_count": 133,
   "id": "9a40ca77",
   "metadata": {},
   "outputs": [
    {
     "data": {
      "text/html": [
       "<div>\n",
       "<style scoped>\n",
       "    .dataframe tbody tr th:only-of-type {\n",
       "        vertical-align: middle;\n",
       "    }\n",
       "\n",
       "    .dataframe tbody tr th {\n",
       "        vertical-align: top;\n",
       "    }\n",
       "\n",
       "    .dataframe thead th {\n",
       "        text-align: right;\n",
       "    }\n",
       "</style>\n",
       "<table border=\"1\" class=\"dataframe\">\n",
       "  <thead>\n",
       "    <tr style=\"text-align: right;\">\n",
       "      <th></th>\n",
       "      <th>Age group</th>\n",
       "      <th>Number of people</th>\n",
       "      <th>Deaths</th>\n",
       "      <th>Death rate per annum</th>\n",
       "    </tr>\n",
       "  </thead>\n",
       "  <tbody>\n",
       "    <tr>\n",
       "      <th>0</th>\n",
       "      <td>0-4</td>\n",
       "      <td>537</td>\n",
       "      <td>NaN</td>\n",
       "      <td>NaN</td>\n",
       "    </tr>\n",
       "    <tr>\n",
       "      <th>1</th>\n",
       "      <td>5-9</td>\n",
       "      <td>624</td>\n",
       "      <td>87.0</td>\n",
       "      <td>0.027885</td>\n",
       "    </tr>\n",
       "    <tr>\n",
       "      <th>2</th>\n",
       "      <td>10-14</td>\n",
       "      <td>616</td>\n",
       "      <td>-8.0</td>\n",
       "      <td>-0.002597</td>\n",
       "    </tr>\n",
       "    <tr>\n",
       "      <th>3</th>\n",
       "      <td>15-19</td>\n",
       "      <td>605</td>\n",
       "      <td>-11.0</td>\n",
       "      <td>-0.003636</td>\n",
       "    </tr>\n",
       "    <tr>\n",
       "      <th>4</th>\n",
       "      <td>20-24</td>\n",
       "      <td>600</td>\n",
       "      <td>-5.0</td>\n",
       "      <td>-0.001667</td>\n",
       "    </tr>\n",
       "    <tr>\n",
       "      <th>5</th>\n",
       "      <td>25-29</td>\n",
       "      <td>596</td>\n",
       "      <td>-4.0</td>\n",
       "      <td>-0.001342</td>\n",
       "    </tr>\n",
       "    <tr>\n",
       "      <th>6</th>\n",
       "      <td>30-34</td>\n",
       "      <td>697</td>\n",
       "      <td>101.0</td>\n",
       "      <td>0.028981</td>\n",
       "    </tr>\n",
       "    <tr>\n",
       "      <th>7</th>\n",
       "      <td>35-39</td>\n",
       "      <td>767</td>\n",
       "      <td>70.0</td>\n",
       "      <td>0.018253</td>\n",
       "    </tr>\n",
       "    <tr>\n",
       "      <th>8</th>\n",
       "      <td>40-44</td>\n",
       "      <td>710</td>\n",
       "      <td>-57.0</td>\n",
       "      <td>-0.016056</td>\n",
       "    </tr>\n",
       "    <tr>\n",
       "      <th>9</th>\n",
       "      <td>45-49</td>\n",
       "      <td>617</td>\n",
       "      <td>-93.0</td>\n",
       "      <td>-0.030146</td>\n",
       "    </tr>\n",
       "    <tr>\n",
       "      <th>10</th>\n",
       "      <td>50-54</td>\n",
       "      <td>527</td>\n",
       "      <td>-90.0</td>\n",
       "      <td>-0.034156</td>\n",
       "    </tr>\n",
       "    <tr>\n",
       "      <th>11</th>\n",
       "      <td>55-59</td>\n",
       "      <td>424</td>\n",
       "      <td>-103.0</td>\n",
       "      <td>-0.048585</td>\n",
       "    </tr>\n",
       "    <tr>\n",
       "      <th>12</th>\n",
       "      <td>60-64</td>\n",
       "      <td>347</td>\n",
       "      <td>-77.0</td>\n",
       "      <td>-0.044380</td>\n",
       "    </tr>\n",
       "    <tr>\n",
       "      <th>13</th>\n",
       "      <td>65-69</td>\n",
       "      <td>284</td>\n",
       "      <td>-63.0</td>\n",
       "      <td>-0.044366</td>\n",
       "    </tr>\n",
       "    <tr>\n",
       "      <th>14</th>\n",
       "      <td>70-74</td>\n",
       "      <td>203</td>\n",
       "      <td>-81.0</td>\n",
       "      <td>-0.079803</td>\n",
       "    </tr>\n",
       "    <tr>\n",
       "      <th>15</th>\n",
       "      <td>75-79</td>\n",
       "      <td>138</td>\n",
       "      <td>-65.0</td>\n",
       "      <td>-0.094203</td>\n",
       "    </tr>\n",
       "    <tr>\n",
       "      <th>16</th>\n",
       "      <td>80-84</td>\n",
       "      <td>123</td>\n",
       "      <td>-15.0</td>\n",
       "      <td>-0.024390</td>\n",
       "    </tr>\n",
       "    <tr>\n",
       "      <th>17</th>\n",
       "      <td>85-89</td>\n",
       "      <td>46</td>\n",
       "      <td>-77.0</td>\n",
       "      <td>-0.334783</td>\n",
       "    </tr>\n",
       "    <tr>\n",
       "      <th>18</th>\n",
       "      <td>90-94</td>\n",
       "      <td>17</td>\n",
       "      <td>-29.0</td>\n",
       "      <td>-0.341176</td>\n",
       "    </tr>\n",
       "    <tr>\n",
       "      <th>19</th>\n",
       "      <td>95-99</td>\n",
       "      <td>9</td>\n",
       "      <td>-8.0</td>\n",
       "      <td>-0.177778</td>\n",
       "    </tr>\n",
       "    <tr>\n",
       "      <th>20</th>\n",
       "      <td>100-104</td>\n",
       "      <td>10</td>\n",
       "      <td>1.0</td>\n",
       "      <td>0.020000</td>\n",
       "    </tr>\n",
       "  </tbody>\n",
       "</table>\n",
       "</div>"
      ],
      "text/plain": [
       "   Age group  Number of people  Deaths  Death rate per annum\n",
       "0        0-4               537     NaN                   NaN\n",
       "1        5-9               624    87.0              0.027885\n",
       "2      10-14               616    -8.0             -0.002597\n",
       "3      15-19               605   -11.0             -0.003636\n",
       "4      20-24               600    -5.0             -0.001667\n",
       "5      25-29               596    -4.0             -0.001342\n",
       "6      30-34               697   101.0              0.028981\n",
       "7      35-39               767    70.0              0.018253\n",
       "8      40-44               710   -57.0             -0.016056\n",
       "9      45-49               617   -93.0             -0.030146\n",
       "10     50-54               527   -90.0             -0.034156\n",
       "11     55-59               424  -103.0             -0.048585\n",
       "12     60-64               347   -77.0             -0.044380\n",
       "13     65-69               284   -63.0             -0.044366\n",
       "14     70-74               203   -81.0             -0.079803\n",
       "15     75-79               138   -65.0             -0.094203\n",
       "16     80-84               123   -15.0             -0.024390\n",
       "17     85-89                46   -77.0             -0.334783\n",
       "18     90-94                17   -29.0             -0.341176\n",
       "19     95-99                 9    -8.0             -0.177778\n",
       "20   100-104                10     1.0              0.020000"
      ]
     },
     "execution_count": 133,
     "metadata": {},
     "output_type": "execute_result"
    }
   ],
   "source": [
    "# function to create age bins of width 5 years\n",
    "age_bins = range(0, 110, 5)\n",
    "df_clean['Age_group'] = pd.cut(df['Age'], bins=age_bins, labels=[f'{i}-{i+4}' for i in age_bins[:-1]])\n",
    "\n",
    "# calculate number of people and deaths for each age band\n",
    "df_age_band = df_clean.groupby('Age_group').agg({'Age': 'count'})\n",
    "df_age_band.columns = ['Number of people']\n",
    "df_age_band['Deaths'] = df_age_band['Number of people'].diff()\n",
    "\n",
    "# calculate death rate per annum for each age band\n",
    "age_band_width = 5\n",
    "df_age_band['Death rate per annum'] = df_age_band['Deaths'] / (df_age_band['Number of people'] * age_band_width)\n",
    "\n",
    "df_age_band.reset_index(inplace=True)\n",
    "df_age_band.rename(columns={'Age_group': 'Age group'}, inplace=True)\n",
    "\n",
    "df_age_band\n"
   ]
  },
  {
   "cell_type": "code",
   "execution_count": 134,
   "id": "7496916b",
   "metadata": {},
   "outputs": [
    {
     "name": "stdout",
     "output_type": "stream",
     "text": [
      "Total Death rate per annum: -0.06\n",
      "Total Death rate per 1000 persons: -61.44\n"
     ]
    }
   ],
   "source": [
    "# calculate the total death rate per annum\n",
    "total_death_rate = df_age_band['Deaths'].sum() / df_clean['Age'].count()\n",
    "print(f\"Total Death rate per annum: {total_death_rate:.2f}\")\n",
    "print(f\"Total Death rate per 1000 persons: {total_death_rate*1000:.2f}\")\n"
   ]
  },
  {
   "cell_type": "code",
   "execution_count": 135,
   "id": "73b32103",
   "metadata": {},
   "outputs": [
    {
     "data": {
      "image/png": "[encoded data removed]",
      "text/plain": [
       "<Figure size 800x600 with 1 Axes>"
      ]
     },
     "metadata": {},
     "output_type": "display_data"
    },
    {
     "name": "stdout",
     "output_type": "stream",
     "text": [
      "Figure saved as birth_death_rates.png\n"
     ]
    }
   ],
   "source": [
    "# calculate birth and death rates\n",
    "children_aged_zero = df_clean.query('Age == 0').shape[0]\n",
    "potential_women = df.query('23 <= Age <= 31').shape[0]\n",
    "birth_rate = children_aged_zero / potential_women\n",
    "birth_rate_per_1000 = birth_rate * 1000\n",
    "\n",
    "df_age_band = df_clean.groupby(pd.cut(df_clean['Age'], range(0, 110, 5))).size().reset_index(name='counts')\n",
    "df_age_band['Deaths'] = df_age_band['counts'].diff()\n",
    "age_band_width = 5\n",
    "df_age_band['Death rate per annum'] = df_age_band['Deaths'] / (df_age_band['counts'] * age_band_width)\n",
    "total_death_rate = df_age_band['Deaths'].sum() / df_clean['Age'].count()\n",
    "\n",
    "# plot the bar graph\n",
    "fig, ax = plt.subplots(figsize=(8, 6))\n",
    "ax.bar(['Birth Rate', 'Death Rate'], [birth_rate_per_1000, total_death_rate * 1000], color=['blue', 'red'])\n",
    "ax.set_ylabel('Rate per 1000')\n",
    "ax.set_title('Comparison of Birth and Death Rates')\n",
    "plt.show()\n",
    "\n",
    "# save the figure\n",
    "fig.savefig('birth_death_rates.png')\n",
    "\n",
    "print('Figure saved as birth_death_rates.png')\n"
   ]
  },
  {
   "cell_type": "markdown",
   "id": "ab5a187d",
   "metadata": {},
   "source": [
    "#### This applies if there are no immigration or emmigration."
   ]
  },
  {
   "cell_type": "markdown",
   "id": "5294b568",
   "metadata": {},
   "source": [
    "## Migration"
   ]
  },
  {
   "cell_type": "code",
   "execution_count": 136,
   "id": "7f93107c",
   "metadata": {},
   "outputs": [
    {
     "data": {
      "text/plain": [
       "Head                     2991\n",
       "Son                      1447\n",
       "Daughter                 1421\n",
       "Husband                   957\n",
       "None                      600\n",
       "Wife                      335\n",
       "Partner                   265\n",
       "Lodger                    263\n",
       "Granddaughter              65\n",
       "Grandson                   60\n",
       "Sibling                    36\n",
       "Cousin                     27\n",
       "Visitor                    20\n",
       "Adopted Daughter           18\n",
       "Adopted Son                17\n",
       "Neice                      16\n",
       "Nephew                     13\n",
       "Step-Son                   13\n",
       "Step-Daughter              11\n",
       "Son-in-law                  1\n",
       "Adopted Granddaughter       1\n",
       "Name: Relationship to Head of House, dtype: int64"
      ]
     },
     "execution_count": 136,
     "metadata": {},
     "output_type": "execute_result"
    }
   ],
   "source": [
    "#Recommended from presentation\n",
    "df['Relationship to Head of House'].value_counts()"
   ]
  },
  {
   "cell_type": "code",
   "execution_count": 137,
   "id": "d227a44d",
   "metadata": {},
   "outputs": [
    {
     "name": "stdout",
     "output_type": "stream",
     "text": [
      "Immigration counts:\n",
      " Male      151\n",
      "Female    132\n",
      "Name: Gender, dtype: int64\n",
      "\n",
      "Emigration counts:\n",
      " Female    2117\n",
      "Male       874\n",
      "Name: Gender, dtype: int64\n"
     ]
    }
   ],
   "source": [
    "# Create a copy of the original dataframe\n",
    "df_immigration = df_clean.copy()\n",
    "\n",
    "# Define a list of values for Lodger and Visitor to be categorized as individuals moving between places\n",
    "immigration_values = ['Lodger', 'Visitor']\n",
    "\n",
    "# Create a new column 'Immigration' to categorize individuals as immigrants, emigrants, or non-movers\n",
    "df_immigration['Immigration'] = df_immigration['Relationship to Head of House'].apply(lambda x: 'Immigrant' if x in immigration_values else ('Emigrant' if x == 'Head' else 'Non-Mover'))\n",
    "\n",
    "# Calculate immigration and emigration counts based on gender\n",
    "immigrant_counts = df_immigration[df_immigration['Immigration'] == 'Immigrant']['Gender'].value_counts()\n",
    "emigrant_counts = df_immigration[df_immigration['Immigration'] == 'Emigrant']['Gender'].value_counts()\n",
    "\n",
    "# Print the results\n",
    "print(\"Immigration counts:\\n\", immigrant_counts)\n",
    "print(\"\\nEmigration counts:\\n\", emigrant_counts)\n"
   ]
  },
  {
   "cell_type": "code",
   "execution_count": 138,
   "id": "dacf4d9d",
   "metadata": {},
   "outputs": [
    {
     "data": {
      "image/png": "[encoded data removed]",
      "text/plain": [
       "<Figure size 800x600 with 1 Axes>"
      ]
     },
     "metadata": {},
     "output_type": "display_data"
    }
   ],
   "source": [
    "# Create a bar chart showing immigration and emigration counts based on gender\n",
    "fig, ax = plt.subplots(figsize=(8,6))\n",
    "sns.barplot(x=['Male Immigrants', 'Female Immigrants', 'Male Emigrants', 'Female Emigrants'], \n",
    "            y=[immigrant_counts['Male'], immigrant_counts['Female'], emigrant_counts['Male'], emigrant_counts['Female']],\n",
    "            ax=ax)\n",
    "ax.set_title('Immigration and Emigration Counts by Gender')\n",
    "ax.set_ylabel('Count')\n",
    "ax.set_xlabel('')\n",
    "plt.tight_layout()\n",
    "plt.show()\n"
   ]
  },
  {
   "cell_type": "code",
   "execution_count": 143,
   "id": "1c1b37a0",
   "metadata": {},
   "outputs": [
    {
     "data": {
      "image/png": "[encoded data removed]",
      "text/plain": [
       "<Figure size 1080x600 with 2 Axes>"
      ]
     },
     "metadata": {},
     "output_type": "display_data"
    }
   ],
   "source": [
    "# marital status separated by gender\n",
    "sns.catplot(data=df_clean, x='Marital Status', col='Gender', kind='count', height=6, aspect=.9)\n",
    "plt.subplots_adjust(top=0.90)\n",
    "plt.suptitle('Marital status segregation by Gender\\n', fontsize=15)\n",
    "plt.savefig('marital_status_gender_sep.png')\n",
    "plt.show()"
   ]
  },
  {
   "cell_type": "markdown",
   "id": "5ebf06af",
   "metadata": {},
   "source": [
    "## References\n",
    "\n",
    "1. Binning ages: https://datagy.io/pandas-cut-qcut/\n",
    "2. UK Pension age: https://www.gov.uk/state-pension-age\n"
   ]
  },
  {
   "cell_type": "code",
   "execution_count": null,
   "id": "9f34bd63",
   "metadata": {},
   "outputs": [],
   "source": []
  }
 ],
 "metadata": {
  "kernelspec": {
   "display_name": "Python 3 (ipykernel)",
   "language": "python",
   "name": "python3"
  },
  "language_info": {
   "codemirror_mode": {
    "name": "ipython",
    "version": 3
   },
   "file_extension": ".py",
   "mimetype": "text/x-python",
   "name": "python",
   "nbconvert_exporter": "python",
   "pygments_lexer": "ipython3",
   "version": "3.9.13"
  }
 },
 "nbformat": 4,
 "nbformat_minor": 5
}
